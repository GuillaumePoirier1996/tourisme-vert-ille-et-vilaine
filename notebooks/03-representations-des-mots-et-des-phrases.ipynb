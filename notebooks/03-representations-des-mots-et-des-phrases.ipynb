{
 "cells": [
  {
   "cell_type": "markdown",
   "metadata": {},
   "source": [
    "# 📢📢📢 Projet NLP : La parole aux citoyens (Make.org - Le tourisme vert en Ille-et-Vilaine)📢📢📢\n",
    "# Représentation des mots et des phrases\n",
    "## Bibliothèques nécessaires"
   ]
  },
  {
   "cell_type": "code",
   "execution_count": 1,
   "metadata": {},
   "outputs": [],
   "source": [
    "import pandas as pd\n",
    "from sklearn.manifold import TSNE\n",
    "import plotly.express as px\n",
    "import plotly.offline as pyo\n",
    "from gensim.models import Word2Vec\n",
    "import numpy as np\n",
    "from typing import Tuple\n",
    "import ast"
   ]
  },
  {
   "cell_type": "markdown",
   "metadata": {},
   "source": [
    "## Lecture des données"
   ]
  },
  {
   "cell_type": "code",
   "execution_count": 2,
   "metadata": {},
   "outputs": [
    {
     "data": {
      "text/html": [
       "<div>\n",
       "<style scoped>\n",
       "    .dataframe tbody tr th:only-of-type {\n",
       "        vertical-align: middle;\n",
       "    }\n",
       "\n",
       "    .dataframe tbody tr th {\n",
       "        vertical-align: top;\n",
       "    }\n",
       "\n",
       "    .dataframe thead th {\n",
       "        text-align: right;\n",
       "    }\n",
       "</style>\n",
       "<table border=\"1\" class=\"dataframe\">\n",
       "  <thead>\n",
       "    <tr style=\"text-align: right;\">\n",
       "      <th></th>\n",
       "      <th>content</th>\n",
       "      <th>agree_count</th>\n",
       "      <th>disagree_count</th>\n",
       "      <th>neutral_count</th>\n",
       "      <th>agree_score</th>\n",
       "      <th>disagree_score</th>\n",
       "      <th>neutral_score</th>\n",
       "      <th>doNotCare</th>\n",
       "      <th>doNotUnderstand</th>\n",
       "      <th>doable</th>\n",
       "      <th>...</th>\n",
       "      <th>platitudeAgree</th>\n",
       "      <th>platitudeDisagree</th>\n",
       "      <th>nb_interrogations</th>\n",
       "      <th>nb_exclamation</th>\n",
       "      <th>tokens</th>\n",
       "      <th>case</th>\n",
       "      <th>tokens_normalized</th>\n",
       "      <th>stop_words</th>\n",
       "      <th>tokens_final</th>\n",
       "      <th>tokens_lemmatized</th>\n",
       "    </tr>\n",
       "  </thead>\n",
       "  <tbody>\n",
       "    <tr>\n",
       "      <th>0</th>\n",
       "      <td>Il faut une surveillance des lieux touristique...</td>\n",
       "      <td>27</td>\n",
       "      <td>7</td>\n",
       "      <td>7</td>\n",
       "      <td>0.65</td>\n",
       "      <td>0.18</td>\n",
       "      <td>0.17</td>\n",
       "      <td>1</td>\n",
       "      <td>0</td>\n",
       "      <td>8</td>\n",
       "      <td>...</td>\n",
       "      <td>3</td>\n",
       "      <td>4</td>\n",
       "      <td>0</td>\n",
       "      <td>0</td>\n",
       "      <td>['Il', 'faut', 'une', 'surveillance', 'des', '...</td>\n",
       "      <td>['Min', 'Min', 'Min', 'Min', 'Min', 'Min', 'Mi...</td>\n",
       "      <td>['une', 'surveillance', 'des', 'lieux', 'touri...</td>\n",
       "      <td>['il', 'une', 'des', 'avec', 'la', 'pour', 'ou']</td>\n",
       "      <td>['surveillance', 'lieux', 'amende', 'clef', 'd...</td>\n",
       "      <td>['surveillance', 'lieux', 'touristique', 'amen...</td>\n",
       "    </tr>\n",
       "    <tr>\n",
       "      <th>1</th>\n",
       "      <td>Il faut donner des sacs poubelles et des cendr...</td>\n",
       "      <td>56</td>\n",
       "      <td>18</td>\n",
       "      <td>15</td>\n",
       "      <td>0.62</td>\n",
       "      <td>0.19</td>\n",
       "      <td>0.19</td>\n",
       "      <td>0</td>\n",
       "      <td>0</td>\n",
       "      <td>21</td>\n",
       "      <td>...</td>\n",
       "      <td>5</td>\n",
       "      <td>7</td>\n",
       "      <td>0</td>\n",
       "      <td>0</td>\n",
       "      <td>['Il', 'faut', 'donner', 'des', 'sacs', 'poube...</td>\n",
       "      <td>['Min', 'Min', 'Min', 'Min', 'Min', 'Min', 'Mi...</td>\n",
       "      <td>['donner', 'des', 'sacs', 'poubelles', 'et', '...</td>\n",
       "      <td>['il', 'des', 'et', 'des', 'de', 'aux', 'des',...</td>\n",
       "      <td>['donner', 'sac', 'poubelle', 'cendrier', 'poc...</td>\n",
       "      <td>['donner', 'sac', 'poubelle', 'cendrier', 'poc...</td>\n",
       "    </tr>\n",
       "    <tr>\n",
       "      <th>2</th>\n",
       "      <td>Il faut récompenser et mettre en avant les act...</td>\n",
       "      <td>35</td>\n",
       "      <td>7</td>\n",
       "      <td>14</td>\n",
       "      <td>0.62</td>\n",
       "      <td>0.13</td>\n",
       "      <td>0.25</td>\n",
       "      <td>0</td>\n",
       "      <td>5</td>\n",
       "      <td>12</td>\n",
       "      <td>...</td>\n",
       "      <td>1</td>\n",
       "      <td>5</td>\n",
       "      <td>0</td>\n",
       "      <td>0</td>\n",
       "      <td>['Il', 'faut', 'récompenser', 'et', 'mettre', ...</td>\n",
       "      <td>['Min', 'Min', 'Min', 'Min', 'Min', 'Min', 'Mi...</td>\n",
       "      <td>['recompenser', 'et', 'mettre', 'en', 'avant',...</td>\n",
       "      <td>['il', 'et', 'en', 'les', 'des', 'du', 'et', '...</td>\n",
       "      <td>['recompenser', 'mettre', 'avant', 'acte', 'pr...</td>\n",
       "      <td>['recompenser', 'mettre', 'avant', 'acte', 'pr...</td>\n",
       "    </tr>\n",
       "  </tbody>\n",
       "</table>\n",
       "<p>3 rows × 24 columns</p>\n",
       "</div>"
      ],
      "text/plain": [
       "                                             content  agree_count  \\\n",
       "0  Il faut une surveillance des lieux touristique...           27   \n",
       "1  Il faut donner des sacs poubelles et des cendr...           56   \n",
       "2  Il faut récompenser et mettre en avant les act...           35   \n",
       "\n",
       "   disagree_count  neutral_count  agree_score  disagree_score  neutral_score  \\\n",
       "0               7              7         0.65            0.18           0.17   \n",
       "1              18             15         0.62            0.19           0.19   \n",
       "2               7             14         0.62            0.13           0.25   \n",
       "\n",
       "   doNotCare  doNotUnderstand  doable  ...  platitudeAgree  platitudeDisagree  \\\n",
       "0          1                0       8  ...               3                  4   \n",
       "1          0                0      21  ...               5                  7   \n",
       "2          0                5      12  ...               1                  5   \n",
       "\n",
       "   nb_interrogations  nb_exclamation  \\\n",
       "0                  0               0   \n",
       "1                  0               0   \n",
       "2                  0               0   \n",
       "\n",
       "                                              tokens  \\\n",
       "0  ['Il', 'faut', 'une', 'surveillance', 'des', '...   \n",
       "1  ['Il', 'faut', 'donner', 'des', 'sacs', 'poube...   \n",
       "2  ['Il', 'faut', 'récompenser', 'et', 'mettre', ...   \n",
       "\n",
       "                                                case  \\\n",
       "0  ['Min', 'Min', 'Min', 'Min', 'Min', 'Min', 'Mi...   \n",
       "1  ['Min', 'Min', 'Min', 'Min', 'Min', 'Min', 'Mi...   \n",
       "2  ['Min', 'Min', 'Min', 'Min', 'Min', 'Min', 'Mi...   \n",
       "\n",
       "                                   tokens_normalized  \\\n",
       "0  ['une', 'surveillance', 'des', 'lieux', 'touri...   \n",
       "1  ['donner', 'des', 'sacs', 'poubelles', 'et', '...   \n",
       "2  ['recompenser', 'et', 'mettre', 'en', 'avant',...   \n",
       "\n",
       "                                          stop_words  \\\n",
       "0   ['il', 'une', 'des', 'avec', 'la', 'pour', 'ou']   \n",
       "1  ['il', 'des', 'et', 'des', 'de', 'aux', 'des',...   \n",
       "2  ['il', 'et', 'en', 'les', 'des', 'du', 'et', '...   \n",
       "\n",
       "                                        tokens_final  \\\n",
       "0  ['surveillance', 'lieux', 'amende', 'clef', 'd...   \n",
       "1  ['donner', 'sac', 'poubelle', 'cendrier', 'poc...   \n",
       "2  ['recompenser', 'mettre', 'avant', 'acte', 'pr...   \n",
       "\n",
       "                                   tokens_lemmatized  \n",
       "0  ['surveillance', 'lieux', 'touristique', 'amen...  \n",
       "1  ['donner', 'sac', 'poubelle', 'cendrier', 'poc...  \n",
       "2  ['recompenser', 'mettre', 'avant', 'acte', 'pr...  \n",
       "\n",
       "[3 rows x 24 columns]"
      ]
     },
     "execution_count": 2,
     "metadata": {},
     "output_type": "execute_result"
    }
   ],
   "source": [
    "df = pd.read_csv(\n",
    "    \"../data/processed/req_tourisme_responsable_tokenised.csv\",\n",
    "    delimiter=\";\",\n",
    "    encoding=\"utf-8\"\n",
    ")\n",
    "\n",
    "df.head(3)"
   ]
  },
  {
   "cell_type": "markdown",
   "metadata": {},
   "source": [
    "## Chargement des différents modèles"
   ]
  },
  {
   "cell_type": "code",
   "execution_count": 3,
   "metadata": {},
   "outputs": [],
   "source": [
    "cbow_with_stop_words = Word2Vec.load(\"../outputs/WE_models/cbow_20D_0\")\n",
    "cbow_without_stop_words = Word2Vec.load(\"../outputs/WE_models/cbow_20D_1\")\n",
    "skgram_with_stop_words = Word2Vec.load(\"../outputs/WE_models/skgram_20D_0\")\n",
    "skgram_without_stop_words = Word2Vec.load(\"../outputs/WE_models/skgram_20D_1\")"
   ]
  },
  {
   "cell_type": "markdown",
   "metadata": {},
   "source": [
    "## Réduction de dimension (2D) et répresentation des mots\n",
    "### Petite fonction applicable pour chaque modèle"
   ]
  },
  {
   "cell_type": "code",
   "execution_count": 4,
   "metadata": {},
   "outputs": [],
   "source": [
    "def make_2D_plots(model: Word2Vec, title: str, perplexity: int = 5, metric: str = 'cosine', random_state: int = 42) -> Tuple[pd.DataFrame, px.scatter]:\n",
    "    \"\"\"\n",
    "    Create a 2D plot of word vectors using t-SNE and Plotly.\n",
    "\n",
    "    Args:\n",
    "        model (Word2Vec): Trained Word2Vec model.\n",
    "        title (str): Title for the Plotly chart.\n",
    "        perplexity (int): Perplexity parameter for t-SNE.\n",
    "        metric (str): Distance metric for t-SNE ('cosine' recommended).\n",
    "        random_state (int): Random state for reproducibility.\n",
    "\n",
    "    Returns:\n",
    "        Tuple[pd.DataFrame, plotly.graph_objects.Figure]: DataFrame of 2D vectors and the Plotly figure.\n",
    "    \"\"\"\n",
    "    # Get word vectors and vocabulary\n",
    "    vectors = model.wv.vectors\n",
    "    words = model.wv.index_to_key\n",
    "\n",
    "    # Apply t-SNE for dimensionality reduction\n",
    "    tsne = TSNE(n_components=2, perplexity=perplexity, metric=metric, random_state=random_state)\n",
    "    vectors_2d = tsne.fit_transform(vectors)\n",
    "\n",
    "    # Create DataFrame\n",
    "    df_vectors = pd.DataFrame(vectors_2d, columns=['x', 'y'])\n",
    "    df_vectors['word'] = words\n",
    "\n",
    "    # Plot with Plotly\n",
    "    fig = px.scatter(df_vectors, x='x', y='y', hover_name='word', title=title, color_discrete_sequence=['green'])\n",
    "    fig.update_traces(textposition='top center', showlegend=False)\n",
    "    fig.update_xaxes(visible=False)\n",
    "    fig.update_yaxes(visible=False)\n",
    "    fig.update_layout(\n",
    "        template='simple_white',\n",
    "        title=dict(\n",
    "            font=dict(size=25, color=\"black\", family=\"Arial\"),\n",
    "            xanchor=\"center\",\n",
    "            yanchor=\"top\",\n",
    "            x=0.5,\n",
    "            y=0.95\n",
    "        )\n",
    "    )\n",
    "\n",
    "    return df_vectors, fig"
   ]
  },
  {
   "cell_type": "code",
   "execution_count": 5,
   "metadata": {},
   "outputs": [
    {
     "name": "stderr",
     "output_type": "stream",
     "text": [
      "Exception in thread Thread-4 (_readerthread):\n",
      "Traceback (most recent call last):\n",
      "  File \"c:\\Dev\\envs\\tourisme-vert-env\\Lib\\threading.py\", line 1045, in _bootstrap_inner\n",
      "    self.run()\n",
      "  File \"c:\\Dev\\envs\\tourisme-vert-env\\Lib\\site-packages\\ipykernel\\ipkernel.py\", line 766, in run_closure\n",
      "    _threading_Thread_run(self)\n",
      "  File \"c:\\Dev\\envs\\tourisme-vert-env\\Lib\\threading.py\", line 982, in run\n",
      "    self._target(*self._args, **self._kwargs)\n",
      "  File \"c:\\Dev\\envs\\tourisme-vert-env\\Lib\\subprocess.py\", line 1599, in _readerthread\n",
      "    buffer.append(fh.read())\n",
      "                  ^^^^^^^^^\n",
      "  File \"<frozen codecs>\", line 322, in decode\n",
      "UnicodeDecodeError: 'utf-8' codec can't decode byte 0x82 in position 101: invalid start byte\n"
     ]
    }
   ],
   "source": [
    "figs = {}\n",
    "for model in [\n",
    "    (cbow_with_stop_words, \"CBOW with Stopwords\"),\n",
    "    (cbow_without_stop_words, \"CBOW without Stopwords\"),\n",
    "    (skgram_with_stop_words, \"Skip-Gram with Stopwords\"),\n",
    "    (skgram_without_stop_words, \"Skip-Gram without Stopwords\")\n",
    "]:\n",
    "    title = f\"2D Word Embeddings ({model[1]})\"\n",
    "    df_2D, fig = make_2D_plots(model[0], title)\n",
    "    figs[title] = (df_2D, fig)\n",
    "    pyo.plot(fig, filename=f'../outputs/{title}.html', auto_open=False)"
   ]
  },
  {
   "cell_type": "code",
   "execution_count": 6,
   "metadata": {},
   "outputs": [
    {
     "data": {
      "application/vnd.plotly.v1+json": {
       "config": {
        "plotlyServerURL": "https://plot.ly"
       },
       "data": [
        {
         "hovertemplate": "<b>%{hovertext}</b><br><br>x=%{x}<br>y=%{y}<extra></extra>",
         "hovertext": [
          "local",
          "developper",
          "transport",
          "train",
          "site",
          "mettre",
          "lieux",
          "vacance",
          "responsable",
          "limiter",
          "camping",
          "proposer",
          "velo",
          "favoriser",
          "creer",
          "dechet",
          "durable",
          "place",
          "naturel",
          "interdir",
          "territoire",
          "environnement",
          "afin",
          "pouvoir",
          "acteur",
          "acce",
          "hebergement",
          "comme",
          "inciter",
          "rendre",
          "sejour",
          "car",
          "promouvoir",
          "moins",
          "commun",
          "permettre",
          "ville",
          "chaque",
          "sensibiliser",
          "encourager",
          "france",
          "eau",
          "arreter",
          "impact",
          "nature",
          "autre",
          "petit",
          "grand",
          "region",
          "nombre",
          "destination",
          "activite",
          "etre",
          "non",
          "cyclable",
          "bon",
          "plage",
          "poubelle",
          "etc",
          "voyage",
          "avion",
          "prix",
          "eco",
          "privilegier",
          "zone",
          "moyen",
          "certain",
          "offrir",
          "eviter",
          "habitant",
          "deplacement",
          "hotel",
          "action",
          "espace",
          "respecter",
          "accessible",
          "mieux",
          "produire",
          "velos",
          "valoriser",
          "piste",
          "offre",
          "tri",
          "rural",
          "voiture",
          "public",
          "parking",
          "accueil",
          "bien",
          "polluant",
          "prendre",
          "solution",
          "entrer",
          "demarche",
          "aire",
          "mode",
          "national",
          "augmenter",
          "soutenir",
          "parc",
          "court",
          "service",
          "vol",
          "exemple",
          "personne",
          "structure",
          "aussi",
          "taxer",
          "faciliter",
          "francai",
          "pollution",
          "vert",
          "projet",
          "circuit",
          "preserver",
          "vehicule",
          "masse",
          "aider",
          "pratique",
          "davantage",
          "vers",
          "trop",
          "visite",
          "vie",
          "professionnel",
          "sans",
          "avant",
          "nouveau",
          "location",
          "ferroviaire",
          "itineraire",
          "carbon",
          "respect",
          "long",
          "voir",
          "trajet",
          "surtout",
          "office",
          "usage",
          "label",
          "celui",
          "utilisation",
          "plastique",
          "ligne",
          "taxe",
          "developpement",
          "notamment",
          "reduir",
          "population",
          "meme",
          "partir",
          "visiteur",
          "proximite",
          "voyageur",
          "doux",
          "route",
          "utiliser",
          "mobilite",
          "patrimoine",
          "ex",
          "voie",
          "engager",
          "impliquer",
          "carbone",
          "tre",
          "informer",
          "voyager",
          "flux",
          "citoyen",
          "celer",
          "peu",
          "guide",
          "donner",
          "avoir",
          "diminuer",
          "toilette",
          "ecologique",
          "maximum",
          "sensibilisation",
          "aller",
          "construction",
          "economie",
          "chemin",
          "voyag",
          "organiser",
          "possible",
          "jeune",
          "tourist",
          "ameliorer",
          "loisir",
          "billet",
          "consommation",
          "interdire",
          "chez",
          "supprimer",
          "electrique",
          "simple",
          "frequentation",
          "centre",
          "conscience",
          "journee",
          "ecologiqu",
          "social",
          "entreprise",
          "tarif",
          "cesser",
          "fort",
          "payer",
          "integrer",
          "produit",
          "decouvrir",
          "si",
          "reseau",
          "falloir",
          "attractif",
          "etranger",
          "nuire",
          "promotion",
          "croisiere",
          "jet",
          "ski",
          "mer",
          "remettre",
          "client",
          "ensembl",
          "devoir",
          "forme",
          "experience",
          "reduction",
          "aupre",
          "enfant",
          "nettoyage",
          "polluer",
          "lieu",
          "alternative",
          "point",
          "sauvage",
          "gen",
          "bord",
          "lors",
          "apprendre",
          "commune",
          "pied",
          "partout",
          "annee",
          "saison",
          "revenir",
          "culture",
          "empreindre",
          "regional",
          "biodiversite",
          "campagne",
          "individuel",
          "plutot",
          "interieur",
          "navette",
          "laisser",
          "frequente",
          "groupe",
          "imposer",
          "propre",
          "etablissement",
          "village",
          "aide",
          "producteur",
          "type",
          "regle",
          "proteger",
          "boire",
          "tax",
          "cher",
          "collectif",
          "installer",
          "protection",
          "gestion",
          "aerien",
          "mem",
          "gare",
          "autour",
          "typ",
          "logement",
          "entree",
          "effet",
          "communication",
          "environnemental",
          "trouver",
          "infrastructure",
          "politique",
          "devenir",
          "eduquer",
          "vacancier",
          "achat",
          "slow",
          "richesse",
          "charte",
          "an",
          "souvenir",
          "sentier",
          "repartir",
          "ludique",
          "emballage",
          "territoir",
          "outil",
          "energie",
          "accueillir",
          "selectif",
          "continuer",
          "restaurant",
          "consommer",
          "foret",
          "obliger",
          "preservation",
          "solaire",
          "montagn",
          "reduire",
          "monde",
          "station",
          "carte",
          "unique",
          "accompagner",
          "formation",
          "souvent",
          "participer",
          "prevoir",
          "possibilite",
          "existant",
          "montrer",
          "restaurateur",
          "agritourisme",
          "secteur",
          "restauration",
          "famille",
          "emploi",
          "sensible",
          "ca",
          "alimentaire",
          "education",
          "via",
          "scolaire",
          "plan",
          "chacun",
          "vrai",
          "lien",
          "personnel",
          "choix",
          "beaucoup",
          "periode",
          "panneau",
          "wc",
          "donc",
          "compte",
          "financer",
          "sport",
          "assurer",
          "depart",
          "maison",
          "amenagement",
          "hotelier",
          "disposition",
          "sac",
          "appliquer",
          "penser",
          "residence",
          "animal",
          "ferme",
          "depuis",
          "nombreux",
          "encore",
          "urbain",
          "alternatif",
          "randonnee",
          "enjeux",
          "reservation",
          "sou",
          "vendre",
          "passer",
          "habiter",
          "former",
          "venir",
          "indiquer",
          "hors",
          "stationnement",
          "dont",
          "littoral",
          "jour",
          "sol",
          "besoin",
          "fragile",
          "exister",
          "prive",
          "quota",
          "gens",
          "amenager",
          "visiter",
          "reguler",
          "electricite",
          "geste",
          "proche",
          "valeur",
          "multiplier",
          "systeme",
          "engagement",
          "bus",
          "co",
          "niveau",
          "renforcer",
          "acceder",
          "amende",
          "cout",
          "cheque",
          "mise",
          "respectueux",
          "loin",
          "commerce",
          "gite",
          "decouverte",
          "mesure",
          "adapter",
          "humain",
          "ainsi",
          "ancien",
          "consigne",
          "initiative",
          "equipement",
          "meilleur",
          "air",
          "emission",
          "qualite",
          "electriqu",
          "covoiturage",
          "port",
          "pays",
          "urbanisme",
          "cycliste",
          "travailler",
          "hebergeur",
          "communiquer",
          "veloroute",
          "reel",
          "saisonnier",
          "comportement",
          "pendant",
          "seul",
          "changer",
          "quotidien",
          "decouvert",
          "piqu",
          "deja",
          "material",
          "qualit",
          "usager",
          "vivre",
          "construire",
          "abord",
          "savoir",
          "seche",
          "circulation",
          "protege",
          "compenser",
          "recycler",
          "engage",
          "distance",
          "paysage",
          "rester",
          "juste",
          "zero",
          "sauf",
          "dire",
          "obligatoire",
          "atelier",
          "terme",
          "deplacer",
          "inspirer",
          "ramasser",
          "entretien",
          "sens",
          "ressource",
          "autocar",
          "profiter",
          "ete",
          "marche",
          "voitur",
          "modele",
          "pro",
          "bateau",
          "papier",
          "repenser",
          "bateal",
          "strategie",
          "jete",
          "fonction",
          "bilan",
          "accessibilite",
          "terrain",
          "fin",
          "green",
          "contre",
          "plein",
          "instaurer",
          "economiqu",
          "recompenser",
          "securisee",
          "collectivite",
          "porte",
          "inclure",
          "secondaire",
          "demander",
          "information",
          "manier",
          "hote",
          "monnaie",
          "etablir",
          "seulement",
          "vouloir",
          "agent",
          "verbaliser",
          "rehabiliter",
          "autoroute",
          "echange",
          "prestataire",
          "ensemble",
          "paquebot",
          "etat",
          "gaspillage",
          "recharge",
          "equiper",
          "image",
          "leger",
          "agricole",
          "climatique",
          "moteur",
          "sncf",
          "bouteille",
          "pieton",
          "uniquement",
          "emplacement",
          "age",
          "duree",
          "prise",
          "selon",
          "ecologie",
          "arbre",
          "ecosysteme",
          "internet",
          "confort",
          "controle",
          "sorte",
          "gros",
          "reduit",
          "travail",
          "faible",
          "endroit",
          "jusqu",
          "quand",
          "pollue",
          "comprendre",
          "ramassage",
          "encadrer",
          "approche",
          "rencontre",
          "apporter",
          "pleine",
          "chauffage",
          "jauge",
          "pub",
          "faun",
          "afficher",
          "fait",
          "stopper",
          "international",
          "cc",
          "plui",
          "visible",
          "culturel",
          "tel",
          "cours",
          "fois",
          "flor",
          "contribuer",
          "collect",
          "associer",
          "animation",
          "party",
          "facilement",
          "durabilite",
          "inclusif",
          "cariste",
          "positif",
          "direct",
          "plusieurs",
          "hotellerie",
          "airbnb",
          "ecole",
          "autrement",
          "routier",
          "recyclage",
          "chambre",
          "temps",
          "douce",
          "monument",
          "toujours",
          "quelque",
          "signer",
          "campagn",
          "compris",
          "serre",
          "gaz",
          "pari",
          "metropole",
          "douche",
          "connaitre",
          "prestation",
          "pedestre",
          "inutile",
          "critere",
          "niqu",
          "publicite",
          "bio",
          "kilomètre",
          "organisation",
          "chasse",
          "borne",
          "creation",
          "sanctionner",
          "sonore",
          "redonner",
          "transition",
          "nuitee",
          "association",
          "developpant",
          "pedagogiqu",
          "retablir",
          "etendre",
          "vraiment",
          "transformer",
          "participatif"
         ],
         "legendgroup": "",
         "marker": {
          "color": "green",
          "symbol": "circle"
         },
         "mode": "markers",
         "name": "",
         "orientation": "v",
         "showlegend": false,
         "textposition": "top center",
         "type": "scatter",
         "x": {
          "bdata": "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",
          "dtype": "f4"
         },
         "xaxis": "x",
         "y": {
          "bdata": "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",
          "dtype": "f4"
         },
         "yaxis": "y"
        }
       ],
       "layout": {
        "legend": {
         "tracegroupgap": 0
        },
        "template": {
         "data": {
          "bar": [
           {
            "error_x": {
             "color": "rgb(36,36,36)"
            },
            "error_y": {
             "color": "rgb(36,36,36)"
            },
            "marker": {
             "line": {
              "color": "white",
              "width": 0.5
             },
             "pattern": {
              "fillmode": "overlay",
              "size": 10,
              "solidity": 0.2
             }
            },
            "type": "bar"
           }
          ],
          "barpolar": [
           {
            "marker": {
             "line": {
              "color": "white",
              "width": 0.5
             },
             "pattern": {
              "fillmode": "overlay",
              "size": 10,
              "solidity": 0.2
             }
            },
            "type": "barpolar"
           }
          ],
          "carpet": [
           {
            "aaxis": {
             "endlinecolor": "rgb(36,36,36)",
             "gridcolor": "white",
             "linecolor": "white",
             "minorgridcolor": "white",
             "startlinecolor": "rgb(36,36,36)"
            },
            "baxis": {
             "endlinecolor": "rgb(36,36,36)",
             "gridcolor": "white",
             "linecolor": "white",
             "minorgridcolor": "white",
             "startlinecolor": "rgb(36,36,36)"
            },
            "type": "carpet"
           }
          ],
          "choropleth": [
           {
            "colorbar": {
             "outlinewidth": 1,
             "tickcolor": "rgb(36,36,36)",
             "ticks": "outside"
            },
            "type": "choropleth"
           }
          ],
          "contour": [
           {
            "colorbar": {
             "outlinewidth": 1,
             "tickcolor": "rgb(36,36,36)",
             "ticks": "outside"
            },
            "colorscale": [
             [
              0,
              "#440154"
             ],
             [
              0.1111111111111111,
              "#482878"
             ],
             [
              0.2222222222222222,
              "#3e4989"
             ],
             [
              0.3333333333333333,
              "#31688e"
             ],
             [
              0.4444444444444444,
              "#26828e"
             ],
             [
              0.5555555555555556,
              "#1f9e89"
             ],
             [
              0.6666666666666666,
              "#35b779"
             ],
             [
              0.7777777777777778,
              "#6ece58"
             ],
             [
              0.8888888888888888,
              "#b5de2b"
             ],
             [
              1,
              "#fde725"
             ]
            ],
            "type": "contour"
           }
          ],
          "contourcarpet": [
           {
            "colorbar": {
             "outlinewidth": 1,
             "tickcolor": "rgb(36,36,36)",
             "ticks": "outside"
            },
            "type": "contourcarpet"
           }
          ],
          "heatmap": [
           {
            "colorbar": {
             "outlinewidth": 1,
             "tickcolor": "rgb(36,36,36)",
             "ticks": "outside"
            },
            "colorscale": [
             [
              0,
              "#440154"
             ],
             [
              0.1111111111111111,
              "#482878"
             ],
             [
              0.2222222222222222,
              "#3e4989"
             ],
             [
              0.3333333333333333,
              "#31688e"
             ],
             [
              0.4444444444444444,
              "#26828e"
             ],
             [
              0.5555555555555556,
              "#1f9e89"
             ],
             [
              0.6666666666666666,
              "#35b779"
             ],
             [
              0.7777777777777778,
              "#6ece58"
             ],
             [
              0.8888888888888888,
              "#b5de2b"
             ],
             [
              1,
              "#fde725"
             ]
            ],
            "type": "heatmap"
           }
          ],
          "histogram": [
           {
            "marker": {
             "line": {
              "color": "white",
              "width": 0.6
             }
            },
            "type": "histogram"
           }
          ],
          "histogram2d": [
           {
            "colorbar": {
             "outlinewidth": 1,
             "tickcolor": "rgb(36,36,36)",
             "ticks": "outside"
            },
            "colorscale": [
             [
              0,
              "#440154"
             ],
             [
              0.1111111111111111,
              "#482878"
             ],
             [
              0.2222222222222222,
              "#3e4989"
             ],
             [
              0.3333333333333333,
              "#31688e"
             ],
             [
              0.4444444444444444,
              "#26828e"
             ],
             [
              0.5555555555555556,
              "#1f9e89"
             ],
             [
              0.6666666666666666,
              "#35b779"
             ],
             [
              0.7777777777777778,
              "#6ece58"
             ],
             [
              0.8888888888888888,
              "#b5de2b"
             ],
             [
              1,
              "#fde725"
             ]
            ],
            "type": "histogram2d"
           }
          ],
          "histogram2dcontour": [
           {
            "colorbar": {
             "outlinewidth": 1,
             "tickcolor": "rgb(36,36,36)",
             "ticks": "outside"
            },
            "colorscale": [
             [
              0,
              "#440154"
             ],
             [
              0.1111111111111111,
              "#482878"
             ],
             [
              0.2222222222222222,
              "#3e4989"
             ],
             [
              0.3333333333333333,
              "#31688e"
             ],
             [
              0.4444444444444444,
              "#26828e"
             ],
             [
              0.5555555555555556,
              "#1f9e89"
             ],
             [
              0.6666666666666666,
              "#35b779"
             ],
             [
              0.7777777777777778,
              "#6ece58"
             ],
             [
              0.8888888888888888,
              "#b5de2b"
             ],
             [
              1,
              "#fde725"
             ]
            ],
            "type": "histogram2dcontour"
           }
          ],
          "mesh3d": [
           {
            "colorbar": {
             "outlinewidth": 1,
             "tickcolor": "rgb(36,36,36)",
             "ticks": "outside"
            },
            "type": "mesh3d"
           }
          ],
          "parcoords": [
           {
            "line": {
             "colorbar": {
              "outlinewidth": 1,
              "tickcolor": "rgb(36,36,36)",
              "ticks": "outside"
             }
            },
            "type": "parcoords"
           }
          ],
          "pie": [
           {
            "automargin": true,
            "type": "pie"
           }
          ],
          "scatter": [
           {
            "fillpattern": {
             "fillmode": "overlay",
             "size": 10,
             "solidity": 0.2
            },
            "type": "scatter"
           }
          ],
          "scatter3d": [
           {
            "line": {
             "colorbar": {
              "outlinewidth": 1,
              "tickcolor": "rgb(36,36,36)",
              "ticks": "outside"
             }
            },
            "marker": {
             "colorbar": {
              "outlinewidth": 1,
              "tickcolor": "rgb(36,36,36)",
              "ticks": "outside"
             }
            },
            "type": "scatter3d"
           }
          ],
          "scattercarpet": [
           {
            "marker": {
             "colorbar": {
              "outlinewidth": 1,
              "tickcolor": "rgb(36,36,36)",
              "ticks": "outside"
             }
            },
            "type": "scattercarpet"
           }
          ],
          "scattergeo": [
           {
            "marker": {
             "colorbar": {
              "outlinewidth": 1,
              "tickcolor": "rgb(36,36,36)",
              "ticks": "outside"
             }
            },
            "type": "scattergeo"
           }
          ],
          "scattergl": [
           {
            "marker": {
             "colorbar": {
              "outlinewidth": 1,
              "tickcolor": "rgb(36,36,36)",
              "ticks": "outside"
             }
            },
            "type": "scattergl"
           }
          ],
          "scattermap": [
           {
            "marker": {
             "colorbar": {
              "outlinewidth": 1,
              "tickcolor": "rgb(36,36,36)",
              "ticks": "outside"
             }
            },
            "type": "scattermap"
           }
          ],
          "scattermapbox": [
           {
            "marker": {
             "colorbar": {
              "outlinewidth": 1,
              "tickcolor": "rgb(36,36,36)",
              "ticks": "outside"
             }
            },
            "type": "scattermapbox"
           }
          ],
          "scatterpolar": [
           {
            "marker": {
             "colorbar": {
              "outlinewidth": 1,
              "tickcolor": "rgb(36,36,36)",
              "ticks": "outside"
             }
            },
            "type": "scatterpolar"
           }
          ],
          "scatterpolargl": [
           {
            "marker": {
             "colorbar": {
              "outlinewidth": 1,
              "tickcolor": "rgb(36,36,36)",
              "ticks": "outside"
             }
            },
            "type": "scatterpolargl"
           }
          ],
          "scatterternary": [
           {
            "marker": {
             "colorbar": {
              "outlinewidth": 1,
              "tickcolor": "rgb(36,36,36)",
              "ticks": "outside"
             }
            },
            "type": "scatterternary"
           }
          ],
          "surface": [
           {
            "colorbar": {
             "outlinewidth": 1,
             "tickcolor": "rgb(36,36,36)",
             "ticks": "outside"
            },
            "colorscale": [
             [
              0,
              "#440154"
             ],
             [
              0.1111111111111111,
              "#482878"
             ],
             [
              0.2222222222222222,
              "#3e4989"
             ],
             [
              0.3333333333333333,
              "#31688e"
             ],
             [
              0.4444444444444444,
              "#26828e"
             ],
             [
              0.5555555555555556,
              "#1f9e89"
             ],
             [
              0.6666666666666666,
              "#35b779"
             ],
             [
              0.7777777777777778,
              "#6ece58"
             ],
             [
              0.8888888888888888,
              "#b5de2b"
             ],
             [
              1,
              "#fde725"
             ]
            ],
            "type": "surface"
           }
          ],
          "table": [
           {
            "cells": {
             "fill": {
              "color": "rgb(237,237,237)"
             },
             "line": {
              "color": "white"
             }
            },
            "header": {
             "fill": {
              "color": "rgb(217,217,217)"
             },
             "line": {
              "color": "white"
             }
            },
            "type": "table"
           }
          ]
         },
         "layout": {
          "annotationdefaults": {
           "arrowhead": 0,
           "arrowwidth": 1
          },
          "autotypenumbers": "strict",
          "coloraxis": {
           "colorbar": {
            "outlinewidth": 1,
            "tickcolor": "rgb(36,36,36)",
            "ticks": "outside"
           }
          },
          "colorscale": {
           "diverging": [
            [
             0,
             "rgb(103,0,31)"
            ],
            [
             0.1,
             "rgb(178,24,43)"
            ],
            [
             0.2,
             "rgb(214,96,77)"
            ],
            [
             0.3,
             "rgb(244,165,130)"
            ],
            [
             0.4,
             "rgb(253,219,199)"
            ],
            [
             0.5,
             "rgb(247,247,247)"
            ],
            [
             0.6,
             "rgb(209,229,240)"
            ],
            [
             0.7,
             "rgb(146,197,222)"
            ],
            [
             0.8,
             "rgb(67,147,195)"
            ],
            [
             0.9,
             "rgb(33,102,172)"
            ],
            [
             1,
             "rgb(5,48,97)"
            ]
           ],
           "sequential": [
            [
             0,
             "#440154"
            ],
            [
             0.1111111111111111,
             "#482878"
            ],
            [
             0.2222222222222222,
             "#3e4989"
            ],
            [
             0.3333333333333333,
             "#31688e"
            ],
            [
             0.4444444444444444,
             "#26828e"
            ],
            [
             0.5555555555555556,
             "#1f9e89"
            ],
            [
             0.6666666666666666,
             "#35b779"
            ],
            [
             0.7777777777777778,
             "#6ece58"
            ],
            [
             0.8888888888888888,
             "#b5de2b"
            ],
            [
             1,
             "#fde725"
            ]
           ],
           "sequentialminus": [
            [
             0,
             "#440154"
            ],
            [
             0.1111111111111111,
             "#482878"
            ],
            [
             0.2222222222222222,
             "#3e4989"
            ],
            [
             0.3333333333333333,
             "#31688e"
            ],
            [
             0.4444444444444444,
             "#26828e"
            ],
            [
             0.5555555555555556,
             "#1f9e89"
            ],
            [
             0.6666666666666666,
             "#35b779"
            ],
            [
             0.7777777777777778,
             "#6ece58"
            ],
            [
             0.8888888888888888,
             "#b5de2b"
            ],
            [
             1,
             "#fde725"
            ]
           ]
          },
          "colorway": [
           "#1F77B4",
           "#FF7F0E",
           "#2CA02C",
           "#D62728",
           "#9467BD",
           "#8C564B",
           "#E377C2",
           "#7F7F7F",
           "#BCBD22",
           "#17BECF"
          ],
          "font": {
           "color": "rgb(36,36,36)"
          },
          "geo": {
           "bgcolor": "white",
           "lakecolor": "white",
           "landcolor": "white",
           "showlakes": true,
           "showland": true,
           "subunitcolor": "white"
          },
          "hoverlabel": {
           "align": "left"
          },
          "hovermode": "closest",
          "mapbox": {
           "style": "light"
          },
          "paper_bgcolor": "white",
          "plot_bgcolor": "white",
          "polar": {
           "angularaxis": {
            "gridcolor": "rgb(232,232,232)",
            "linecolor": "rgb(36,36,36)",
            "showgrid": false,
            "showline": true,
            "ticks": "outside"
           },
           "bgcolor": "white",
           "radialaxis": {
            "gridcolor": "rgb(232,232,232)",
            "linecolor": "rgb(36,36,36)",
            "showgrid": false,
            "showline": true,
            "ticks": "outside"
           }
          },
          "scene": {
           "xaxis": {
            "backgroundcolor": "white",
            "gridcolor": "rgb(232,232,232)",
            "gridwidth": 2,
            "linecolor": "rgb(36,36,36)",
            "showbackground": true,
            "showgrid": false,
            "showline": true,
            "ticks": "outside",
            "zeroline": false,
            "zerolinecolor": "rgb(36,36,36)"
           },
           "yaxis": {
            "backgroundcolor": "white",
            "gridcolor": "rgb(232,232,232)",
            "gridwidth": 2,
            "linecolor": "rgb(36,36,36)",
            "showbackground": true,
            "showgrid": false,
            "showline": true,
            "ticks": "outside",
            "zeroline": false,
            "zerolinecolor": "rgb(36,36,36)"
           },
           "zaxis": {
            "backgroundcolor": "white",
            "gridcolor": "rgb(232,232,232)",
            "gridwidth": 2,
            "linecolor": "rgb(36,36,36)",
            "showbackground": true,
            "showgrid": false,
            "showline": true,
            "ticks": "outside",
            "zeroline": false,
            "zerolinecolor": "rgb(36,36,36)"
           }
          },
          "shapedefaults": {
           "fillcolor": "black",
           "line": {
            "width": 0
           },
           "opacity": 0.3
          },
          "ternary": {
           "aaxis": {
            "gridcolor": "rgb(232,232,232)",
            "linecolor": "rgb(36,36,36)",
            "showgrid": false,
            "showline": true,
            "ticks": "outside"
           },
           "baxis": {
            "gridcolor": "rgb(232,232,232)",
            "linecolor": "rgb(36,36,36)",
            "showgrid": false,
            "showline": true,
            "ticks": "outside"
           },
           "bgcolor": "white",
           "caxis": {
            "gridcolor": "rgb(232,232,232)",
            "linecolor": "rgb(36,36,36)",
            "showgrid": false,
            "showline": true,
            "ticks": "outside"
           }
          },
          "title": {
           "x": 0.05
          },
          "xaxis": {
           "automargin": true,
           "gridcolor": "rgb(232,232,232)",
           "linecolor": "rgb(36,36,36)",
           "showgrid": false,
           "showline": true,
           "ticks": "outside",
           "title": {
            "standoff": 15
           },
           "zeroline": false,
           "zerolinecolor": "rgb(36,36,36)"
          },
          "yaxis": {
           "automargin": true,
           "gridcolor": "rgb(232,232,232)",
           "linecolor": "rgb(36,36,36)",
           "showgrid": false,
           "showline": true,
           "ticks": "outside",
           "title": {
            "standoff": 15
           },
           "zeroline": false,
           "zerolinecolor": "rgb(36,36,36)"
          }
         }
        },
        "title": {
         "font": {
          "color": "black",
          "family": "Arial",
          "size": 25
         },
         "text": "2D Word Embeddings (Skip-Gram without Stopwords)",
         "x": 0.5,
         "xanchor": "center",
         "y": 0.95,
         "yanchor": "top"
        },
        "xaxis": {
         "anchor": "y",
         "domain": [
          0,
          1
         ],
         "title": {
          "text": "x"
         },
         "visible": false
        },
        "yaxis": {
         "anchor": "x",
         "domain": [
          0,
          1
         ],
         "title": {
          "text": "y"
         },
         "visible": false
        }
       }
      }
     },
     "metadata": {},
     "output_type": "display_data"
    }
   ],
   "source": [
    "figs[\"2D Word Embeddings (Skip-Gram without Stopwords)\"][1]"
   ]
  },
  {
   "cell_type": "markdown",
   "metadata": {},
   "source": [
    "Pour voir les autres représentations, vous disposez de 4 liens permettant d'ouvrir les figures avec votre navigateur web:\n",
    "- [CBOW sans stopwords](../outputs/2D%20Word%20Embeddings%20(CBOW%20without%20Stopwords).html)\n",
    "- [CBOW avec stopwords](../outputs/2D%20Word%20Embeddings%20(CBOW%20with%20Stopwords).html)\n",
    "- [Skip-Gram sans stopwords](../outputs/2D%20Word%20Embeddings%20(Skip-Gram%20without%20Stopwords).html)\n",
    "- [Skip-Gram avec stopwords](../outputs/2D%20Word%20Embeddings%20(Skip-Gram%20with%20Stopwords).html)\n",
    "\n",
    "La meilleure représentation pour moi, c'est la version Skip-Gram sans Stopwords. C'est donc ce modèle qui sera séléctionné pour le reste du projet.\n",
    "\n",
    "## Construction des embedding des propositions\n",
    "Technique simple et efficace : pour avoir la représentation d'une phrase, on construit le vecteur moyen des mots qu'elle contient. Ici, il s'agira uniquement des tokens.\n",
    "\n",
    "### Convertion en liste de str"
   ]
  },
  {
   "cell_type": "code",
   "execution_count": 7,
   "metadata": {},
   "outputs": [],
   "source": [
    "# On réutilise la convertion en liste de str avant d'effectuer un calcul de moyenne\n",
    "df['tokens_final'] = df['tokens_final'].apply(\n",
    "    lambda x: ast.literal_eval(x) if isinstance(x, str) else x\n",
    ")"
   ]
  },
  {
   "cell_type": "markdown",
   "metadata": {},
   "source": [
    "### Petite fonction pour calculer la moyenne par ligne"
   ]
  },
  {
   "cell_type": "code",
   "execution_count": 8,
   "metadata": {},
   "outputs": [],
   "source": [
    "def mean_prop_embedding(tokens:list[str], model:Word2Vec) -> np.array:\n",
    "    # Initialiser une liste pour stocker les embeddings de chaque token\n",
    "    embedding_list = []\n",
    "    \n",
    "    # Parcourir chaque token dans la liste de tokens\n",
    "    for token in tokens:\n",
    "        # Vérifier si le token est présent dans les embeddings du modèle\n",
    "        if token in model.wv:\n",
    "            # Ajouter le vecteur d'embedding du token à la liste\n",
    "            embedding_list.append(model.wv.get_vector(token))\n",
    "    \n",
    "    # Si aucun token n'est présent dans les embeddings, retourner un vecteur nul\n",
    "    if not embedding_list:\n",
    "        return np.zeros(model.vector_size)\n",
    "    \n",
    "    # Calculer la moyenne des embeddings\n",
    "    mean_embedding = np.mean(embedding_list, axis=0)\n",
    "    \n",
    "    # Supprimer la liste des embeddings pour libérer de la mémoire\n",
    "    del embedding_list\n",
    "    \n",
    "    return mean_embedding"
   ]
  },
  {
   "cell_type": "code",
   "execution_count": 9,
   "metadata": {},
   "outputs": [],
   "source": [
    "df['embedding_prop'] = df['tokens_final'].apply(lambda x : mean_prop_embedding(x, skgram_without_stop_words))"
   ]
  },
  {
   "cell_type": "code",
   "execution_count": 10,
   "metadata": {},
   "outputs": [
    {
     "data": {
      "text/plain": [
       "0    [0.026475444, 0.013547266, 0.04194331, -0.1040...\n",
       "1    [0.03417883, 0.057504207, 0.025103373, -0.1194...\n",
       "2    [-0.011080465, 0.053166457, 0.0025109972, -0.0...\n",
       "Name: embedding_prop, dtype: object"
      ]
     },
     "execution_count": 10,
     "metadata": {},
     "output_type": "execute_result"
    }
   ],
   "source": [
    "df['embedding_prop'].head(3)"
   ]
  },
  {
   "cell_type": "markdown",
   "metadata": {},
   "source": [
    "### Création d'une matrice pour permettre la réduction de dimension (TSNE)"
   ]
  },
  {
   "cell_type": "code",
   "execution_count": 11,
   "metadata": {},
   "outputs": [
    {
     "data": {
      "text/plain": [
       "(1493, 20)"
      ]
     },
     "execution_count": 11,
     "metadata": {},
     "output_type": "execute_result"
    }
   ],
   "source": [
    "# Convertir la colonne 'embedding_prop' en une seule matrice\n",
    "embedding_matrix = np.stack(df['embedding_prop'].values)\n",
    "embedding_matrix.shape"
   ]
  },
  {
   "cell_type": "code",
   "execution_count": 12,
   "metadata": {},
   "outputs": [],
   "source": [
    "# Réduire les dimensions à deux dimensions avec t-SNE\n",
    "tsne = TSNE(n_components=2, random_state=42, perplexity=5, metric='cosine')\n",
    "df[['embedding_prop_x','embedding_prop_y']] = tsne.fit_transform(embedding_matrix)"
   ]
  },
  {
   "cell_type": "code",
   "execution_count": 13,
   "metadata": {},
   "outputs": [
    {
     "data": {
      "text/html": [
       "<div>\n",
       "<style scoped>\n",
       "    .dataframe tbody tr th:only-of-type {\n",
       "        vertical-align: middle;\n",
       "    }\n",
       "\n",
       "    .dataframe tbody tr th {\n",
       "        vertical-align: top;\n",
       "    }\n",
       "\n",
       "    .dataframe thead th {\n",
       "        text-align: right;\n",
       "    }\n",
       "</style>\n",
       "<table border=\"1\" class=\"dataframe\">\n",
       "  <thead>\n",
       "    <tr style=\"text-align: right;\">\n",
       "      <th></th>\n",
       "      <th>content</th>\n",
       "      <th>embedding_prop_x</th>\n",
       "      <th>embedding_prop_y</th>\n",
       "    </tr>\n",
       "  </thead>\n",
       "  <tbody>\n",
       "    <tr>\n",
       "      <th>0</th>\n",
       "      <td>Il faut une surveillance des lieux touristique...</td>\n",
       "      <td>60.746189</td>\n",
       "      <td>15.809195</td>\n",
       "    </tr>\n",
       "    <tr>\n",
       "      <th>1</th>\n",
       "      <td>Il faut donner des sacs poubelles et des cendr...</td>\n",
       "      <td>54.815662</td>\n",
       "      <td>12.159612</td>\n",
       "    </tr>\n",
       "    <tr>\n",
       "      <th>2</th>\n",
       "      <td>Il faut récompenser et mettre en avant les act...</td>\n",
       "      <td>-22.491800</td>\n",
       "      <td>47.501347</td>\n",
       "    </tr>\n",
       "  </tbody>\n",
       "</table>\n",
       "</div>"
      ],
      "text/plain": [
       "                                             content  embedding_prop_x  \\\n",
       "0  Il faut une surveillance des lieux touristique...         60.746189   \n",
       "1  Il faut donner des sacs poubelles et des cendr...         54.815662   \n",
       "2  Il faut récompenser et mettre en avant les act...        -22.491800   \n",
       "\n",
       "   embedding_prop_y  \n",
       "0         15.809195  \n",
       "1         12.159612  \n",
       "2         47.501347  "
      ]
     },
     "execution_count": 13,
     "metadata": {},
     "output_type": "execute_result"
    }
   ],
   "source": [
    "df[['content','embedding_prop_x','embedding_prop_y']].head(3)"
   ]
  },
  {
   "cell_type": "code",
   "execution_count": 14,
   "metadata": {},
   "outputs": [
    {
     "data": {
      "application/vnd.plotly.v1+json": {
       "config": {
        "plotlyServerURL": "https://plot.ly"
       },
       "data": [
        {
         "hovertemplate": "<b>%{hovertext}</b><br><br>embedding_prop_x=%{x}<br>embedding_prop_y=%{y}<extra></extra>",
         "hovertext": [
          "Il faut une surveillance des lieux touristiques avec amende à la clef pour toute dégradation alimentaire ou autres (salissure, gribouillage)",
          "Il faut donner des sacs poubelles et des cendriers de poche aux vacanciers à l’entrée des plages et en stations de ski",
          "Il faut récompenser et mettre en avant les actes/projets écocitoyens à l'initiative des acteurs du tourisme et des touristes pour inspirer.",
          "Il faut promouvoir toutes les destinations et développer le tourisme rural.",
          "Il faut enrayer la spéculation immobilière en territoire de montagne pour favoriser un tissu social plus équilibré",
          "Il faut que les entreprises proposent à leurs collaborateurs des journées d'actions en faveur de l'environnement(sensibiliser hors vacances)",
          "Il faut proposer des réductions lorsque le TGV est utilisé",
          "Il faut qu'il y ait plus de contrôles sur les produits dit de région pour empêcher des escroqueries surtout sur les marchés !",
          "Il faut interdire tous les panneaux d'affichages commerciaux qui défigurent les entrées de nos villes et villages",
          "Il faut des structures d'accueil (hôtels, appart hôtel) qui ne pénalisent pas financièrement les personnes voyageant seules.",
          "Il faut réaliser des parkings herbe ou bitume pour tous les lieux historiques en France et les recenser sur un site internet indépendant",
          "Il faut faciliter le transport des vélos de toutes sortes (vélo simple, électriques, cargo, remorques, etc.) dans les trains",
          "Il faut développer la découverte de la nature (animaux, plantes, arbres, fleurs et leur importance dans l'écosystème).  Visites commentées",
          "Il faut \"éduquer\" les voyageurs sur les choix existants pour limiter leur empreinte, de manière simple + plaisir (écolo ≠ restrictions)",
          "Il faut mettre son confort non essentiel de côté, et laisser aucune trace derrière soi.",
          "Il faut arrêter de sur-urbaniser les zones côtières et au contraire revenir à un tourisme vert et protecteur, de plus en plus recherché",
          "Il faut développer l’intermodalité dans les territoires ruraux",
          "Il faut que les régions françaises accentuent l'usage des transports en commun (trains régionaux, bus) et des mobilités douces",
          "Il faut réguler le nombre de touristes par site, interdire les voitures, sauf pour les personnes à mobilité réduite.",
          "Il faut que les accès des lieux touristiques à pied, à vélo et en transport en commun soient mieux indiqués sur leur site internet.",
          "Il faut avoir des bons de réduction pour des voyageurs qui prennent le transport en commun dans les villes en France",
          "Il faut pratiquer un tourisme de la lenteur (slow tourism). Parcourir les superbes GR que nous possédons en France. Echanger, découvrir",
          "Il faut réformer tout le monde du travail, pour permettre aux gens de partir moins souvent, mais plus longtemps en voyage.",
          "Il faut soutenir le développement de gîtes éco-responsables, améliorer et entretenir les chemins de rando pédestres, vtt, équestres",
          "Il faut sensibiliser les touristes au respect de l'environnement dans lequel ils passent leurs vacances, en leur montrant l'exemple.",
          "Il faut profiter des vacances pour proposer des expériences de reconnexion avec la nature, de sensibilisation à la biodiversité et au climat",
          "Il faut que des chartes de régions/villes écologiques engagent les touristes et structures à respecter l'environnement et les autres.",
          "Il faut interdire l'utilisation des chèques vacances pour des prestations polluantes ou non respectueuses de l'environnement",
          "Il faut développer le tourisme de proximité par l'itinérance et les \"micro-aventures\" sur les territoires ruraux.",
          "Il faut privilégier la communication institutionnelle vers les entreprises touristiques éco engagées certifiées",
          "Il faut que les retraités (qui ont financièrement participé à la mise en place des musées) puissent désormais y accéder gratuitement",
          "Il faut permettre d'emprunter des vélos d'occasion dans des magasins dédiés, contre présentation d'une carte identité et caution de 100euros",
          "Il faut créer un site fiable et neutre de comparateur en coût carbone des moyens de transports",
          "Il faut que le tourisme ne soit plus vu comme un mal nécessaire mais comme une vraie chance de retrouver du lien sur les territoires",
          "Il faut enclencher un suivi d’indicateurs pour mieux connaître les visiteurs des zones rurales et leurs habitudes de voyage.",
          "Il faut remplacer les douches au bord des plages par des rinces pieds pour éviter les consommations excessives d’eau.",
          "Il faut bannir l'automobile dans les cœurs de ville et sites fragiles. Organiser transport/parking dans des zones commerciales périphérique",
          "Il faut que le gouvernement créé un ministère du tourisme pour permettre de mettre en place de vraies actions, avoir des financements",
          "Il faut permettre à chaque voyageur de calculer et partager le score impact environnemental (ex: co2) et humain (à définir) de son voyage",
          "Il faut éviter de tout réglementer et laisser aux professionnels décider de ce qu’ils pensent être de bonnes pratiques selon leur clientèle",
          "Il faut des parkings relais à l'entrée des villes bien indiqués et ensuite métro ou ter. Pour l'instant trop peu de parkings et mal indiqués",
          "Il faut prévoir davantage de poubelles avec tri sélectif",
          "Il faut interdire aux habitants des métropoles de venir dans les régions touristiques avec leurs véhicules et leurs imposer une taxe",
          "Il faut un moratoire sur la construction d'hôtels à Paris (sur l'exemple de Barcelone).",
          "Il faut faire payer tous les déchets",
          "Il faut intégrer un indicateur des émissions de gaz à effet de serre dans la politique nationale du tourisme",
          "Il faut penser les transports publics pour les locaux et pour les touristes.",
          "Il faut limiter l'entrée des grands musées par l'application de quotas de visiteurs en groupe. \nUn tourisme de masse n'est pas profitable.",
          "Il faut développer des usages mixtes dans les hébergements touristiques, plus ouverts sur la vie du quartier, du village, de la cité.",
          "Il faut protéger les pistes afin que les voitures ne puissent pas rouler dessus, privilégier des pistes en dehors des routes : forêts etc...",
          "Il faut favoriser l'itinérance pédestre au départ de chez soi qui répond à la valorisation de l'itinérance douce et du tourisme local.",
          "Il faut arrêter le bétonnage à outrance, comme les parkings en bord de mer.",
          "Il faut pratiquer le tourisme dit \"de proximité\". Pourquoi partir loin alors qu'on ne connaît pas sa région, ses cultures, son patrimoine...",
          "Il faut éduquer les jeunes et moins jeunes à respecter la nature comme des amis qu'on aime.",
          "Il faut que les commerces greens soient référencés sur internet ou dans des guides municipaux adressés aux habitants",
          "Il faut développer, partout, en ville et campagne, les pistes cyclables non discontinues indépendantes du réseau routier.",
          "Il faut limiter la fréquentation des lieux naturels et il faudrait s’inscrire avant de les visiter",
          "Il faut encourager l'échange de maison / appartement comme alternative aux séjours marchands",
          "Il faut limiter le nombre de visiteurs sur les sites naturels fragiles ou sensibles.",
          "Il faut que les emplois du secteur soient bien rémunérés et donc attractifs pour soutenir l'économie locale.",
          "Il faut créer une appli pour organiser ses vacances en mesurant / maitrisant / compensant son empreinte carbone (activités, transport...)",
          "Il faut favoriser les transports publics départementaux pour les touristes comme pour les habitants, en pratiquant un prix de 1 euro...",
          "Il faut encourager l’agritourisme pour soutenir une agriculture qui préserve la biodiversité et entretient les paysages.",
          "Il faut que les vendeurs de camping car fassent signer une charte de bonne conduite lors de la vente d'un camping car",
          "Il faut reconstruire des propositions de transports correctes, confortables et à un prix correct pour les familles.",
          "Il faut empêcher la construction de nouveaux bâtiments de plus de 25 logements par exemple et réhabiliter les complexes hôteliers existants",
          "Il faut créer un code (de A à D) tourisme durable sur les offres proposées aux usagers.",
          "Il faut assurer la promotion des notions de respect chez tous les revendeurs de matériels de loisir et sur les sites.",
          "Il faut mobiliser les agents des services publics, les commerçants, qu'ils soient les 1ers ambassadeurs d'attitude écoresponsable.",
          "Il faut interdire les vols en avion (quelques soit la distance) pour des motifs autres que professionnel.",
          "Il faut privilégier le tourisme de qualité rentable plutôt que toujours vouloir augmenter seulement le nombre",
          "Il faut établir des quotas à la journée pour limiter le nombre de visiteurs pour les monuments, sites et musées les plus connus.",
          "Il faut encourager les mobilités douces pour les départs en vacances, en facilitant l'accès des vélos dans le train par exemple.",
          "Il faut aider à développer l'économie locale et citoyenne par les monnaies locales présentées dans les offices de tourisme",
          "Il faut limiter encore plus les vols intérieurs et développer l'offre ferroviaire (temps de trajet / prix / souplesse / qualité de service)",
          "Il faut interdire certaines pratiques polluantes qui se sont développées ces dernières années (quads sur les dunes, promenade en 4x4 etc.)",
          "Il faut inciter le touriste à mieux se loger et se nourrir en valorisant les productions issues des savoir-faire élaborés localement.",
          "Il faut supprimer l'interdiction pour les chambres d'hôtes de refuser de louer pour 1 seule nuit: un séjour trop court n'est pas écologique",
          "Il faut améliorer le recyclage des déchets et vieux matériaux pour ne plus voir les décharges sauvages",
          "Il faut rendre accessibles à vélo tous les chemins de halage le long des rivières et des canaux.",
          "Il faut un bonus/malus moyen de transport pour rendre le train et le vélo attractifs.",
          "Il faut faciliter les trajets en train pour les vacances: navettes, transferts vers les hébergements, bus, emmener son vélo etc",
          "Il faut trier certes, mais être capable de recycler, sinon c'est inutile",
          "Il faut plus de structures de tri sélectif près des centres touristiques",
          "Il faut obliger chaque site commercial, à évaluer en dépense de gaz à effet de serre, d'emprunte carbonne, le trajet, voyage, sélectonné.",
          "Il faut interdire la fabrication des produits solaires polluants pour les lagons et favoriser la fabrication locale de vêtements anti uv",
          "Il faut mettre en place des moyens d'information incitant les touristes à privilégier des lieux moins fréquentés",
          "Il faut que les clients privilégient les solutions déjà suggérées : ne pas demander un changement des serviettes tous les jours!",
          "Il faut améliorer la transparence et la connaissance de la répartition des marges sur les prix de séjours touristiques y compris transport",
          "Il faut promouvoir la mobilité durable (Encourager le tourisme de proximité et l'utilisation des transports en commun et mobilité douce)",
          "Il faut faire une campagne de sensibilisation auprès du grand public à travers les médias les plus regardés.",
          "Il faut engager les touristes dans une démarche participative lorsqu'ils visitent des territoires préservés du tourisme de masse",
          "Il faut développer les navettes gares-hébergements et gares-départs de randos calés sur les horaires de train depuis les grandes métropoles",
          "Il faut que dans certaines villes les poubelles soient accessibles, parfois seuls les habitants ont un code pour y accéder",
          "Il faut faire respecter les nombreux textes législatifs déjà existants qui favorisent un tourisme responsable",
          "Il faut arrêter les résidences secondaires. Ça bousille la nature et nous vire de chez nous pour des maisons occupées 2 mois l'an",
          "Il faut inclure des critères de respect de l'environnement dans les grilles de classement des hébergements afin que cela soit systématique.",
          "Il faut demander aux villes et collectivités locales d'investir dans des pistes cyclables sécurisées / séparées des voies des voitures.",
          "Il faut rendre économiquement et matériellement accessibles et disponibles les modes de transport collectif devenus chers et rares (train..)",
          "Il faut un plan \"tourisme en transition\" transversal économie, social, écologie et collaboratif pour l'adhésion active de tous",
          "Il faut favoriser le train pour les transports en faisant des réductions (au resto, au musée etc...) sous présentation des billets de train",
          "Il faut pouvoir transformer nos véhicules diesel pour ne pas devoir acheter à prix d'or des véhicules électriques plus polluants.",
          "Il faut continuer de développer le tourisme à vélo dans l'ensemble des territoires en France! Équipements et services homogènes entre autres",
          "Il faut rendre le tourisme durable attractif, en expliquant ce qu’il est vraiment, et le rendre ludique pour une meilleure appropriation",
          "Il faut étendre les aires de vidange à des aires de stationnement dont les zones de stationnements sont marquées au sol.",
          "Il faut des hébergements collectifs en réseau, au mode de fonctionnement vertueux à hautes implications écologique, économique et sociale",
          "Il faut indiquer les émissions de CO2 et leur comparaison avec celles d'autres moyens de transports à la réservation de billets d'avion.",
          "Il faut instaurer une réelle taxe carbone sur les déplacements en avion.",
          "Il faut obliger au label whale watching pour tous les prestataires (observation cétacés)",
          "Il faut interdire à l'ensemble des industriels d'utiliser toutes formes d'emballages plastiques ou à usage unique.",
          "Il faut impliquer davantage les touristes dans le nettoyage des plages et zones touristiques à travers des challenges, moments ludiques",
          "Il faut limiter les grands paquebots et ferries et leur fournir une connexion électrique payante pour qu'ils coupent leur moteur au port.",
          "Il faut inciter les randonneurs à participer aux nettoyages des sentiers, chemins et ballades",
          "Il faut établir une cartographie des sites trop visités afin de mieux répartir le flux de visiteurs car c'est pénible les queues",
          "Il faut mettre en place un \"pass tourisme\" (même principe que le \"pass culture\") pour inciter les Français à partir en vacances en France",
          "Il faut rétablir les trains de nuit des Alpes disparu en 2016",
          "Il faut poursuivre le développement de grands itinéraires cyclables structurants et attractifs.",
          "Il faut former les professionnels du tourisme au normes, labels, certifications + favoriser l'intermodalité dans les campagnes",
          "Il faut proposer un outil d'évaluation des séjours touristiques avec des critères simples, indiquant des pistes d'amélioration, des exemples",
          "Il faut inscrire dans le programme scolaire cette thématique",
          "Il faut créer une nouvelle catégorie de camping, plus orientée \"nature \" avec des règles d’urbanisme qui favorisent les initiatives",
          "Il faut que le tourisme ne se développe pas à l’encontre des populations locales et que celles-ci bénéficient des retombées économiques",
          "Il faut encourager une prise de conscience collective par une sensibilisation pédagogique active aux enjeux du tourisme responsable",
          "Il faut faire la promotion de régions où un tourisme alternatif pourrait être plus développé",
          "Il faut supprimer les panneaux publicitaires dans les espaces urbains, ruraux et naturels qui défigurent l'environnement",
          "Il faut accepter que le problème, c'est pas toujours les autres.",
          "Il faut contraindre les lignes low cost à un service amélioré et à des impôts en France.",
          "Il faut laisser les deux en developpant les trains de nuit et en aménageant les vols intérieurs, mais les laisser à discrétion des usagers",
          "Il faut limiter les accès aux zones naturelles fragiles et arrêter le bétonnage du littoral.",
          "Il faut promouvoir le tourisme rural auprès d’une population jeune demandeuse de nature et de bien-être.",
          "Il faut, comme pour toutes choses, que les adultes montrent l'exemple et éduquent correctement leurs enfants de tous âges.",
          "Il faut interdire l'accès aux voitures à certains villages et créer des emplacements de parking pour préserver les habitants des nuisances",
          "Il faut créer des routes uniquement dédiées au vélo qui connectent les villes et villages.",
          "Il faut encourager l'usage du train",
          "Il faut développer une offre maillée et continue d’itinéraires cyclables en France pour les touristes et les habitants.",
          "Il faut récompenser les touristes utilisant des moyens de déplacement propres.",
          "Il faut soutenir les associations locales qui développent des projets de tourisme durable.",
          "Il faut que les plateformes comme Booking proposent de filtrer les hébergements selon leur engagement environnemental lors de la recherche",
          "Il faut développer le camping sauvage pour permettre aux plus démunis de prendre des vacances.",
          "Il faut que les hébergeurs puissent être capables de calculer et de communiquer l’impact carbone d’une nuitée chez eux",
          "Il faut faire émerger des formes de tourisme qui soient responsables et porteuses de valeurs : le slowtourism, la micro-aventure...",
          "Il faut recréer du commerce de proximité qui permette de réaliser ses achats sans voiture et plus quotidiennement",
          "Il faut que les décideurs se préoccupent vraiment des besoins et capacités de tous les gens, selon leur tranche d'âge et leur santé",
          "Il faut interdire les petits vols en avion lorsqu'une autre alternative de transport (comme le train) existe",
          "Il faut remplacer les couverts et bouteilles en plastique par des couverts et gourdes ou bouteilles consignées sur les lieux de vacances.",
          "Il faut créer des pistes cyclables dans les vignobles. Notamment entre Margaux et Pauillac-St Esthephe (la route des châteaux)",
          "Il faut exclure les personnes qui font faire leurs besoins aux chiens dans les campings (y compris le pipi) c'est dégoûtant",
          "Il faut développer les transports en commun transversaux pour des déplacements moins polluants",
          "Il faut donner l'opportunité, les moyens et les clés aux touristes de devenir eux-mêmes des touristes responsables.",
          "Il faut développer les équipements de tri pour systématiser le geste de tri des emballages dans l'ensemble des structures touristiques",
          "Il faut redonner la possibilité au plus grand nombre de voyager par les trains en investissant massivement dans un grand réseau public SNCF",
          "Il faut améliorer et augmenter les accès handicapés et personnes âgées dans tous les transports",
          "Il faut débarrasser les paysages ruraux et urbains des publicités qui défigurent l'environnement",
          "Il faut éviter les produits chimiques pour produit vaisselle, produit cassette WC",
          "Il faut supprimer les péages (bouchons, pollution) mettre en place un système de vignette ou paiement automatique",
          "Il faut appliquer la réglementation en matière de pollution sonore dans les espaces touristiques et sanctionner les infractions (motos ex)",
          "Il faut privilégier un tourisme de proximité et un slow tourisme.",
          "Il faut un visa touriste \"sensibilisé & engagé\" vis-à-vis des enjeux climatiques.",
          "Il faut parier sur l’économie du partage qui rend le voyage accessible au plus grand nombre",
          "Il faut sensibiliser sur les «bons comportements» à adopter sur les sites touristiques et plus particulièrement les sites naturels",
          "Il faut la création de réseaux d'acteurs touristiques accompagnés par des structures d'éducation à l'environnement",
          "Il faut encourager la restauration du patrimoine de proximité, la réhabilitation d'anciens bâtiments agricoles en hébergements touristiques",
          "Il faut limiter au maximum, voire interdire la construction de résidences secondaires et favoriser la création d'hébergements légers.",
          "Il faut sensibiliser au jet des déchets dans la nature, même si cela doit passer par une amende à l'image du droit à la nature en Suède",
          "Il faut développer le ferroviaire et équiper les parcs et autres sites de loisirs de bornes de recharge pour inciter à rouler à l’électrique",
          "Il faut de la cohérence : un beau camping dans un site naturel ne peut pas être en continuité d’urbanisme. Changeons les règles !!!",
          "Il faut préserver les parcs naturels, les parcs verts, les parcs animaliers pour préserver notre planète.",
          "Il faut privilégier les transports en commun pour l'acces à des lieux touristiques très sensibles",
          "Il faut instaurer un chèque vacances vert utilisable auprès de prestataires avec label écoresponsable.",
          "Il faut développer les parcs naturels régionaux",
          "Il faut informer les touristes des enjeux climatiques, des risques majeurs du territoire et les informer des comportements à avoir",
          "Il faut interdire la chasse le dimanche et les jours fériés pour pouvoir se promener en famille en toute sécurité !",
          "Il faut permettre l'accès aux locataires de devenir propriétaire de leur appartement, une partie de leur loyer servant d'apport personnel",
          "Il faut rendre plus accessible les voyages moyennes/longues distances en train (en France) aux personnes avec peu de moyens.",
          "Il faut réglementer et limiter l'accès aux espaces naturels afin de les préserver du tourisme de masse",
          "Il faut une éco-taxe de séjour, proportionnelle à la distance d'origine des voyageurs. Facile à appliquer en parallèle à la taxe de séjour !",
          "Il faut dans chaque organisation, favoriser la consommation et les achats responsables et lutter contre le gaspillage",
          "Il faut former les professionnels du tourisme au tourisme durable.",
          "Il faut renoncer à l'avion : 10 000 km en avion 300 places = 300 voitures faisant 10 000 km !",
          "Il faut zoner les grandes vacances, moins de monde sur les routes, accueillir plus de touristes, prix des locations moins élevées",
          "Il faut étendre le principe d'éco-conditionnalité sur l'ensemble des aides publiques.",
          "Il faut impliquer les habitants dans l'accueil des touristes pour valoriser la vie quotidienne et la culture populaire",
          "Il faut revenir à la pratique d'un camping rural et naturel par opposition aux usines de plein air",
          "Il faut imposer un quota de touristes sur les destinations sensibles au tourisme de masse",
          "Il faut montrer à chaque citoyen qu’une nature propre est essentielle à la vie terrestre. Une amende sera distribuée si rien n’est respecté",
          "Il faut que les habitants se sentent concernés par cette démarche. Donner l'exemple en local pour transmettre l'initiative aux visiteurs.",
          "Il faut que les acteurs de la restauration privilégient le circuit court et surtout la saisonnalité de leurs produits, le bio serait l'idéal",
          "Il faut arrêter de vendre partout des petites bouteilles d'eau. Proposer des lieux de recharge de gourdes en contrepartie (aéroports, ville)",
          "Il faut plus de poubelles et de toilettes sur les aires de pique-nique, parcs et plus de passages d'agents d'entretien.",
          "Il faut interdire l'usage des gobelets plastiques et autres ustensiles à usage unique dans les avions",
          "Il faut que les billets de trains soient toujours moins chers que l'avion, beaucoup moins chers",
          "Il faut taxer lourdement tous les touristes et pas que les étrangers",
          "Il faut apprendre aux gens a être responsables au quotidien. Un individu \"responsable\" au quotidien sera un touriste responsable.",
          "Il faut que les ateliers d'autoréparation vélos soient bien référencés par les offices de tourisme.",
          "Il faut limiter la communication récurrente et toujours centrée sur même spots touristiques et lieux qu'il faut avoir FAIT",
          "Il faut valoriser ceux qui font le choix de rester chez eux en (re)découvrant le local, \"vacances\" n'étant pas synonyme de \"voyages\"",
          "Il faut compenser nos émissions carbone lorsque nous voyageons avec des transports polluants. Reforestation, restauration Massif coralien..",
          "Il faut faire le lien entre les acteurs touristiques et les ONG pour développer davantage les synergies collaboratives",
          "Il faut que les futurs camping-cars hybrides ou électriques puissent recharger leurs batteries dans les campings et sur les aires dédiées.",
          "Il faut développer des lieux d'accueil pour camping/bivouac ou caravanes, avec équipement sanitaire/poubelles",
          "Il faut valoriser la biodiversité d'une région, sa spécifité, inviter le touriste à découvrir ces trésors-là!",
          "Il faut diminuer le prix des billets de train.",
          "Il faut former l'ensemble de la population sur les enjeux climatiques pour que chacun se rende compte des impacts de son comportement.",
          "Il faut supprimer les croisières, c'est une forme de voyage pour les gens qui ne savent pas voyager autrement donc inutile!",
          "Il faut prendre nos vacances dans les périodes creuses, même s'il faut faire sauter l'école à nos enfants",
          "Il faut accepter la sobriété même pour les vacances et y donner du sens dans un monde bien trop individualiste et bien trop cloisonné.",
          "Il faut en parler a la télé, faire des affiches, que ça devienne banal, que les touristes aient des automatismes sur l'écotourisme",
          "Il faut faire de la France la 1ère destination éco-responsable, éthique et durable de ma planète.",
          "Il faut que toutes les offres touristique aient les mêmes contraintes réglementaires (airbnb, gite, chambre d'hôte, hôtel, ...)",
          "Il faut stopper AirBnB qui fait des centres ville des quartiers musées sans aucune vie locale et réduit l'offre de logements pour les locaux",
          "Il faut mettre en avant les établissements écologiques, les hébergements durables et insolites",
          "Il faut une politique de transport qui rende les transports collectifs (trains, bus..) très attractifs par rapport aux véhicules personnels",
          "Il faut supprimer l'idée même de tourisme.",
          "Il faut sensibiliser les clients des hôtels à la richesse du patrimoine et à sa biodiversité par la mise en place d'opérations collectives.",
          "Il faut interdire ou limiter fortement les voitures dans les petits bourgs / villes",
          "Il faut afficher dans locations et hôtels les bons gestes écologiques locaux ( faune et flore locale à préserver)",
          "Il faut que tourisme responsable rime avec l'accueil de tous (personnes en situation de handicap) et trop souvent cet aspect est oublié",
          "Il faut être conscient que le touriste n'est que le bout de la chaîne d'infrastructures qui le détermine dans ses choix ...",
          "Il faut baisser les taxes des professionnels du tourisme labellisés \"responsables\" pour plus de compétitivité et taxer le tourisme polluant",
          "Il faut développer le transport aérien en France avec des avions électriques moins polluants que des trains roulants sur des rails d’acier.",
          "Il faut rendre possibles les vacances durables et responsables accessibles à tous les Français.",
          "Il faut taxer les pubs promouvant des voyages lointains et à fort impact carbone",
          "Il faut développer les aires de service \"camping car\", avec eau potable et exutoire pour les eaux usées. Pas de parking, juste une solution",
          "Il faut mettre en place des jauges pour les sites les plus prisés et aussi faire découvrir via les professionnels les lieux plus méconnus",
          "Il faut le réduire car il nuit à la population locale : installation d'infrastructures dont les locaux n'ont pas besoin, cela coûte cher",
          "Il faut utiliser des grands événements pour changer les pratiques et sensibiliser (ex: Tour de France, JO...)",
          "Il faut développer un réseau de transport public pendant les périodes de congés vers les sites touristiques",
          "Il faut rendre obligatoire un certain niveau de performance environnementale aux hébergements en termes de déchets, énergie,...",
          "Il faut privilégier la consommation en circuit court de produits locaux à l'occasion des séjours des touristes",
          "Il faut répercuter le coût environnemental sur le prix des billets aériens type court séjours",
          "Il faut une analyse de risque environnementale dans l'élaboration des offres touristiques et une analyse saisonnière de l'impact réel.",
          "Il faut sensibiliser et encourager à préserver la nature et les patrimoines en ouvrant la voie d'un tourisme apprenant et plus humaniste.",
          "Il faut que les hôtels trient leurs déchets. Et évitent le gaspillage ( alimentaire, déchets...)",
          "Il faut un tourisme conscient de son environnement naturel et sociétal, et qui souhaite offrir le meilleur à ses voyageurs.",
          "Il faut finir d'aménager la Véloroute 81 comme le département 64 s'y était engagé (et non l'arrêter à Tarsacq). Et en aménager d'autres",
          "Il faut privilégier les structures de petites et moyennes tailles qui font travailler des familles localement",
          "Il faut réduire les coûts de la location de véhicules sur les lieux de vacance afin de privilégier le train pour s'y rendre",
          "Il faut multiplier les trains régionaux, de nuit permettant des vacances où l'on peut bouger sans polluer, et sans voiture.",
          "Il faut inciter à la prise des transports en commun pour venir en vacances, en simplifiant leur accès, grâce au MaaS, et les développer.",
          "Il faut développer le transport ferroviaire (et notamment les trains couchettes) au sein de l'Europe.",
          "Il faut arrêter la course aux produits coûteux en terme d'environnement (climatisation, chauffage sanitaires, parcs aquatiques, ...)",
          "Il faut une taxe carbone dans les transports qui fonctionnent aux énergies fossiles",
          "Il faut augmenter les parkings en périphérie des sites et villages touristiques et faire le relai avec des autocars.",
          "Il faut que les touristes dans une commune sur les trois dernières années puissent voter sur les résolutions municipales sur le tourisme.",
          "Il faut aider les acteurs à éco-concevoir leurs hébergements pour consommer moins de ressources et des matériaux biosourcés",
          "Il faut que les produits soit le plus local possible",
          "Il faut remplacer le plastique par le chanvre (par exemple, les bouteilles en chanvre)",
          "Il faut encourager la filière aéronautique pour continuer à polluer moins sans stigmatiser justement cette filière ou empêcher les voyages",
          "Il faut mieux informer les touristes sur la fréquentation réelle des lieux touristiques en pleine saison (territoires et sites)",
          "Il faut plus intégrer les habitants des régions touristiques concernés : visites de fermes, artisanats et autres, stages etc",
          "Il faut interdire l'usage de plastique sur les plages et dans les parcs nationaux (ou zones de randonnée) pour ne plus les retrouver au sol.",
          "Il faut bonifier les chèques vacances pour du tourisme éco-responsable",
          "Il faut faciliter l'accès aux vacances pour les personnes en situation de handicap, en simplifiant leur financement et leur accessibilité",
          "Il faut intégrer de nouveaux indicateurs aux observatoires touristiques : empreinte carbone des séjours, touristes venus en train, etc.",
          "Il faut arrêter d'user et d'abuser des influenceurs pour promouvoir les destinations.",
          "Il faut rendre le touriste conscient des cultures, du patrimoine, des traditions des lieux visités et l'encourager par des actions ludiques",
          "Il faut inciter davantage à la location et au partage des résidences secondaires pour limiter la construction d'infrastructures hôtelières",
          "Il faut promouvoir les itinéraires cyclistes de voyage au delà de la communauté vélo, cela passe par plus de sécurisation de la pratique.",
          "Il faut soutenir l’agritourisme qui apporte revenus, reconnaissance, lien social aux agriculteurs.",
          "Il faut comptabiliser les transports partant ou arrivant de France dans le bilan carbone du pays si ce trajet est fait par un ressortissant.",
          "Il faut encourager les rencontres entre les touristes et les habitants, proposer des \"expériences\" pour créer un lien fort et durable.",
          "Il faut soutenir l’agritourisme qui sensibilise au respect du travail de la population habitant sur le territoire.",
          "Il faut interdire les activités motorisées individuelles polluantes, bruyantes qui nuisent à la qualité des sites (ULM, jet ski, quad,...)",
          "Il faut prévoir davantage d'emplacements pour les vélos dans les trains et permettre aux cars de transporter des vélos.",
          "Il faut réduire les tarifs des billets de trains pour les rendre plus accessibles à tous pour favoriser le train plutôt que la voiture avion",
          "Il faut aider fiscalement les lieux créés avec un réel investissement dans la protection de l'environnement et une approche pédagogique.",
          "Il faut encourager et mettre en avant les établissements qui mettent en place une stratégie qui respecte l'environnement.",
          "Il faut supprimer les bateaux de croisières et encadrer les loisirs motorisés avec l'objectif de les faire disparaitre d'ici 10 ans",
          "Il faut que les collectivités encouragent le tourisme local et regagnent leur indépendance vis-à-vis des touristes étrangers",
          "Il faut restaurer le lien vital qui unit les êtres humains à la Nature en réveillant les consciences.",
          "Il faut que l'éducation prime sur la répression",
          "Il faut sensibiliser les touristes et limiter le nombre de groupes et de personnes dans les groupes avec plages horaires réservées",
          "Il faut repenser l'étalement des congés afin de décongestionner les zones d'affluence touristiques, et les axes routiers",
          "Il faut un transport aérien plus propre et les populations locales qui en bénéficient directement pas les grands groupes",
          "Il faut repenser les produits proposés pendant les séjours avec des alternatives durables pérennes: fin du plastique, éco-conception, etc.",
          "Il faut distribuer des sacs biodégradables à chaque touriste pour qu'il ramasse ses déchets dès son arrivée( gares, aéroports, péages)",
          "Il faut mettre en avant les produits de la terre et l’agriculture dans les offres touristiques pour participer à l’économie locale.",
          "Il faut réapprendre aux habitants à apprécier leur territoire. Développer les rencontres locales, montrer les richesses locales.",
          "Il faut arrêter la neige artificielle dans les stations de ski. Pas de neige naturelle, pas de ski.",
          "Il faut éliminer les emballages individuels: sucre, sel, mayo, produit de ménage, gel douche... et favoriser le vrac dans les hôtels, restos",
          "Il faut unifier les normes des prises de recharge pour véhicules électriques. Faire payer les kilowatts et non les minutes.",
          "Il faut développer l’offre végétale dans les restaurants car un repas sans viande a bien moins d’impact qu’un repas local avec viande",
          "Il ne faut pas abattre les arbres pour faire des pistes cyclables",
          "Il faut l'autosuffisance énergétique. Que les infrastructures touristiques produisent leur propre énergie renouvelable",
          "Il faut une taxe pour les touristes, notamment ceux bénéficiant de services haut de gamme (trajets en avion, palace, restaurants gastro...)",
          "Il faut aiguiller les touristes vers des modes de transports/restaurations/hébergements les moins carbonés",
          "Il faut valoriser toutes sortes de patrimoines pour diversifier les points d'intérêt, et diluer les flux touristiques",
          "Il faut que tous les offices de tourisme soient le reflet de leur région dans tous les domaines",
          "Il faut créer un réseau cycliste séparé du réseau routier dans toutes les villes touristiques comme l'a fait Valence en Espagne.",
          "Il faut cesser de faire débuter et terminer les locations saisonnières hebdomadaires le samedi pour diminuer bouchons et pollution",
          "Il faut consommer local. Privilégier les acteurs et les produits locaux, les TPE locales et acheter local.",
          "Il faut sanctionner les incivilités et les comportements allant à l'encontre de l'environnement (mégot sur les plages, déchets en forêt...)",
          "Il faut rétablir une offre de train de proximité, qui n’oblige pas à passer par les gares de Paris",
          "Il faut des bus et des autocars moins gourmands en énergie et en espace",
          "Il faut que chaque personne qui parte en vacances fasse une action éco-responsable là où elle se rend (ex : ramassage de déchets)",
          "Il faut développer des propositions d'hébergement chez l'habitant afin de permettre la rencontre, l'échange, la création de liens",
          "Il faut que les panneaux publicitaires soient réduits au maximum et servent à promouvoir l'économie locale, les informations utiles.",
          "Il faut apporter un soutien financier aux porteurs de projets agissant dans le développement durable notamment dans l'hébergement.",
          "Il faut établir une cartographie touristique de chaque citoyen avec ses préférences et un défi responsable par séjour permettant des points",
          "Il faut que le classement hôtelier inclue des critères environnementaux obligatoires. Le classement doit promouvoir les bonnes pratiques.",
          "Il faut que chaque projet touristique ait accès à un outils qui lui permet de comprendre où il peut s'améliorer et comment le faire",
          "Il faut apporter des subventions européennes sur l’autonomie énergétique des campings en électricité et eau chaude par le solaire",
          "Il faut que tous les hébergements aient des dispositifs pour limiter la consommation d'eau et d'électricité.",
          "Il faut aider à l'installation de jeunes paysans développant des modèles agricoles différents, des paysans qui entretiendront nos paysages",
          "Il faut favoriser les longs séjours en hôtel, pour diminuer l'impact du ménage, lavage des draps = moins d'eau utilisée et polluée",
          "Il faut accompagner les professionnels du tourisme dans l'engagement durable (et sur tout le territoire français)",
          "Il faut que les personnes qui voyagent seules ne paient pas plus cher les chambres d'hôtels ou autres",
          "Il faut créer beaucoup plus de réserves naturelles de tous types avec des accès strictement réglementés, formation pédagogiques aux entrées",
          "Il faut réduire le prix du transport ferroviaire pour que le choix de la voiture pour partir en vacances ne soit pas purement économique",
          "Il faut clarifier ce qu'est un tourisme plus responsable de façon concrète, reposant sur des gestes simples!",
          "Il faut privilégier et développer les modes de transport doux: marche à pied, vélo, transports collectifs locaux.",
          "Il faut développer le transport ferroviaire sur tout le territoire national",
          "Il faut lutter contre la massification, soutenir les petits hébergements, encourager le tourisme social hors des grosses stations",
          "Il faut proposer des locations avec des bonnes performances énergétiques. stop aux résidences de tourisme tout béton et électricité.",
          "Il faut éditer un guide du savoir vivre en camping-car, ce qui évitera les abus en tout genre, les insalubrités de certains camping-cariste.",
          "Il faut mieux valoriser les biodéchets produits par les restaurateurs",
          "Il faut organiser une journée nationale pour le tourisme et les gestes responsables. De nombreux gestes quotidiens utiles ne sont pas connus",
          "Il faut développer et intensifier les transports publics en montagne l'été et laisser sa voiture au parking pendant toute la durée du séjour",
          "Il faut une carte écologique avec un certain nombre de points à chaque personne. Suivant son activité des points seraient enlevés.",
          "Il faut faire des sorties scolaires pour sensibiliser à la gestion des déchets / au respect de l'environnement en allant sur le terrain.",
          "Il faut proposer aux hôteliers, restaurateurs des aides pour installer des bornes de recharge pour véhicules électriques.",
          "Il faut faciliter l'organisation de vacances avec des solutions de mobilité douce (itinéraire, accès, parcours réalisables à pied ou à vélo)",
          "Il faut développer l'offre vélo (location) et les services (bornes recharge, consignes, portage bagages...).",
          "Il faut créer des offres de monnaies locales pour les sites touristiques qui permettront de consommer local quand on est en vacances",
          "Il faut limiter l'accès aux zones touristiques aux véhicules individuels et augmenter les transports/navettes écologiques (bus, tram, câble)",
          "Il faut inciter les établissements publics et entreprises privées à utiliser des hébergements engagés lors des déplacements pro et formation",
          "Il faut des aires de pique-nique, repos, balades, wc, eau pour le chien etc, bien signalisées et indépendantes des stations-service",
          "Il faut développer les moyens de transports alternatifs à la route: train, vélo, bateau vers les destinations et pour en profiter sur place",
          "Il faut proposer les transports en commun gratuits certains jours de la semaine ou réduire le prix des tickets",
          "Il faut que les entreprises du tourisme aillent jusqu'au bout de leur démarche en ne travaillant qu'avec des partenaires responsables",
          "Il faut mettre un frein (prix, taxes, interdictions) au développement du camping car, solution individualiste aux multiples inconvénients",
          "Il faut mettre plus de poubelles et de toilettes sèches dans les parcs nationaux et régionaux, notamment sur les sentiers de montagne.",
          "Il faut arrêter de faire la tronche, sourions, ça encourage à bien se comporter",
          "Il faut développer des solutions de transports simples, nombreuses et abordables entre les HUB et les lieux de séjours.",
          "Il faut favoriser l'accueil chez l'habitant pour découvrir toutes les régions de France et la vie des populations",
          "Il faut que chaque personne sur le sol Français soit responsable de ses incivilités polluantes autant en vacances qu’à la maison",
          "Il faut rétablir les petites gares ferroviaires afin de permettre à tous de voyager sans avoir à prendre la voiture",
          "Il faut augmenter les taxes de séjour sur tous les logements touristiques non éco-responsables",
          "Il faut créer plus d'aires et de parkings pour les campings cars et vans, (moins d'encombrement et déchets jetés au bon endroit)",
          "Il faut interdire aux ports français les immeubles flottants et le tourisme de masse par voie maritime.",
          "Il faut former et informer sur la question du tourisme responsable.",
          "Il faut calculer le bilan carbone de chaque séjour et de chaque touriste (voyage compris), et le taxer proportionnellement à ses émissions.",
          "Il faut utiliser le tourisme comme un moyen ludique d'éduquer au respect de l'environnement",
          "Il faut créer davantage de pistes cyclables en ville et dans les zones touristiques.",
          "Il faut soutenir et aider à développer le tourisme responsable dans les milieux ruraux (ex : hébergements écologiques)",
          "Il faut établir des jauges d'accueil en fonction des écosystèmes concernés afin de ne pas nuire à la vie en place.",
          "Il faut interdire la chasse pour rendre les territoires et la faune à tous les amoureux de la nature vivante.",
          "Il faut favoriser l’identification des hébergements et activités qui ont un faible impact environnemental et mis en place une démarche",
          "Il faut interroger l'idée que le tourisme est d'aller quelque part. Est-ce que ce ne pourrait être \"apprendre\", \"flâner\", \"développer\" ?",
          "Il faut arrêter d'user et d'abuser des influenceurs pour promouvoir une destination.",
          "Il faut impliquer les marques dans les démarches écologiques locales",
          "Il faut imposer à la SNCF des prix constants pour chaque trajet, quelque soit la date d’achat des billets.",
          "Il faut arrêter les ouvertures des enseignes internationales de restauration rapide et favoriser la conservation des restaurants locaux",
          "Il faut protéger le littoral de l'afflux sur les plages: jauge de fréquentation et amendes immédiates pour toutes les souillures diverses.",
          "Il faut plus de mobilité douce, des packs train + vélo",
          "Il faut favoriser l’autocar comme mode de transport touristique répondant aux exigences d’une mobilité responsable et durable",
          "Il faut que les localités stoppent l'urbanisation, et l'équipement à outrance de tous les espaces naturels et touristiques.",
          "Il faut une organisation sans but lucratif avec membership local et international, avec des démarches de nettoyage des plages et bénévolat.",
          "Il faut créer une nouvelle catégorie « Camping Nature » pour faciliter l’essor du tourisme vert dans les territoires ruraux.",
          "Il faut remettre en place les colonies de vacances dans toutes les régions, pourtant attractives, qui les ont vues fermer",
          "Il faut arrêter de construire de nouveaux lits touristiques et rénover les lits existants (énergétiquement en particulier)",
          "Il faut uniformiser la gestion du tri en France (selon les départements, on ne doit pas mettre les mêmes emballages dans le bac jaune).",
          "Il faut créer un label circuit court chez les restaurateurs.",
          "Il faut demander à chaque commune de France de bien baliser l'itinéraire pour accéder aux aires de stationnement CC en l'indiquant à l'entré",
          "Il faut permettre aux acteurs du tourisme de proposer plus de solutions éco-responsables avec des moyens et encourager ceux qui le font déjà",
          "Il faut mettre en place une campagne de formation, d'information, de sensibilisation des acteurs touristiques au tourisme durable.",
          "Il faut promouvoir le woofing",
          "Il faut sensibiliser les touristes à continuer de faire le tri sélectif même si ils sont en vacances",
          "Il faut obliger tous les WC publics à utiliser en priorité l'eau de pluie pour la chasse d'eau.",
          "Il faut doter les petites destinations rurales de davantage de force de communication, afin de mieux répartir les flux touristiques.",
          "Il faut arrêter la guéguerre entre les différentes formes de tourisme et d'hébergement (hôtels, camping, camping-car, chambres d'hôtes....)",
          "Il faut faire un geste simple: utiliser les poubelles mises à notre disposition et apprendre à nos enfants à faire de même.",
          "Il faut mettre en place le développement durable participatif avec toutes les parties participantes : écologique, économique, sociale",
          "Il faut créer un compteur carbone personnel à l’année dont le dépassement entrainerait une taxe exponentielle en fonction de ce dépassement.",
          "Il faut mettre en place une caution pour ramener ses déchets dans les lieux touristiques très fréquentés.",
          "Il faut intégrer des critères environnementaux dans les marques de tourisme actuelles (qualité tourisme, les étoiles...)",
          "Il faut taxer les touristes se déplaçant dans les outre-mer (avion) au profits des habitants de ces régions avec un voyage détaxé par an.",
          "Il faut promouvoir les solutions d'échange de maisons qui limitent le besoin en nouvelles constructions",
          "Il faut que les terrains de campings soient protégés par les règlements d'urbanisme",
          "Il faut taxer en priorité le kérosène au moins au niveau du carburant auto et décider d'une augmentation progressive du pétrole.",
          "Il faut accepter seulement un pourcentage de touristes par rapport à la population à l'année",
          "Il faut freiner le tourisme blanc pour préserver nos montagnes.",
          "Il faut faciliter l'implantation des hébergements légers (et interdire les mobil-homes pour lesquels il existe des alternatives)",
          "Il faut mettre en place un livret de bonnes pratiques auprès des hébergeurs touristiques accessibles aux touristes.",
          "Il faut que les habitants deviennent acteurs du tourisme de leur territoire.",
          "Il faut passer d’un tourisme de masse à un tourisme de jauge, préservant les sites et favorisant l’expérience",
          "Il faut développer le partage d'habitation sur un modèle éthique",
          "Il faut faire des cartes de fidélité en hôtellerie traditionnelle et de plein air pour inciter les vacanciers à renouveler leurs locations",
          "Il faut accélérer l’offre en motorisations alternatives, trouver des solutions innovantes de gestion efficace des flux touristiques",
          "Il faut initier au plus jeune âge le fait de se dépayser, de voyager ou simplement se reposer au calme sans être dans la consommation.",
          "Il faut créer un \"pass miles\" pour chaque voyageur à utiliser par an. Soit possibilité de cumuler sur plusieurs années ou vendre ses miles",
          "Il faut multiplier les zones de vacances scolaires pour élargir les saisons touristiques et ainsi casser les pics d'affluence .",
          "Il faut demander une \"caution déchets\" aux vacanciers :comptabiliser les dépôts d'ordures en un lieu précis, remboursable en fin de vacances",
          "Il faut mettre plus de parkings avec des poubelles le long des routes de France afin d'éviter la pollution le long des routes",
          "Il faut vivre autrement, consommer autrement, que la crise du coronavirus nous serve de leçon",
          "Il faut que les trottinettes électriques et les vélos cessent d'envahir les trottoirs, il leur faut des aménagements intelligents pour tous",
          "Il faut mettre un maximum de gaz à effet de serre émis dans les voyages (avec une estimation par voyageur de ce qu’on aura émis par exemple)",
          "Il faut mettre des PV prohibitifs aux indélicats qui laissent leurs déchets, leurs papiers, ou leurs masques n'importe où!",
          "Il faut proposer plus d'alternatives écologiques aux moyens de transport lors d'excursions",
          "Il faut que tout le monde y soit sensible: jeunes, familles, habitants, collectivités, pros, pour tendre vers un tourisme responsable...",
          "Il faut éduquer (pour prise de conscience) aux effets directs et conséquences à plus long terme de nos actes polluants. Via de la pub?",
          "Il faut qu'un événement fédérateur et médiatique soit organisé pour impliquer les touristes autour de gestes écologiques simples",
          "Il faut construire plus de pistes cyclables sécurisées",
          "Il faut encourager le train, le bus et le covoiturage pour des séjours de proximité et décourager l'avion surtout pour les courts séjours",
          "Il faut favoriser l'agritourisme et le tourisme industriel",
          "Il faut des espaces vélos dans les tramways et les RER de la région parisienne et prévoir les accès sur les quais.",
          "Il faut éviter au maximum les modes de déplacement autres que pédestres sur les sites naturels protégés et donc intensifier la préservation",
          "Il faut que l'on régule l'utilisation des jets privés qui ont beaucoup augmenter en un an. Une forte taxe me semble necessaire.",
          "Il faut réguler et réglementer les entrées sur sites pour éviter le sur-tourisme.",
          "Il faut avoir des indicateurs objectifs pour évaluer les impacts positifs et négatifs du tourisme. Evaluer permet de progresser concrètement",
          "Il faut absolument prendre en compte les questions liées au tourisme des stations de sport d'hiver (cf climat, projections enneigement)",
          "Il faut des camping car au GPL",
          "Il faut que le tourisme durable devienne la norme touristique, surtout pas un phénomène de communication (green washing !)",
          "Il faut financer le développement des entreprises qui proposent des solutions touristiques durables (véloscénie etc.)",
          "Il faut que les offices du tourisme puissent donner une plaquette indiquant les petits commerces aux alentours des lieux touristiques",
          "Il faut accélérer les investissements dans les lignes ferroviaires françaises et européennes",
          "Il faut rendre accessibles aux bas revenus les véhicules de location sur les lieux de vacance afin de privilégier le train pour s'y rendre.",
          "Il faut faire signer par tous les camping-caristes une charte de bonne conduite et de respect de l'environnement.",
          "Il faut un système de transports en commun qui tourne au maximum de la journée mais aussi une bonne partie de la nuit même en arrière pays.",
          "Il faut que les instances touristiques se rajeunissent et s'ouvrent à la diversité pour s'adresser à tout les Français.",
          "Il faut proposer une matinée/après-midi dite \"green\" où ils vont s'engager à aider la commune au ramassage de déchets, des masques.",
          "Il faut repenser le tourisme en France pour les français, à des prix abordables, avant de miser sur du tourisme de luxe pour les étrangers",
          "Il faut soutenir le patrimoine local via le tourisme pour l'aider à survivre (fromagerie familiale, poteries, etc)",
          "Il faut développer les offres de transport, d'activités et logements touristiques plus durables, inclusif•ives et solidaires",
          "Il faut prévoir des parkings accueillant les campingcars aux points de départ des circuits cyclables",
          "Il faut préserver du tourisme en interdisant d'accès certains réservoirs de biodiversité (marais, forêts, rivières et mers).",
          "Il faut, pour ceux qui se déplacent en avion, faire moins de déplacements par année, mais faire des déplacements de plus longue durée.",
          "Il faut éduquer et conscientiser les plus jeunes à l'environnement dès la maternelle (journées vertes).",
          "Il faut développer les applications mobiles de tourisme (fini les prospectus)",
          "Il faut inciter le tourisme aux tri sélectif et à des moyens de locomotion électrique",
          "Il faut arrêter d'utiliser des produits consommables utilisant du plastique (surtout pour la nourriture).",
          "Il faut créer des réseaux d'acteurs de terrain engagés dans la durabilité. Ce projet pourrait être porté par les CDT et relayé par les OT !",
          "Il faut poursuivre la sensibilisation de chacun et prendre conscience des conséquences de nos comportements y compris en vacances",
          "Il faut accompagner les acteurs du tourisme dans cette démarche",
          "Il faut favoriser l'humain et les initiatives locales",
          "Il faut limiter dans les zones touristiques la concentration car elle nuit à la vie locale: accumulation détritus, emplois précarisés, ...",
          "Il faut arrêter de vouloir imposer les désidératas de petites minorités (nutrition, déplacements...) à l'ensemble de la population",
          "Il faut que partout le tri des déchets inclue le compostage. Cela devrait être une obligation pour tous les acteurs du tourisme.",
          "Il faut que les cars interurbains acceptent les vélos, surtout le long des itinéraires cyclotouristes.",
          "Il faut sensibiliser chacun sur l’impact de sa consommation d’eau, de nourriture, par des messages simples et des bonnes attitudes à adopter",
          "Il faut faire payer cher plutôt que de sanctuariser certains espaces, ou mettre une jauge annuelle de visites",
          "Il faut réguler et réduire l'accès massif aux lieux touristiques pour éviter des installations sur-dimensionnées, des lieux artificiels.",
          "Il faut mettre à disposition ou financer l'achat de cuves pour récupérer les eaux de pluie.",
          "Il faut soutenir les hébergements français pour pouvoir proposer des prix attractifs et limiter l'évasion touristique vers l'étranger",
          "Il faut faire des campagnes publicitaires de sensibilisation sur les mégots de cigarettes jetés par terre. Que cela passe à la télévision!",
          "Il faut organiser peu à peu la fin du trafic aérien sur vols intérieurs, uniquement sur les lignes où il existe une alternative de - de 4h.",
          "Il faut identifier les itinéraires les plus polluants et définir un plan d'action tenant compte de l'ensemble du système : dates de loc...",
          "Il faut que les offices de tourisme mettent en évidence sur leur site internet des idées pour visiter une ville de manière plus écologique",
          "Il faut avant de partir que les touristes lisent \"le Petit Prince\", surtout le chapitre XXII,  et ils deviendront des sages.",
          "Il faut augmenter la mise en place de poubelles sélectives le long du bord de mer.",
          "Il faut que les mairies soient plus souples sur les interdictions de circuler et ou stationner des camping cars en fonction des gabarits.",
          "Il faut développer les trains de nuit",
          "Il faut intensifier les actions de promotion pour développer la fréquentation touristique en dehors des hautes saisons.",
          "Il faut développer des offres de mobilité douce pour préserver notre environnement et la biodiversité!",
          "Il faut avant tout des itinéraires",
          "Il faut arrêter les buffets au petit déjeuner et proposer des formules ou du à la carte pour éviter le gaspillage alimentaire.",
          "Il faut mettre en place un réseau régional de vélo à louer (pris ici, rendu là) pour promouvoir l'itinérance.",
          "Il faut limiter la construction de parcs d'éoliennes qui ravagent nos paysages et dont beaucoup des matériaux sont écocides",
          "Il faut impliquer les touristes dans une démarche citoyenne et responsable de protection de l'environnement (ex: guide de bonnes pratiques)",
          "Il faut montrer la nature aux abords des voies de circulation",
          "Il faut soutenir le tourisme solidaire (humanitaire/bénévolat) pour diminuer les prix et rendre accessible au plus grand nombre",
          "Il faut rendre les régions visitables sans voiture: vélo dans les trains, navettes fréquentes, bateaux",
          "Il faut développer les propositions de découverte des richesses locales (bâtiments, chemins,...)",
          "Il faut que les offices de tourisme accompagnent les acteurs du territoire vers le tourisme durable. En faire une mission non facultative.",
          "Il faut developper intensivement les pistes cyclables en utilisant les anciennes voies ferrées.",
          "Il faut faciliter l'intermodalité afin de disposer de solutions autres que la voiture individuelle pour découvrir un territoire",
          "Il faut verbaliser toutes les infractions relatives à la pollution sonore des véhicules afin d'offrir un meilleur accueil aux touristes",
          "Il faut rendre les transports en commun urbains gratuit. Comme dans la ville de Compiègne.",
          "Il faut développer les toilettes sèches dans les campings, aires d'autoroute, parcs d'attractions, réserves naturelles, centres de vacances.",
          "Il faut redévelopper un réel maillage de transports locaux : ferroviaires, routiers, ou cyclistes pour faciliter les déplacements.",
          "Il faut pouvoir visiter facilement la France même sans disposer de sa propre voiture",
          "Il faut développer la communication des richesses du territoire aux locaux",
          "Il faut développer des liaisons cyclables sécurisées pour accéder à des sites touristiques emblématiques à vélo.",
          "Il faut développer le tourisme dans des écovillages respectueux de l'environnement et dans des espaces naturels où ils seront attractifs",
          "Il faut revoir le rapport du touriste avec les gens qui l’accueillent : plus d’échanges, de partages, de convivialité, d’authenticité.",
          "Il faut favoriser les vacances dans des lieux et des organismes qui favorisent l'emploi local : personnel, aliment et achats de \"souvenirs\"",
          "Il faut ajouter des critères responsables (environnement, engagement) dans les catégorisations des lieux touristiques (étoiles, labels, etc)",
          "Il faut créer des tourismes à parcours thématiques et des toursime professionnels, des tourismes étudiants, séniors, santé, ...",
          "Il faut interdire les vols intra-France même pour les correspondances.",
          "Il faut que toutes études, recherches (tout genre) d'une Région soient accessibles à tous pour le bien commun",
          "Il faut favoriser l’agritourisme, expérience unique pour les clients, source de revenus pour les hôtes et pour les territoires ruraux.",
          "Il faut créer un label national, à la manière des labels bio, pour promouvoir les activités touristiques responsables et vertueuses",
          "Il faut valoriser l'offre du territoire pour étaler la fréquentation sur toute l'année (et éviter le \"sur-tourisme\")",
          "Il faut préparer des animations valorisant la démarche environnementale des hôtels et proposer aux clients de s’impliquer.",
          "Il faut proposer des lignes de bus écologiques et touristiques qui permettent d’accéder aux gares, hôtels, activités touristiques.",
          "Il faut inciter plus d'acteurs du tourisme et collatéraux à installer des bornes électriques.",
          "Il faut développer les services de parking-relais et de navettes aux abords des lieux les plus fréquentés.",
          "Il faut développer les systèmes de navette obligatoire avec parking \"relais\" sur toutes les routes en \"cul de sac\" (ex : St Véran - Queyras)",
          "Il faut former les acteurs du tourisme au contact direct du public pour mieux essaimer le concept de tourisme durable.",
          "Il faut faire prendre conscience au touriste de son impact sur les systèmes alimentaires locaux pour encourager les bons comportements.",
          "Il faut protéger notre environnement et sites naturels avec une limitation d’accès en nombre et un accès en véhicule non polluant only",
          "Il faut favoriser l'expérience, la rencontre, la découverte (et donc l'ouverture à l'inconnu)",
          "Il faut installer des bornes de recharge à pédales (exemple : Ludikenergie) sur les espaces publics, centres de vacances.",
          "Il faut promouvoir les mobilités décarbonés et les mobilités douces pour l’accès aux vacances ce qui induit plus de proximité dans ses choix",
          "Il faut que les touristes puissent profiter d'une région tout en promouvant l'économie locale",
          "Il faut mettre à disposition plus de poubelles dans les lieux touristiques",
          "Il faut davantage communiquer sur les solutions mobilité sur les lieux d'accueil touristique (location vélo, covoiturage, transports...)",
          "Il faut proposer des cendriers de poche pour la plage, des sachets poubelle en matériaux recyclés pour les promeneurs, des gourdes.",
          "Il faut proposer des expériences permettant aux visiteurs de découvrir une région tout en agissant concrètement pour l’environnement",
          "Il faut proscrire tous les emballages alimentaires non-biodégradables des lieux touristiques",
          "Il faut que les touristes se déplaçant à vélo trouvent le long de leurs itinéraires des aires d'accueil (point d'eau, abri, quelques outils)",
          "Il faut créer des réserves de vie sauvage",
          "Il faut encourager les communes/sites à choisir un emblème naturel (plante, animal, site) pour personnifier l'enjeu du tourisme vert.",
          "Il faut développer le volet environnement des formations du tourisme (professionnels et universitaires)",
          "Il faut interdire la cigarette sur les plages",
          "Il faut commencer par inventorier finement la variété des patrimoines existants sur chaque territoire",
          "Il faut décarboner les transports et les hébergements.",
          "Il faut mettre des consignes de tri en plusieurs langue pour éviter les erreurs de tri pour s’adapter aux politiques locales et vacanciers.",
          "Il faut intégrer le tourisme à vélo dans les outils de stratégie et de financement (dont financements nationaux et européens).",
          "Il faut mailler le territoire avec plus de TGV",
          "Il faut encadrer les agences de voyages et les obliger à proposer des expériences en lien avec le slow tourisme.",
          "Il faut organiser des ateliers d'intelligence collective sur le développement du tourisme positif au niveau local avec les parties prenantes",
          "Il faut démontrer que les voyages responsables ne sont pas nécessairement plus coûteux que des packages.",
          "Il faut mettre en avant les acteurs du territoires appliquant une démarche responsable.",
          "Il faut faire des routes des vins dans chaque département viticole en partenariat avec les vignerons, restaurateurs, les villages étapes",
          "Il faut bannir toutes les portions individuelles suremballées dans les buffets de restauration et de petit-déjeuner",
          "Il faut que toutes les boutiques de souvenirs vendent des articles faits en France par des artisans locaux dans des matériaux écologiques",
          "Il faut rendre plus visible les hébergements écologiques chez l'habitant",
          "Il faut proposer pour chaque destination/vol en avion des actions de compensation carbone locale au client. ex : journée plantation mangrove",
          "Il faut que les locations d’appartements de mobiles home les hôtels restos... acceptent les animaux cela évitera bon nombre d’abandons",
          "Il faut développer les petits campings afin de mailler le territoire de pistes cyclables et de lieux de bivouac.",
          "Il faut favoriser le tourisme domestique ou proche de chez soi.",
          "Il faut être vigilant sur les nouvelles offres touristiques afin qu’elles ne mettent plus en péril les écosystèmes naturels à protéger",
          "Il faut des solutions de bon sens oeuvrant pour la sobriété tout en assurant le confort comme ne pas changer les draps tous les jours",
          "Il faut plus d'interaction/soutien entre parties prenantes locales pour + d'économie circulaire et + grand poids face aux géants hôteliers",
          "Il faut une campagne de sensibilisation portée par des acteurs institutionnels pour promouvoir les écogestes en vacance",
          "Il faut mettre en place des habitats légers et déplaçables dans certains lieux touristiques saisonniers (aires touristiques temporaires)",
          "Il faut limiter les déchets, proposer des ateliers de sensibilisation le yoga peut aider à une prise de conscience pourquoi pas l’inclure",
          "Il faut que les offices de tourisme associent culture et voyage",
          "Il faut valoriser l'utilisation du train en réduisant les prix, et réhabiliter les anciennes lignes ferroviaires abandonnées.",
          "Il faut que le tourisme puisse être pour tous, que l’ensemble des clientèles puissent partir en vacances",
          "Il faut que tous les acteurs du tourisme puissent proposer à leurs clients de compenser leurs déplacements/séjours en compensation carbone",
          "Il faut que les touristes et les locaux commencent par se respecter mutuellement car à un moment ou un autre nous sommes tous acteurs.",
          "Il faut créer et promouvoir un vrai réseau de GR pour vélo avec de vraies pistes cyclables",
          "Il faut lors de pêche à pieds effectuer des opération de contrôle pour que les coquillages trop petits ne soient pas ramassés",
          "Il faut remettre des gardiens assermentés, et au moindre dechet jeté au sol distribuer des amendes conséquentes ! France propre !",
          "Il faut faire des pass voyages illimités transports bus/train à la semaine ou pour plusieurs semaines pour les touristes",
          "Il faut que le gouvernement reconnaisse les vrais taux de pollution d'un véhicule électrique et renonce à l'interdiction du thermique",
          "Il faut que les intercommunalités aient un plan d'interconnexions décarboné à l'horizon 2026 - 2031: train, vélo, électrification, cheval...",
          "Il faut interdire de fumer sur les plages et les pistes de ski.",
          "Il faut que les nations qui accueillent les touristes soient multilingues",
          "Il faut favoriser le train car 50% des gaz à effet de serres émis par le tourisme provient des modes de transports.",
          "Il faut proposer aux touristes des zones blanches avec des hébergements et des lieux de visite sans ondes (ou avec wifi débrayable).",
          "Il faut augmenter le nombre d'emplacements vélos dans les trains le long des grands itinéraires touristiques.",
          "Il faut limiter le nombre d'entrées par jour sur les sites naturels ou historiques protégés (inscriptions à l'avance...)",
          "Il faut favoriser l’accès direct aux sites touristiques aux modes actifs (piétons, vélos, rosalies) et aux voitures des personnes handicapés",
          "Il faut que les habitants et les acteurs du tourisme cultivent positivement et collectivement un esprit d’hospitalité verte et naturelle.",
          "Il faut accompagner et soutenir concrètement les porteurs de projets privés qui veulent développer un tourisme respectueux et innovant.",
          "Il faut un label/une certification pour inciter/obliger tous les établissements hôteliers à être plus responsables.",
          "Il faut sensibiliser les gens, primordial non ?",
          "Il faut un organisme qui collecte les données de transport et itinéraires touristiques afin d'avoir une vision d'ensemble de l'impact écolo",
          "Il faut que État, citoyens et acteurs du tourisme, cultivent positivement et collectivement un esprit d’hospitalité verte et naturelle",
          "Il faut végétaliser le plus possible les villes et les territoires.",
          "Il faut faciliter le transport en train jusqu'à et sur le lieu de vacances (tarifs, remise en service des gares, mobilités douces...)",
          "Il faut mobiliser les acteurs du tourisme dans une démarche responsable avant de sensibiliser les touristes.",
          "Il faut informer davantage les entreprises sur les aides existantes en matière d'équipement écologique",
          "Il faut que dans de nombreuses villes les pistes cyclables soient cohérentes, commencent et finissent sans rien après",
          "Il faut mettre en avant les établissements engagés pour un tourisme plus responsable, les hébergements durables et insolites",
          "Il faut aider les petits campings pour qu'ils puissent se maintenir afin d'éviter qu'ils soient tentés de vendre aux bétonneurs",
          "Il faut engager plus de jeunes dans des actions écologiques via le parcours civique.",
          "Il faut soutenir le tourisme fluvial et mettre en avant ce mode de transport doux pour les riverains comme les territoires.",
          "Il faut développer les déplacements doux sur cette période de détente (marche, vélo, voile...) en réduisant l'usage des véhicules polluant.",
          "Il faut du bon sens. Stop à l'écologie punitive les taxes et les interdictions.",
          "Il faut que le tourisme responsable soit portée par une politique territoriale (transports, transition énergétique, agriculture bio)...",
          "Il faut que les agences de voyages et offices de Tourisme proposent des guides écoresponsables aux touristes pour respecter l'environnement.",
          "Il faut encourager la chasse en France pour contribuer à limiter le dégât des gibiers et ainsi protéger des sites naturels",
          "Il faut informer et diriger les touristes vers des sites et établissements qui respectent les principes du développement durable",
          "Il faut développer les marchés de producteurs locaux dans les petites communes. Allier manger local,convivialité et découverte de la commune",
          "Il faut développer le tourisme créatif comme une alternative au tourisme de masse",
          "Il faut une solution de tri (notamment des composteurs) dans tous les campings.",
          "Il faut imposer le bilan carbone à la nuitée de tous les lieux d'hébergement, pour aider à comparer et à prendre conscience de l'impact",
          "Il faut promouvoir des territoires moins fréquentés afin d'optimiser la gestion des flux touristiques en cette période de réouverture.",
          "Il faut étendre l'interdiction des vols nationaux aux trajets possibles en train en 6h et moins, et améliorer l'offre ferroviaire.",
          "Il faut créer des circuits de visites touristiques à vélo (guidés ou visite libre) dans les villes et en zone rurale.",
          "Il faut taxer les activités touristiques ayant un impact négatif sur l'environnement: pollutions hydrocarbures, bruits, énergivores...",
          "Il faut faciliter l'utilisation du train avec vélo afin de faciliter les vacances ou week-ends à vélo (espace dédié facilement accessible)",
          "Il faut taxer en fonction de l'impact carbone : favoriser l'accès de tous pour les activités non polluantes/surtaxer les polluantes.",
          "Il faut rendre attractif le tourisme local pour nos ressortissants, notamment au regard des séjours proposés à l'étranger.",
          "Il faut aider les petites communes à mettre en place des politiques touristiques afin d'enrayer la spirale tourisme de masse.",
          "Il faut développer des hébergements écologiques, des expériences de slow tourisme et les accompagner de pédagogie pour sensibiliser",
          "Il faut privilégier des actions protection de la flore sous-marine sur les plages en été",
          "Il faut sensibiliser et encourager le retour des déchets produits par les visiteurs d'espaces naturels pour limiter la pollution",
          "Il faut intensifier les recherches sur les modèles de recyclage et donner envie au gens de s'y intéresser",
          "Il faut développer une offre \"Parc naturel\" adapté au tourisme moderne (toilette, barbecue, gardes forestiers animateurs, sentiers aménagés)",
          "Il faut encourager les actions éco-citoyennes dans les lieux de séjour des touristes (collecte de déchets sauvages, nettoyage de plages...)",
          "Il faut impliquer les visiteurs dans la dynamique responsable (proposer des circuits alternatifs, les sensibiliser aux espaces fragiles...)",
          "Il faut interdire les camping-car en bord de mer la nuit",
          "Il faut généraliser le pourboire sur paiement par carte avec 4 niveaux (de 5 à 20 %) défiscalisé pour le serveur",
          "Il faut faire inventer, confectionner un type de poubelle de tri sélectif, fonctionnelle, ludique, qui prend peu de place, type gigogne.",
          "Il faut développer le tourisme de proximité partout en France: circuits de randonnée (à pied, à vélo, à cheval,...),découverte du patrimoine",
          "Il faut permettre aux hébergements français de proposer des prix attractifs pour limiter l'évasion touristique à l'étranger.",
          "Il faut récupérer l'eau de pluie pour les toilettes de camping et l'arrosage des parterres de fleurs et douches accessibles carte camping",
          "Il faut inciter les Français à partir le moins loin possible en favorisant le tourisme local (prix préférentiel, chèques loisirs régionaux)",
          "Il faut multiplier les parkings et aires pour camping car en les aménageant correctement afin de pouvoir vidanger les eaux grises et noires",
          "Il faut développer des pistes cyclables sécurisées.",
          "Il faut développer le micro tourisme de proximité, apprendre à re-découvrir, respecter et valoriser les richesses de son environnement local",
          "Il faut continuer à aménager les pistes cyclables dans une continuité à 100% (sans rupture entre deux communes par exemple.)",
          "Il faut obliger les communes à contraindre les règles d'urbanisme dans les zones protégées, en interdisant toute nouvelle construction",
          "Il faut imposer aux touristes 1 fois durant leur séjour le ramassage des déchets (1 petit seau) sur les plages, chemins de randonnée etc...",
          "Il faut rendre accessible le tourisme à vélo pour tou.te.s (quelle que soit la condition physique, l’âge ou le niveau de revenu).",
          "Il faut mieux baliser les sentiers de randonnée et y interdire le passage des engins motorisés (quads, motocross)",
          "Il faut faire appliquer la réglementation en termes de nuisances sonores (motos et véhicules thermiques)",
          "Il faut que chaque hébergeur mette en place le tri sélectif et s'engage à promouvoir les acteurs locaux engager dans les circuits courts.",
          "Il faut développer le covoiturage sur les lieux de vacances.",
          "Il faut développer la compréhension d'ensemble du système touristique afin de mieux adapter les approches aux contextes et perspectives.",
          "Il faut augmenter la Charge Utile des Camping Cars de 3.5 T pour passer à 4.2 T. Ceci afin de normaliser le poids des CC en Europe.",
          "Il faut accompagner et développer les offices de tourismes \"ruraux\" pour rééquilibrer les flux depuis les destinations en tension.",
          "Il faut être réaliste et ne pas confondre effet de mode et comportement plus civique, plus vertueux. Le tourisme c'est la liberté de vivre.",
          "Il faut supprimer les vols intérieurs et développer l'interconnexion avion/train pour les longs courriers.",
          "Il faut donner plus de budgets aux espaces protégés français, afin de pouvoir concilier préservation et afflux touristiques.",
          "Il faut que chaque territoire crée une offre touristique socialement et écologiquement responsable pour stimuler l'économie circulaire",
          "Il faut inclure systématiquement dans chaque aménagement de la route une piste ou une solution cyclable.",
          "Il faut des hébergements temporaires sans impact juste là où il faut et quant il le faut autre que HLL pour un tourisme durable expérientiel",
          "Il faut redorer l'image de certaines régions et que l'intérieur des terres est aussi à voir!",
          "Il faut inciter à prendre son temps pour découvrir une destination et éviter la course aux \"incontournables\"",
          "Il faut éduquer dès le plus jeune âge les enfants à respecter la flore,la faune, l'environnement en leur faisant visiter un maximum de sites",
          "Il faut des toilettes publiques non payantes en ville et à la campagne.",
          "Il faut limiter les accès en trop grand nombre sur les sites sensibles ou canaliser les déplacements pour préserver les autres formes de vie",
          "Il faut penser à un tourisme déconnecté pour lutter contre la pollution numérique. Et organiser des cueillettes touristiques.",
          "Il faut installer des toilettes publiques sur toutes les plages et des contrôles pour zéro déchet laissé sur la plage",
          "Il faut prévoir lors de constructions nouvelles, des panneaux photovoltaïques et des récupérateurs d'eau de pluie",
          "Il faut que les offices du tourisme éditent un \"manuel\" didactique englobant les richesses, pratiques/règles du territoire visité.",
          "Il faut limiter le tourisme étranger sur tous les sites de France et faire payer plus cher le billet d'entrée au tourisme étranger",
          "Il faut recruter des agents municipaux chargés du respect des règlements écologiques dans les lieux à forte affluence.",
          "Il faut proposer des sorties vélo dans les écoles bien encadrées (pique-nique, découverte de l'arrière pays et des fermes agricoles...)",
          "Il faut proposer aux vacanciers de participer au fleurissement du lieu ou entretien des espaces de jeux",
          "Il faut favoriser le stationnement des véhicules de loisir proche des sites touristiques au même titre qu'un véhicule léger.",
          "Il faut penser une offre de séjour pour les familles et les personnes les plus précaires pour qu'elles puissent partir en vacances.",
          "Il faut mettre en avant des acteurs exemplaires afin d’inspirer et d’encourager ceux qui ne mettent rien en place",
          "Il faut promouvoir le patrimoine local afin d'inciter les vacanciers à visiter leur région et réduire les grands trajets (avion ou voiture)",
          "Il faut éviter les \"on fait payer le vrai prix de l'avion\" \"on interdit le lowcost\" qui vont créer de l'inégalité",
          "Il faut encourager l'utilisation des transports en commun les moins polluants",
          "Il faut que les guides conférencier.es, formés à la médiation, connaisseurs de leur environnement et leurs fragilités soient privilégié.es.",
          "Il faut obliger la SNCF à accueillir les vélos à bord de tous les trains dans un wagon dédié et cela dès 2022",
          "Il faut mieux informer les touristes sur la fréquentation réelle des territoires en pleine saison afin d'éviter la surfréquentation.",
          "Il faut plus d'emplacements \"cyclistes\" dans les campings (prix modique, pas de réservation).",
          "Il faut encourager la mise en œuvre de programme de gestion des déchets alimentaires et de recyclage.",
          "Il faut que les lieux touristiques soient mieux fléchés depuis les véloroutes et voies vertes.",
          "Il faut voyager local, consommer local",
          "Il faut limiter jusqu'à suppression les loisirs à forte consommation d'énergie et ou polluant: jets ski, bouées tractées, hors bords...",
          "Il faut favoriser les entreprises familiales (non rattachées à des groupes) qui constituent de vrais atouts pour l'économie locale et rurale",
          "Il faut privilégier un tourisme authentique et de proximité. Etre acteur dans nos vacances et privilégier la rencontre en local.",
          "Il faut taxer de manière significative tous les vols courts nationaux (sauf si le trajet concerné n'existe pas en train).",
          "Il faut élaborer des outils permettant aux acteurs touristiques de mesurer les émissions de CO2 produites par leur activité.",
          "Il faut encourager les employeurs à accorder des dotations supplémentaires aux CSE qui organisent des séjours responsables pour les salariés",
          "Il faut favoriser les longs séjours en hôtel pour diminuer l'impact du ménage, lavage du linge = moins d'eau utilisée et polluée.",
          "Il faut donner des moyens à l’ambition de faire de la France la première destination mondiale du tourisme à vélo.",
          "Il faut voyager de façon plus responsable, privilégiant des transports respectueux de l'environnement et des solutions de comme Tictactrip",
          "Il faut une ristourne sur les séjours pour les touristes qui se déplacent en transport doux",
          "Il faut réussir à mettre en avant un tourisme plus local, pas besoin de partir à 1000 km de France",
          "Il faut que les déchetteries soient accessibles à tous",
          "Il faut sanctionner pour le rejet de déchets n'importe où après avoir tout fait pour informer et équiper l'espace urbain en poubelles",
          "Il faut inciter à des actions touristiques fortes. Eg : un gîte qui propose une journée nettoyage des plages/forêts aidé par l'Etat.",
          "Il faut limiter drastiquement l'utilisation des bateaux de plaisance à moteur aux abords des ports touristiques, 1 sortie par semaine?",
          "Il faut mieux indiquer la provenance des produits locaux, nom de la ferme, type d'agriculture, mois de récolte etc.",
          "Il faut récompenser le touriste qui pollue moins, pas taxer celui qui pollue plus, pour qu’il voit un réel intérêt à changer ses habitudes",
          "Il faut aider au maintien des petits campings ruraux",
          "Il faut prioriser les activités de sensibilisation sur l'environnement et jouer sur les technologies digitales pour rester \"fun\".",
          "Il faut optimiser l'appropriation de la richesse et de la fragilité de la ressource en eau, nécessaire à la vie, aux sports et aux loisirs.",
          "Il faut préférer les circuits courts pour limiter l’impact environnemental dans les hôtels.",
          "Il faut que l’on arrête avec ce côté reptilien qui fait que par mimétisme ou par compétition on va à l’autre bout du monde pour les vacances",
          "Il faut proposer d’associer à tout projet de développement touristique la consultation de l’ADEME",
          "Il faut proposer plus de solutions de transport en commun ou individuelle, aux abords des lieux de parking et campings",
          "Il faut augmenter le nombre de places de vélos dans les train",
          "Il faut que les touristes soient sensibilisés à la protection de nos ressources en eau et puissent adopter des bonnes pratiques",
          "Il faut promouvoir le tourisme de proximité en diminuant les prix pour les locaux et augmenter les prix pour les autres",
          "Il faut plus de poubelles et wc sur les sites tel que plages, forêts, lieux touristiques naturels.",
          "Il faut arrêter avec les canons à neige et aider les destinations de montagne à se transformer et s'adapter",
          "Il faut que chaque hôtelier respecte et propose une charte environnementale: chauffage, gestion du linge de toilette,...",
          "Il faut proposer des guides plus nombreux et plus diversifiés, humains ou papiers ou sur smartphone",
          "Il faut créer une charte propreté drastique, voir notre hexagone aussi dramatiquement sale est une honte et draine une image déplorable",
          "Il faut pouvoir planter des jeunes arbres pour les générations futures partout ou c'est possible. Arbres mellifères, fruitiers, rares etc.",
          "Il faut faciliter les démarches administratives pour un tourisme rural responsable et équitable.",
          "Il faut que les instances touristiques et culturelles (OT, monuments, sites...) créent et préservent des emplois pour un accueil humain.",
          "Il faut favoriser le tri des déchets en uniformisant les règles de tri sur le territoire national",
          "Il faut une clause stricte de mesure d'impact sur l'environnement lors de la délivrance des permis de construire d'équipements touristiques.",
          "Il faut que les touristes puissent contribuer à la préservation de la biodiversité pendant leurs vacances",
          "Il faut taxer les véhicules individuels polluants sur toutes les autoroutes du territoire français",
          "Il faut afficher des photos de lieux pollués par les déchets (mer) afin d'inciter à ramasser les siens. Principe des paquets de cigarettes !",
          "Il faut augmenter la taxe de séjour afin de financer des projets vertueux portés par les collectivités territoriales.",
          "Il faut mettre à disposition du secteur HCR des dispositifs de compostage sur place et étendre les consignes.",
          "Il faut limiter l'impact des produits à emporter (pique-niques, goûters... ) sur les lieux touristiques",
          "Il faut rendre l'offre culturelle plus visible auprès des touristes pour mieux répartir la fréquentation",
          "Il faut déculpabiliser les acteurs du tourisme en développant un tourisme positif, beaucoup plus inclusif où chacun fait avec ses moyens",
          "Il faut pouvoir sanctionner les touristes et les résidents qui ne trient pas leurs déchets.",
          "Il faut repenser ensemble les territoires et soutenir concrètement les petits entrepreneurs face aux prix cassés des grands groupes.",
          "Il faut privilégier les mobilités douces en aménageant des voies de circulation sans danger pour les vélos ou trottinettes non motorisées.",
          "Il faut conserver l'état naturel de l'environnement auquel il est rattaché en limitant un maximum la pollution du monoxyde de carbone.",
          "Il faut apprendre aux gens à se comporter correctement, mais sans vouloir mettre des PV qui ne serviraient à rien",
          "Il faut former les employés du secteur touristique aux questions de développement durable pour les sensibiliser aux bonnes pratiques.",
          "Il faut prévoir des aires pour camping publics avec toilettes sèches dans les aires naturelles, payant à la nuitée, cf nouvelle Zélande.",
          "Il faut commencer par réprimer durement les automobilistes pour le non-respect des cyclistes, piétons, ces maitres de la route",
          "Il faut faciliter les modes doux une fois sur le lieu de vacances pour diminuer l'usage de la voiture sur place.",
          "Il faut limiter la fréquentation sur les lieux où le tourisme de masse devient destructeur (calanques, dunes, centre villes historiques)",
          "Il faut donner envie aux Français et aux étrangers de découvrir des territoires aujourd'hui peu fréquentés",
          "Il faut proposer des stages eco-citoyen encadré par nos 1800 agents de l'environnement à ceux qui laissent leurs déchets dans la nature",
          "Il faut développer le maillage des transports en commun à faible impact environnemental dans les territoires ruraux.",
          "Il faut informer sur ce que coûtent en eau et en énergie les piscines qui sont très souvent en tête des arguments de locations de vacances.",
          "Il faut s'occuper de tous et pas uniquement des touristes.",
          "Il faut développer les formes de tourismes plus responsables : cyclotourisme, rando etc...",
          "Il faut revenir au bon sens, arrêter de tous compter sur les touristes étrangers pour faire vivre le tourisme en France",
          "Il faut rapidement trouver \"un diesel\" écolo pour les camping-cars anciens (depuis 2006) car compte tenu du prix d'un cc on les garde",
          "Il faut, pour certaines zones très fréquentées, limiter les flux touristiques: installer une jauge? Comme dans certains parcs nationaux.",
          "Il faut récupérer les déchets des restaurants pour en faire du compost qui serait revendu en jardinerie à des tarifs très attractifs",
          "Il faut créer un label \"Se souvenir local\" issu de l'artisanat ou de l'industrie locale. Bannir les souvenirs provenant de l'étranger.",
          "Il faut respecter la propriété par d'avantage de poubelles dans les lieux touristiques",
          "Il faut mettre en valeur l’agritourisme pour permettre la promotion du territoire français comme destination touristique de choix.",
          "Il faut sensibiliser et informer les voyageurs sur l’accès aux modes de transport locaux plus durables (trains, navettes, vélo, covoiturage)",
          "Il faut que l’écologie cesse d’être punitive, mais chacun doit y trouver des avantages immédiats sinon ça ne fonctionne pas",
          "Il faut créer un tourisme ludique et enrichissant : découverte de la nature, engagement pour les animaux, actions citoyennes...",
          "Il faut permettre en France le stationnement et les aires de repos plus fonctionnelles pour les camping cars",
          "Il faut proposer aux touristes de ramasser l'équivalent d'1 sac poubelle (50L) de déchets et offrir un brunch ou apéro pour la fin du séjour",
          "Il faut mette des quotas d'accès aux lieux touristiques pour lutter contre le tourisme de masse et les dégradations/pollution venant avec",
          "Il faut que tous les lieux touristiques aient des parkings vélos à proximité.",
          "Il faut offrir une meilleure qualité de vie aux citoyens par la régulation des niveaux de fréquentation des sites touristiques",
          "Il faut sensibiliser les restaurateurs à proposer des assiettes végétariennes/végétaliennes",
          "Il faut un rapport minimum entre temps du transport aérien et durée de séjour. Pas de milliers de kilomètres en avion pour un seul week-end.",
          "Il faut limiter et/ou taxer l'accès des véhicules polluants dans les sites sensibles et pollués (stations montagne, ports...)",
          "Il faut développer les déplacements en train entre régions et supprimer les vols internes",
          "Il faut limiter le recours à des sports mécaniques loués sur place (quad, jet ski,...) à des espaces de pratique autorisée.",
          "Il faut éviter l'impression de flyers et documents à durée de vie limitée (événements, informations...etc.)",
          "Il faut mettre plus de poubelles et qu'elles soient plus souvent ramassées (je pense surtout aux autoroutes).",
          "Il faut construire une meilleure coopération entre les acteurs économiques locaux et les structures du tourisme",
          "Il faut prendre des arrêtés lorsque c'est possible sinon légiférer pour limiter drastiquement les locations \"touristiques\" de courte durée",
          "Il faut inciter à avoir poulaillers et composteurs dans toutes les structures où cela est possible.",
          "Il faut soutenir le développement du tourisme à vélo en France (infrastructure, services, communication, accessibilité, organisation)",
          "Il faut développer les logements avec cuisine pour réduire les coûts pour les familles et permettre à tous de partir en congés.",
          "Il faut absolument inciter la population à dé-carbonner son voyage en lui proposant une suite cohérente entre le train et le vélo.",
          "Il faut ouvrir des lieux d'échange/des flux où se mélangent les locaux et les visiteurs",
          "Il faut profiter des vacances pour proposer des expériences de reconnexion avec la nature, animations sur la biodiversité, le climat...",
          "Il faut penser à ne pas défavoriser les plus démunis donc privilégier l’éducation et l’information plutôt que de créer des taxes",
          "Il faut s'appuyer sur les sports de nature pour sensibiliser les touristes à la sensibilité des espace naturels.",
          "Il faut que les habitants deviennent acteurs du tourisme de leur territoire",
          "Il faut adapter les publicités dans les transports en commun, radios... pour des destinations locales (<200km du lieu de la pub).",
          "Il faut mettre en place une taxation dissuasive pour limiter les flux de touristes venant de loin par avion",
          "Il faut obliger les grands sites à mettre en place des fontaines et y interdire la vente d'eau en bouteille.",
          "Il faut valoriser l'intermodalité touristique, en privilégiant les modes de transport doux ou transport en commun à faible impact en CO2.",
          "Il faut que les sorties de découverte et observation de la nature soient davantage mises en valeur/recommandées dans les offices de tourisme",
          "Il faut multiplier les places pour les vélos dans les transports en commun: bus, train, bateaux",
          "Il faut créer / développer des formations pour le tourisme responsable, aider aux changements écologiques pour les acteurs du tourisme.",
          "Il faut appréhender la notion de tourisme responsable dans sa durabilité qui associe les enjeux sociaux, environnementaux et économiques",
          "Il faut que le touriste arrête d'acheter des souvenirs \"made in china\" et achètent local, même si plus cher.",
          "Il faut mettre à disposition davantage de fontaines d’eau potable et inciter les touristes à y remplir leurs gourdes réutilisables",
          "Il faut multiplier les toilettes publiques gratuites et entretenues dans les lieux touristiques.",
          "Il faut garantir de manière globale la durabilité du tourisme.",
          "Il faut fermer les lieux trop fréquentés à la circulation automobile pour les non-résidents.",
          "Il faut faire de l'accessibilité un sujet au service du plus grand nombre: non axé sur le seul handicap.",
          "Il faut adapter le nombre de poubelles et la fréquence des camions poubelles au besoin réel: trop de poubelles débordent.",
          "Il faut faciliter la mobilité / les déplacements au niveau national avec par exemple des \"pass\" voyages en train/bus avantageux.",
          "Il faut faire connaître les monnaies locales pour encourager le paiement des petits producteurs locaux dans ces monnaies",
          "Il faut arrêter les emballages plastiques et préférer le conditionnement en verres consignés",
          "Il faut réfléchir, mettre en valeur et étendre l'offre de transports publics permettant de se déplacer sans voiture (train, bus...).",
          "Il faut développer le maillage ferroviaire intra-départemental/régional afin d'offrir une alternative concrète à l'avion ou la voiture.",
          "Il faut que chaque citoyen respecte scrupuleusement les règles du bien vivre ensemble, souvent du simple bon sens.",
          "Il faut le jumelage de quartiers ou de petites villes avec des bourgs et villages de France.",
          "Il faut des parkings en périphérie des cités touristiques avec navettes régulières et à petit prix ( ex: Mont Saint Michel )",
          "Il faut permettre l'accès à certains espaces d'un site naturel, mais pas à \nd'autres (ou uniquement aux modes de transport non motorisé)",
          "Il faut dès l’enfance sensibiliser au tourisme éco-responsable via des travaux scolaires participatifs ou mieux des classes vertes dédiées.",
          "Il faut former les acteurs du tourisme au contact direct du public, pour mieux essaimer le concept de tourisme durable",
          "Il faut indiquer l'impact environnemental, avec un score par exemple, lors des réservations touristiques (transports, logement, activité...)",
          "Il faut développer l'autorail à partir des métropoles vers les principales régions touristiques pour diminuer la proportion de la voiture.",
          "Il faut améliorer la qualité des équipements vélos à proximité des itinéraires cyclables de façon régulière et homogène",
          "Il faut inciter le secteur du tourisme à proposer des alternatives aux modes de transport les moins responsables.",
          "Il faut booster la petite hôtellerie avec un tourisme participatif.",
          "Il faut mettre des taxes sur les activités touristiques non responsables, à fort impact carbone",
          "Il faut proposer aux touristes de participer a des actions bénéfiques a la nature: écorun, nettoyage foret, entretien de restanque/dune ..",
          "Il faut que dans tous les offices de tourisme il y ait une bibliothèque spécialisée (tout genre) sur la région pour des prêts aux touristes",
          "Il faut renforcer l'offre de transport en commun jusque dans les zones reculées et la rendre consultable sur un portail unique trains/bus/..",
          "Il faut développer l'accueil des touristes pour éviter la pollution et les flux sauvages : wc publics, signalisation, voies touristiques...",
          "Il faut réguler l'accès à certains sites touristiques surexploités",
          "Il faut consulter les habitants, créer des espaces de et empêcher les projets qui ne reçoivent pas l'avis favorable des populations locales.",
          "Il faut des postes d’animation écologique en offices de tourisme pour assurer plan d’actions et suivi nécessaire avec les pros du territoire",
          "Il faut trouver des labels durables compréhensibles auxquels se référer pour comprendre le produit/service consommé",
          "Il faut assouplir les carcans administratifs",
          "Il faut repenser les règles d'aménagement du territoire pour décentraliser l'activité des grandes villes vers les territoires peu peuplés.",
          "Il faut des voyages plus responsables : destinations plus locales, plus de déchets jetés ou produits, respect de la nature et des animaux...",
          "Il faut arrêter de nous faire payer une taxe de séjour. Nous payons déjà pour notre domicile!",
          "Il faut que les touristes comprennent que même si c’est grâce à eux que le tourisme existe il faut respecter la nature et surtout les espace",
          "Il faut encourager les initiatives autour du tourisme local",
          "Il faut arrêter de bétonner à tout va, reconstruire, transformer l'existant serait un beau projet",
          "Il faut promouvoir le tourisme local plutôt que les destinations lointaines",
          "Il faut déployer de petites lignes de TER sur les territoires ruraux, pour permettre aux citadins de venir facilement en train voire à vélo",
          "Il faut définir les moyens de remplacement pour les vols internes et les distances.",
          "Il faut installer plus de composteurs collectifs dans les zones touristiques pour diminuer les déchets. ",
          "Il faut en juillet-août, transférer des moyens, en matière de transports en commun, des grandes métropoles vers les sites touristiques",
          "Il faut impliquer les habitants des territoires dans le tourisme autrement que par l'économique, les impliquer dans le rayonnement",
          "Il faut harmoniser et simplifier les labels et certifications valorisant les engagements durables.",
          "Il faut créer une charte de qualité à respecter pour éviter toute dégradation et ainsi continuer à profiter de nos belles régions",
          "Il faut avoir du personnel qui parle l'anglais",
          "Il faut que les abords des routes soient mieux gérés : respect des piétons et des cyclistes.",
          "Il faut augmenter les taxes sur les produits polluants (plastique, carburant etc...) et diminuer celles sur les produits non polluants",
          "Il faut impliquer les touristes dans les actions éco-responsables locales, comme le nettoyage de sites naturels",
          "Il faut refondre l’offre touristique en organisant les transports doux.",
          "Il faut prendre en compte les réelles possibilités d'accès à ce public",
          "Il faut compenser nos émissions carbone quand nous empruntons des moyens de transport polluant.",
          "Il faut réintroduire massivement l’offre de train de nuit",
          "Il faut mettre en place pour chaque nouvelle activité/service touristique une action de sensibilisation ou d'éducation à l'environnement",
          "Il faut soumettre les aides des collectivités à l'éco-conditionnalité (labels de gestion durable)",
          "Il faut surtout distribuer les sachets dans les trains et non à destination car trop tard",
          "Il faut penser au problème des lits froids en station de montagne, développer les possibilités d'hébergement des saisonniers",
          "Il faut prévoir des parkings à l'extérieur des sites, solliciter les déplacements propres en centre ville",
          "Il faut que toute nouvelle construction soit obligatoirement écologique, matériaux bio-sourcés, autonome en énergie...",
          "Il faut que chacun soit en mesure d'arbitrer sur des choix de vacances qui soient respectueux (transport, activités, mode de vie)",
          "Il faut développer les stratégies d'offres de tourisme durable dans les formations initiales en tourisme",
          "Il faut interdire les produits de bain à usage unique en hôtellerie",
          "Il faut aménager le transport ferroviaire pour camions voitures et tout le reste pour désengorger les routes. Par exemple avec  la ligne LGV",
          "Il faut que les acteurs du tourisme et les consommateurs s'engagent pour que l'économie touristique soit la plus verte possible",
          "Il faut créer un voyage instructif qui permettrait de faire prendre conscience au gens de l'urgence climatique et des bons gestes à adopter",
          "Il faut dire stop au greenwashing (que ce soit par les structures d'hébergement ou pire les compagnies aériennes qui se mettent au \"vert\")",
          "Il faut que chacun ait conscience de son impact environnemental en fonction de son logement de tourisme, son mode de transport, etc.",
          "Il faut proposer des \"chèques vacances responsables\" pour inciter à voyager autrement",
          "Il faut allonger les séjours en accentuant les disponibilités sur les campings, le gens veulent partir en vacances? Alors aidons les !",
          "Il faut supprimer l'utilisation du plastique relatif au tourisme en favorisant l'utilisation de matières gérées responsablement.",
          "Il faut garantir un tourisme moins concentré et plus diffus en développant les offres d’agritourisme.",
          "Il faut aussi développer et valoriser les services offerts",
          "Il faut réduire tout ce qui est \"tourisme de masse\" consistant à accueillir le plus possible de \"clients\" dans un minimum d'espace.",
          "Il faut intégrer, dans toute action, en permanence, que le 1er touriste est l'habitant du territoire.",
          "Il faut développer une offre touristique autour du voyage intérieur pour éveiller la conscience des gens sur l'urgence climatique",
          "Il faut que l'on arrête de virer les gens de manière injuste et inhumaine dans le secteur du tourisme (institutionnel notamment)",
          "Il faut privilégier le train et les transports en commun pour les destinations les plus populaires.",
          "Il faut valoriser et protéger l’économie locale et le patrimoine de la destination (en maîtrisant notamment les flux touristiques)",
          "Il faut taxer fortement les activités qui génèrent des nuisances au détriment du plus grand nombre - survol en hélico; jet ski; avions pub",
          "Il faut remettre en service les petites lignes SNCF intérieures que l'on ferme depuis plusieurs années",
          "Il faut renforcer les relations institutionnelles/socio-professionnelles pour les associer à nos actions de tourisme responsable",
          "Il faut une signalétique pour les lieux de repos (bancs, toilettes...), des pancartes vers les lieux touristiques environnants à découvrir",
          "Il faut des guides audio et papier pour présenter les richesses naturelles et leurs enjeux de conservation",
          "Il faut contrôler les investisseurs et non culpabiliser les touristes",
          "Il faut encourager ceux qui refusent d'alourdir leur bilan carbone et préfèrent un tourisme national. Pourquoi pas des réductions pour eux ?",
          "Il faut développer le train de nuit, les parcs à vélo, supprimer toutes les lignes aériennes quand les déplacements en train sont possibles",
          "Il faut opter pour les constructions d'hôtels, d'appartements estivaux et autres logements saisonniers en matériaux éco-responsables.",
          "Il faut (à Paris) limiter les cars touristiques qui stationnent des heures, moteurs allumés, près des grands monuments",
          "Il faut que chaque citoyen soit convoqué 1 journée par an, donc activité en groupe pour une mission de ramassage des déchets.",
          "Il faut soutenir les médias indépendants qui valorisent les initiatives de tourisme durable depuis des années sans aucun denier public.",
          "Il faut un tourisme zéro déchet. Que tous les acteurs s'engagent dans une démarche \"zéro déchet\", et à recycler un maximum",
          "Il faut mieux répartir les touristes sur le territoire français pour limiter la pression sur les milieux naturels",
          "Il faut arrêter les toilettes à la turque c'est tellement peu pratique et sale.",
          "Il faut créer une plateforme commune à notre région type Amazon Local, afin de\n privilégier nos artisans, agriculteurs et commerces locaux.",
          "Il faut grandement développer le réseau de pistes cyclables intercommunales et régionales.",
          "Il faut créer un \"holiday-score\" qui mesure l'empreinte carbone d'un séjour/voyage et qui s'affiche à l'achat comme pour l'électroménager.",
          "Il faut développer les transports en commun et les voies cyclables dans les zones touristiques",
          "Il faut que chaque destination participe à faire du tourisme un facteur d’inclusion (tourisme pour tous , favoriser l'accessibilité)",
          "Il faut centraliser et baliser les itinéraires de randonnées afin qu'ils soient mieux connus de tous, être dans la nature motive le green",
          "Il faut renforcer le soutien pour le développement des labélisations RSE",
          "Il faut moins de chartes et plus de civisme et surement un peu de répression pour rendre les gens responsables de leurs actes.",
          "Il faut préserver le littoral de la bétonisation et ne plus autoriser des plages privées et autre paillotes sauvages.",
          "Il faut impliquer les touristes via les social media: concours de photos d'insectes, éco-run photographié...avec une prime à la clef",
          "Il faut un tourisme social et solidaire : des emplois stables avec des salaires corrects qui ne soient pas saisonniers ou précaires.",
          "Il faut imaginer une éducation aux enjeux du paysage, du patrimoine et du cadre de vie pour sortir de l'approche consumériste des sites",
          "Il faut sensibiliser professionnels et touristes sur les modes de commercialisation de l'offre touristique (réservation en direct, locale)",
          "Il faut cesser de vouloir redevenir la première destination touristique mondiale. La quantité n'est pas un objectif",
          "Il faut rendre concrètes et pédagogiques les actions de protection de la biodiversité auprès des touristes",
          "Il faut interdire tous les avions à l'intérieur d'un même continent",
          "Il faut inciter les scolaires, étudiants et chercheurs à s'impliquer dans leur région par des actions concrètes",
          "Il faut que les sites touristiques soient exemplaires sur la protection de l'environnement (tri, zéro déchet, pollution...)",
          "Il faut interdire les billets d'avion low-cost et appliquer une forte taxe carbone",
          "Il faut limiter les nouvelles infrastructures touristiques là où elles sont déjà très/trop présentes (Alpes, bord de mer,...)",
          "Il faut que les aires de repos soient un peu plus surveillées, s'en remettre à la bonne volonté des gens relève de l'utopie !",
          "Il faut mettre en place des chèques vacances verts (modèle belge) utilisables seulement dans des lieux éco-touristiques.",
          "Il faut mettre en avant les producteurs locaux en indiquant précisément la provenance des produits au sein des établissements",
          "Il faut soutenir, développer et professionnaliser les services de conciergerie qui fluidifient l’accueil sur les territoires",
          "Il faut interdire les vols d'avions et les croisières qui ont pour unique but (respectivement) de prendre l'avion et de naviguer",
          "Il faut que les touristes puissent identifier plus facilement les activités et hébergements touristiques verts",
          "Il faut inciter les hébergeurs à réduire leur impact sur l'environnement de manière importante en contrepartie d'avantages fiscaux",
          "Il faut développer les consignes à bagages sur les lieux touristiques pour que les cyclotouristes puissent y déposer leurs sacoches.",
          "Il faut considérer les touristes comme des invités des professionnels du tourisme et rendre ces derniers responsables de leurs invités",
          "Il faut interdire l'accès aux voitures à moins d'un km du littoral.",
          "Il faut avoir un plan d'actions rapides et globales sur nos îles: déchets, réseaux d'eau et électricité, habitat, produits toxiques",
          "Il faut promouvoir le tourisme vert, à faible impact carbone, dans des lieux tout aussi proches que dépaysants, invitant à la déconnexion.",
          "Il faut obliger les réparateurs de vélos et autres produits de loisirs à recycler les pièces remplacées",
          "Il faut faciliter la location de vélos (courte durée) dans les villes touristiques pour se déplacer facilement d'un lieu à l'autre.",
          "Il faut cesser de promouvoir certaines activités surtout dans les zones sur-fréquentées : \"vagues\" indoor, bouées tractées, kartings...",
          "Il faut mettre en lumière d’autres manières de faire et de penser pour inspirer et inciter à casser les codes",
          "Il faut un label « tourisme responsable et solidaire » pour les associations et entreprises qui œuvrent auprès des touristes à petit budget.",
          "Il faut augmenter le prix des énergies fossiles pour limiter les déplacements excessifs et donc le tourisme de masse.",
          "Il faut créer une dynamique d'amélioration continue durable et conviviale autour des hébergeurs avec toutes les parties participantes.",
          "Il faut valoriser le potentiel touristique de nos campagnes françaises, les dynamiser plutôt que de les figer.",
          "Il faut que les offices de tourisme participent à des conférences et rencontres associant touristes et habitants",
          "Il faut créer un pollu-score pour toutes les activités touristiques pour faire comprendre leur bilan carbone et favoriser les compensations.",
          "Il faut des engagements plus responsables appuyés par l'État et les banques pour moderniser les outils de travail existants",
          "Il faut des offres d’hébergements en pleine nature, très réversibles et très écologiques, de la simple tente au Glamping : cabanes, cahuttes",
          "Il faut limiter les airbnb et valoriser les hébergements locaux type hôtel, auberge de jeunesse.",
          "Il faut limiter les gros bateaux de croisière",
          "Il faut déjà réduire nos envies de tourisme loisirs/ludique, c'est aussi ça le problème. Et si on bougeait pour coopérer, apprendre?",
          "Il faut des incitations fiscales pour les sites qui s'engagent dans le développement durable (écolabel européen, green globe etc)",
          "Il faut promouvoir et développer des moyens de transports peu polluant comme les trains de nuit pour circuler en Europe.",
          "Il faut que les magasins sur les aires d'autoroutes proposent plus de produits frais, locaux, non emballés pour limiter les déchets",
          "Il faut réguler les prix des billets de bus, train et avion. Le même trajet ne doit pas être moins cher en avion.",
          "Il faut limiter la frénésie d’achat de résidences secondaires dans les régions touristiques et trouver des solutions de partage, locations",
          "Il faut rétablir le maximum de lignes ferroviaires, en particulier celles qui avaient un intérêt touristique",
          "Il faut faire la promotion du chemin de fer en proposant des horaires attractifs, des prestations de qualité et une tarification simple.",
          "Il ne faut pas tout miser sur les aménagements (parfois surestimés) mais sensibiliser aussi à l'utilisation du vélo",
          "Il faut soutenir la mise en tourisme de secteurs plus confidentiels en aidant les porteurs de projets (même privé) dans leur fonctionnement",
          "Il faut augmenter raisonnablement les taxes de séjour pour financer les villes et villages et restaurer notre patrimoine",
          "Il faut inciter les hébergeurs (hôtels, campings, etc) à utiliser autant que possible les circuits courts en les aidant dans leurs démarches",
          "Il faut proposer aux enfants des ateliers découverte afin de les sensibiliser",
          "Il faut interdire les pratiques écocides: la neige de culture par exemple",
          "Il faut que la gestion touristique et sa mise en accès contribuent au bien-être des habitants de la destination. Moultes enjeux et facteurs",
          "Il faut éviter de faire du tourisme sexuel",
          "Il faut que les remorques à vélo pour enfants et bagages soient acceptées dans les trains.",
          "Il faut un plan national de soutien et promotion de projets touristiques.",
          "Il faut favoriser la médiation humaine (guide-conférencier, éduc à l'environnement...) pour la découverte des lieux patrimoniaux et naturels",
          "Il faut supprimer les flacons plastiques dans les hôtels",
          "Il faut faire comme dans la capitale slovène Ljubljana: interdire la circulation dans les centres villes et favoriser les accès aux piétons",
          "Il faut strictement réguler le nombre d'hébergements proposés pour éviter l'effet Airbnb qui encourage le tourisme de masse",
          "Il faut faciliter la recherche de trajets alternatifs même en pleine campagne en précisant les lignes de train, bus, durées à pied ou etc.",
          "Il faut promouvoir l'utilisation et le développement des transports en commun dans le cadre du tourisme",
          "Il faut baisser les taxes sur les activités touristiques responsables et augmenter celles sur les activités ayant un fort impact négatif.",
          "Il faut éviter la course aux équipements et à la densification des offres d’hébergement dans les campings",
          "Il faut développer l'accès aux sites touristiques en mode doux et les pistes / vélos pour les plus aptes / vélo taxi pour les moins aptes",
          "Il faut que les intervenants du tourisme surtaxent les prestations les plus polluantes (survol hélico, jetski). ",
          "Il faut taxer durement les voyages en avion et proposer plus d’aides et de moyens de transport de type ferroviaire ou car.",
          "Il faut récompenser les séjours de proximité : créditer des bonus type miles pour chaque séjour réservé à moins de 3h de son domicile.",
          "Il faut cesser d’augmenter les tarifs des sites (pont du Gard, puy de dôme) onéreux, cela pollue la vie des gens, la circulation impossible",
          "Il faut aider à la mise en place de « greeters » (des bénévoles qui connaissent bien leur territoire) dans des sites peu fréquentés",
          "Il faut implémenter des droits d'entrée dans les parcs naturels et zones touristiques protégés pour participer à leur entretien/protection.",
          "Il faut organiser et promouvoir les sports de nature comme outil de découverte des territoires en partenariats avec les différents acteurs.",
          "Il faut que les GPS et les applis GPS de smartphones intègrent les toilettes et les poubelles publiques.",
          "Il faut redonner l'envie de voyager en France, beaucoup d'endroits sont méconnus, s'orienter sur le local et le régional.",
          "Il faut réguler les flux de passage dans les sites naturels fragiles",
          "Il faut développer le réseau des véloroutes et voies vertes pour favoriser le tourisme à vélo.",
          "Il faut relier les pistes cyclables entres elles pour faciliter les déplacements des touristes entre les départements, voire les régions.",
          "Il faut valoriser le train pour les destinations moins connues, rajouter des TER, le covoiturage en bus pour les plages.",
          "Il faut interdire les trajets en avion de moins de 1000 Km et rendre le train accessible au plus grand nombre",
          "Il faut limiter les bateaux en mer, interdire les croisières",
          "Il faut favoriser l’utilisation d’énergies propres et s’engager à avoir une plus grande efficacité énergétique.",
          "Il faut améliorer l’accessibilité des vélos dans les transports collectifs (trains et cars notamment) et dans les pôles multimodaux.",
          "Il faut par région, avec habitants, scientifiques, entrepreneurs,...définir les actions prioritaires pour un résultat optimal à court terme",
          "Il faut limiter tous les accès aux espaces préservés des véhicules thermiques",
          "Il faut prélever 1€ par nuit et par personne sur tous les hébergements pour alimenter un fonds destiné à financer la transition écologique",
          "Il faut arrêter de transformer la nature pour le plaisir des touristes (niveler les plages), nous avons envie de garder notre pays tel quel!",
          "Il faut faire des parkings de délestages afin de préserver les sites naturels et de laisser un acces piéton pour les personnes handicapées",
          "Il faut expliquer que le tourisme n'est pas seulement une liste de sites à voir, inciter à vivre des expériences plutôt.",
          "Il faut harmoniser les règles de collecte et de tri des déchets recyclables sur tout le territoire pour favoriser l'adhésion des Français.",
          "Il faut développer le vélo électrique et travailler sur son coût",
          "Il faut que les hébergements de plein air respectent leurs clients en assurant un environnement confort, au calme et proche centre-ville",
          "Il faut faire informer le plus grand nombre que la planète n'est pas juste un grand parc d'attraction où on peut tout faire.",
          "Il faut inciter pour le tourisme de niche à faire des randonnées, visite guidée et circuits sur la géologie et l'étude des sols des régions",
          "Il faut créer des concertations entre les différentes communes de France afin d'échanger sur les bonnes pratiques autour du tourisme durable",
          "Il faut créer des labels, comme \"qualité tourisme\", gage d'engagement dans le tourisme durable, adaptés à chaque type d'établissement.",
          "Il faut sanctionner les personnes qui laissent des détritus partout et mettent la musique à fond sur la plage. Respectez la faune!",
          "Il faut mettre plus de poubelles pour éviter les abandons de déchets",
          "Il faut, en plus d'un nombre suffisant et d'un positionnement bien en vue, que les récipients destinés à recevoir les déchets soient vidés.",
          "Il faut créer une plateforme B2B pour les pro, leur permettant d'avoir un répertoire mondial des fournisseurs/ distributeurs responsables.",
          "Il faut que les agents touristiques travaillent en partenariat avec des distributeurs favorisant le 0 déchet",
          "Il faut repenser les structures touristiques pour diminuer leur impact sur le milieu et les paysages.",
          "Il faut développer les lignes ferroviaires entre les régions",
          "Il faut interdire la baignade sur les plages quand l’eau est trop polluée afin que les usagers se rendent compte du problème.",
          "Il faut développer le tourisme autour des le canaux, continuer les projets de véloroute (transport qui ne pollue pas) et découverte locale",
          "Il faut faire payer les trajets en avion à leur coût réel en intégrant un malus pour la très grande pollution qu'ils engendrent",
          "Il faut rendre accessible le centre Bretagne.",
          "Il faut se souvenir que les grands centres touristiques rendent aussi le tourisme accessible et participent grandement à l'économie locale.",
          "Il faut privilégier les navires de croisière de taille modeste et ceux qui respectent les normes environnementales (émissions, déchets)",
          "Il faut interdire l'accès aux plages avec des contenants jetables ou en plastique, et interdire leur vente sur place également.",
          "Il faut que les vendeurs à emporter aux abords de zones touristiques sauvages (plage...) ne proposent plus d'emballage non biodégradables.",
          "Il faut mettre en place des poubelles de tri dans les lieux publics extérieurs (parcs, plages, rue...) avec une bonne signalétique",
          "Il faut arrêter de dire aux villageois ce qu'ils doivent faire.",
          "Il faut cesser l'arficialisation des espaces naturels, les parkings notamment. Cela limiterait aussi la fréquentation des lieux sensibles",
          "Il faut soutenir les entreprises touristiques engagées dans des démarches de réduction de leur impact, les promouvoir, les valoriser",
          "Il faut privilégier les circuits courts entre restaurateurs et producteurs locaux.",
          "Il faut demander aux loueurs et terrains de camping la possibilité d'accès à une prise pour recharger les véhicules électriques.",
          "Il faut un guide ou un site des gîtes et des maisons d'hôtes écotouristiques avec bons de réduction.",
          "Il faut développer l’idée d’une approche territoriale et mettre en réseau différents acteurs autour d’une destination, une thématique.",
          "Il faut restaurer nos vieilles églises, augmenter l'entretien des sites médiévaux, ça attire plus que certaines oeuvres trop subventionnées",
          "Il faut que les touristes respectent tous les lieux naturels qu'ils visitent et pas uniquement des parcs naturels",
          "Il faut désormais tendre vers un tourisme soutenable à la fois pour notre environnement et nos populations",
          "Il faut appliquer des mesures de taxations mondiales et non locales",
          "Il faut réhabiliter les petites lignes ferroviaires dans les zones reculées où il existe encore les anciennes voies",
          "Il faut promouvoir et faciliter la formation et attirer dans les zones rurales les professionnels et les entrepreneurs touristiques.",
          "Il faut limiter l'accès aux sites naturels en période de grande affluence afin de préserver les écosystèmes",
          "Il faut développer des voyages éducatifs au profit de la transition écologique (séjours en éco-lieux avec apprentissage de l'autonomie)",
          "Il faut verbaliser et durcir les poursuites à l'encontre des personnes qui jettent leurs détritus et leurs eaux grises/noires dans la nature",
          "Il faut proposer plus de stationnements de camping car ouvert toute l'année afin d'éviter les interdictions abusives de nombreuses mairies",
          "Il faut faciliter la mobilité sur la destination afin de privilégier la venue en train, surtout courts séjours.",
          "Il faut impérativement favoriser le transport par train vers les sites touristiques (transport le plus décarboné qui soit)",
          "Il faut interdire l'accès aux paquebots de croisière à proximité des centres urbains et organiser des navettes électriques par exemple",
          "Il faut arrêter la culture du copinage et de l'entre-soi au sein même des institutions touristiques (CRT, CDT, élus, etc...).",
          "Il faut créer une taxe qui s'ajouterait à la taxe de séjour. Cette taxe financerait les organismes de nettoyage des plages, sentiers...",
          "Il faut que les commerces et les points d'eau soient fléchés depuis les itinéraires cyclables (véloroutes et voies vertes).",
          "Il faut interdire les tourisme animalier (zoo, spectacles, cirque...) et développer le tourisme pédagogique dans les fermes ou associations",
          "Il faut promouvoir les politiques renforçant la relation étroite entre le tourisme et les systèmes alimentaires durables.",
          "Il faut aménager davantage de kilomètres de voies vertes sur les itinéraires structurants et futurs du territoire. Valoriser le cadre offert",
          "Il faut voyager moins souvent et moins loin.",
          "Il faut soutenir le tourisme à vélo sous toutes ses formes (loisirs, sport, itinérance, utilitaire), de façon cohérente.",
          "Il faut la gratuité des transports en communs en ville, réduire les tarifs SNCF",
          "Il faut permettre à ceux qui n'ont pas de moyens de s'évader aussi de leur quotidien",
          "Il faut sans cesse promouvoir les richesses qui font la France et non pas quelques destinations phares sur-fréquentées.",
          "Il faut multiplier les sites de vidange des eaux grises et des cassettes pour les camping-cars afin de réduire les rejets sauvages.",
          "Il faut étaler les vacances (scolaires et salariés) sur l'année pour éviter un tourisme de masse en juillet et août",
          "Il faut encourager la démarche de type home exchange",
          "Il faut proposer plus d'hébergements autour du slow tourisme / durable",
          "Il faut montrer des exemples de nouveaux usages qui marchent. Ex bateau solaire seaZen 1ère destination outdoor à Nice sur 128 / TripAdvisor",
          "Il faut interdire les vols aériens low-cost, et autoriser à prendre l'avion seulement sous forme de loteries et tirages au sort.",
          "Il faut arrêter l'engouement pour les vélos électriques (On ne sait toujours pas recycler les batteries!)",
          "Il faut transformer les voies SNCF désaffectées en voies vertes (itinéraires agréables et pas trop pentus !)",
          "Il faut des sanctions plus importantes et très dissuasives pour tous les touristes qui dégradent la nature (feux de bois, camping sauvage)",
          "Il faut interdire l'artificialisation nette des sols pour le tourisme, quitte à construire en hauteur.",
          "Il faut mettre des quotas comme au Bhoutan",
          "Il faut évincer toutes les structures sophistes du domaine, en donnant la possibilité aux habitants de créer un réel tourisme durable",
          "Il faut revoir la politique ferroviaire: petites lignes réactivées, trains de nuit, intermodalité(vélos à bord),fiabilité, service numérique",
          "Il faut mieux former les acteurs du tourisme et sensibilser les enfants par des ateliers à une société plus responsable et inclusive.",
          "Il faut mettre en place un outil simple pour mesurer les conséquences écologiques et sociales de chaque voyage",
          "Il faut sensibiliser les touristes à la propreté, au respect des lieux et de la vie locale, en ville comme à la campagne.",
          "Il faut multiplier les points de collecte des ordures ménagères et recyclables afin de réduire les rejets sauvages",
          "Il faut renouveler les modes d'hospitalité des lieux d'accueil touristique en s'inspirant des tiers lieux touristiques (Roubaix, Clairac)",
          "Il faut favoriser les projets d'écotourisme participatifs, dont le but est de rendre le visiteur acteur de la préservation",
          "Il faut favoriser et développer l'usage du vélo et des itinéraires cyclables dans les territoires. ",
          "Il faut que les professionnels du tourisme encouragent les consommateurs à privilégier les modes de transport décarbonés",
          "Il faut arrêter de communiquer sur les 10 lieux \"incontournables\" (sous entendus les plus \"instagramables\") pour limiter la surfréquentation",
          "Il faut mener une campagne de sensibilisation aux impacts du tourisme de masse et proposer des alternatives (environnementales, sociétales)",
          "Il faut déployer une gouvernance ouverte et transparente des projets (Inclure tous les acteurs dans le processus de décision)",
          "Il faut que le jalonnement des véloroutes indique la direction et la distance des villes les plus proches et pas que le n° de la véloroute.",
          "Il faut privilégier la réhabilitation et la remise à niveau de l'offre existante plutôt que les opérations 100% neuves.",
          "Il faut créer un parcours vie française où chaque citoyen trace sa visite de la france avec un parcours tourisme connecté",
          "Il faut que les PLU incitent à la construction et à la mise en place de solutions environnementales réelles et accessibles",
          "Il faut mener des campagnes de sensibilisation au sujet des impacts (environnemental, sociétal, ...) de certaines formes de tourisme.",
          "Il faut une sorte de permis à points de bonne conduite touristique ! Plus de point, plus le droit de voyager...!",
          "Il faut verbaliser, ça ne passe malheureusement que par ça au début avant d'imposer des évidences",
          "Il faut arrêter de jouer sur les tarifs des hôtels et camping selon les saisons",
          "Il faut promouvoir le tourisme à vélo pour tous.te.s auprès des Français.es et des touristes étrangers, notamment de proximité",
          "Il faut miser sur le solaire pour produire de l'électricité et pour les véhicules",
          "Il faut identifier les acteurs ambassadeurs d'un tourisme durable \"d'excellence\" et valoriser leurs initiatives.",
          "Il faut revaloriser concrètement le travail des femmes de ménage et des personnels d'entretien dans les hôtels et changer le regard",
          "Il faut une taxe pour les touristes qui vont dans des lieux protégés ou naturels et sensibles",
          "Il faut que tous les établissements d'accueil de tourisme aient une démarche environnementale (énergies renouvelables, zéro déchet...)",
          "Il faut développer des partenariats entre les différents acteurs du tourisme pour permettre de diminuer les impacts négatifs de celui ci",
          "Il faut réduire de 80% le secteur aérien (pour rester en dessous des 1,5 degré), et assurer la reconversion des salariés.",
          "Il faut permettre aux clients de faire des choix responsables en faisant mieux connaître les démarches des professionnels ex: écolabel...",
          "Il faut arrêter de relever les seuils maximum de pollution des eaux de baignades et être transparent sur ces pollutions.",
          "Il faut interdire de visites certains lieux naturels nécessitant d'être \" sanctuarisés \" (réservés aux agents du parc)",
          "Il faut remettre en place les consignes pour les bouteilles plastiques",
          "Il faut afficher les patrimoines, savoirs faire et être des régions et populations; favoriser les circuits courts, le slow tourisme",
          "Il faut cesser la concurrence entre régions et territoires dans la promotion de leurs destinations. Que de gaspillages de ressources!",
          "Il faut remplacer les animations \"clés en main\" estivales (concert/radio, rassemblement foot/club, ...) par ateliers découvertes, éco-resp.",
          "Il faut maintenir positivement les emplois en augmentant les recettes exogènes pour favoriser l'évolution du PIB par habitant",
          "Il faut créer des réseaux d'acteurs de terrain engagés dans la durabilité. Ce projet pourrait être porté par les CDT et relayé par les OT.",
          "Il faut plus de parking/relais aux abords des villes touristiques et y favoriser le déplacement à pied, vélo ou navette",
          "Il faut éviter l'expansion de l'hébergement de type Air B&B pour ne pas dénaturer l'environnement social des destinations trop populaires.",
          "Il faut mettre les poubelles en évidence dans les lieux de convivialités, près des bancs, tables, parkings...",
          "Il faut soutenir l’agritourisme qui permet la transmission d’un savoir-faire et valorise la diversité des modèles agricoles.",
          "Il faut accompagner les ports pour réduire les émissions des bateaux à quai",
          "Il faut une carte quota carbone par personne pour le tourisme, en dessous on obtient des réducs significatives, au delà, les prix flambent",
          "Il faut que les lieux d'accueil des visiteurs bénéficient de budgets pour se montrer en exemple de toute la démarche durable .",
          "Il faut aider au départ des français les moins favorisés pour prendre des vacances en France et accompagner en RSE les prestataires",
          "Il faut établir un quota individuel maximum annuel d'utilisation du transport aérien et baisser (encadrer) le tarif des billets de train.",
          "Il faut proposer des alternatives durables aux déplacements des touristes (transports en commun, vélo) pour limiter l'usage de la voiture",
          "Il faut se responsabiliser et faire prendre conscience aux clients de respecter le lieu, l'environnement et de faire leur tri sélectif.",
          "Il faut remettre en circulation des trains de nuit et qu'ils acceptent les vélos.",
          "Il faut du fait du plus grand nombre de campings que les communes fassent des aires d'accueil en plus grand nombre avec station de vidange",
          "Il faut limiter sa consommation alimentaire au quotidien, privilégier les produits locaux, la qualité à la quantité et pensons à bouger !",
          "Il faut proposer à chaque touriste de trouver une action et une seule qui améliorerait le site de ses vacances.",
          "Il faut créer des aides pour que les prestataires de services (hôtels, gîtes, restaurants) puissent devenir écoresponsables plus facilement.",
          "Il faut créer une charte pour les bons Ccaristes avec un signe bien distinctif qui se mérite et le faire connaitre sur tous les sites de Cc",
          "Il faut développer l'offre chambre d'hôte sous une forme démontable et temporaire car à taille humaine, expérientiel et proche des locaux",
          "Il faut cesser l'importation d'objets inutiles made in China et favoriser l'artisanat local et les produits de terroirs comme souvenirs",
          "Il faut afficher dans chaque office de tourisme une plaquette bien visible et imagée incitant à un tourisme et des vacances éco-responsables",
          "Il faut dédensifier les sites déjà engorgés et améliorer les prestations, mais aussi offrir de nouvelles touristiques innovantes",
          "Il faut limiter encore plus les vols intérieurs et développer l'offre ferroviaire (temps de trajet / prix / souplesse / qualité de service)",
          "Il faut cesser de considérer l'autocar comme un moyen touristique non polluant.",
          "Il faut ne pas confondre écologie et pourrir la vie des petits. Un camping-cariste avec son diesel doit pouvoir aller chez lui pour charger.",
          "Il faut que les campings laissent plus de places pour les itinérants à vélo.",
          "Il faut déployer un programme national d'éducation au voyage",
          "Il faut aider les petites associations locales à maintenir les itinéraires de promenades familiales",
          "Il faut développer de nouvelles destinations pour dynamiser l’économie et les liens sociaux des territoires oubliés",
          "Il faut développer la restauration bio",
          "Il faut développer des pistes cyclables longue distance à l'écart des routes pour automobiles et installer des espaces de bivouac le long.",
          "Il faut faire participer les vacanciers à des actions citoyennes comme nettoyage ramassage des débris divers sur la voie publique",
          "Il faut organiser le tourisme à l'échelle d'un territoire pour anticiper les pressions, les encadrer et les répartir",
          "Il faut soumettre l'ouverture de gîtes à autorisation du maire dans les zones qui manquent de logement",
          "Il faut revoir les périodes scolaires pour améliorer la fréquentation des lieux touristiques et pérenniser l'emploi saisonnier.",
          "Il faut limiter nos déplacements et jouir au maximum de notre région natale en la développant",
          "Il faut développer le tourisme halieutique en restaurant tous les fleuves et rivières, biotopes concernés.",
          "Il faut créer un passeport du touriste responsable pour encourager les bonnes pratiques et limiter/permettre l'accès à certains sites",
          "Il faut que les professionnels du tourisme s’assurent que les lieux de visites soient accessibles à toutes les personnes handicapées",
          "Il faut organiser et structurer l'intermodalité",
          "Il faut que les communes acceptent les camping cars, bord de mer, montagne, campagne, nous agissons sur le commerce local",
          "Il faut limiter les constructions et permis de construire en résidences secondaires",
          "Il faut mettre en place des stratégies pour que les touristes et structures d'accueil réduisent leurs déchets (pas juste le tri).",
          "Il faut que chaque acteur mesure son empreinte carbone pour établir un plan d’action ciblé de réduction de cette empreinte.",
          "Il faut que le tourisme puisse être pour tous, que l’ensemble des clientèles puissent partir en vacances.",
          "Il faut faire la publicité du 0 déchets via panneaux d'affichage, radio et surtout inciter les fournisseurs à réduire un maximum les déchets",
          "Il faut exonérer (partiellement, TVA à taux réduit) les démarches attestées de développement durable (avec un référentiel pas label)",
          "Il faut mettre une limite au nombre de passagers pouvant débarquer de navires de croisière sur une période donnée.",
          "Il faut instaurer un cours sur l'importance de l'équilibre de la biodiversité à l'école et l'impact des changements climatiques sur nos vies",
          "Il faut traiter et recycler les eaux usées sur site afin de minimiser l'impact des activités sur l'environnement.",
          "Il faut faire la pédagogie de l'utilisation de l'eau et de l'électricité dans tous les lieux d'accueil et de séjour",
          "Il faut communiquer l'impact carbone des séjours, hébergements, déplacements pour sensibiliser les voyageurs et les pros",
          "Il faut interdire les jets privés qui polluent énormément et beaucoup plus que les avions civils.",
          "Il faut mettre en place une taxe écoresponsable sur les activités touristiques à fort impact carbone (jetski, ski, hélicoptère... )",
          "Il faut redévelopper le transport des voitures par trains de nuit surtout pendant les pics de départs en vacances",
          "Il faut contribuer à compenser ses émissions carbone causées par les déplacements en plantant des arbres, en faisant des dons à associations",
          "Il faut améliorer la gestion des déchets dans les lieux et hébergements touristiques",
          "Il faut supprimer les réservations obligatoires dans les trains et diminuer les tarifs même les jours de pointe.",
          "Il faut mettre en place un parrainage pour recommander de nouveaux visiteurs",
          "Il faut apprendre à ceux qui viennent en vacances, à respecter l'environnement où ils se trouvent pour le préserver pour les prochaines fois",
          "Il faut arrêter de courir à l'autre bout du monde pour faire la même chose qu'on peut faire tout près.",
          "Il faut se loger uniquement dans les établissements engagés avec la cause environnementale",
          "Il faut encourager les personnes à se déplacer avec des transports éco-responsables: bonus pour les locataires de voiture électrique par ex.",
          "Il faut faire signer aux groupes de touristes une déclaration spécifique de respect du lieu visité, sous peine d'une amende élevée.",
          "Il faut promouvoir et réhabiliter le camping en tente, les déplacements et les voyages à vélo en améliorant les pistes et circuits sécurisés",
          "Il faut encourager et soutenir (financièrement et humainement) les territoires et monuments qui peinent à attirer les touristes",
          "Il faut lors d'un pique-nique que les gens repartent avec leur déchets",
          "Il faut renforcer le transport auto-train pour éviter les chassés-croisés polluants et pallier la faible autonomie des voitures électriques",
          "Il faut limiter/taxer fortement voire interdire les offres de loisirs polluantes: jet ski, survol en hélico etc",
          "Il faut privilégier les circuits courts.",
          "Il faut réhabiliter les voies ferrées fantômes et les gares désaffectées, notamment pour desservir les communes rurales.",
          "Il faut sensibiliser et éduquer les touristes internationaux à des pratiques respectueuses, dès leur réservation/arrivée sur le territoire.",
          "Il faut des zones protégées dont l'accès se fait en transport en commun avec des règles strictes des activités, notamment commerciales",
          "Il faut interdire ce qui est polluant, privilégier le vélo, donc équiper le pays en pistes sécurisées et entretenues",
          "Il faut diminuer le tarif des billets de train qui est parfois exorbitant et inabordable",
          "Il faut créer un \"serment Français pour un tourisme responsable et bienveillant \" à signer par les visiteurs internationaux (idem Islande)",
          "Il faut inciter les voyageurs/visiteurs à utiliser des applis et/ou brochures numérique au lieu des brochures papiers.",
          "Il faut développer une offre de tourisme à vélo qualitative, locale et complémentaire des grands itinéraires cyclables.",
          "Il faut freiner l'aménagement d'infrastructures autour de sites surexploités, et reporter ces budgets au profits de sites méconnus.",
          "Il faut comme aux usa une carte nationale annuelle pour l'accès aux parcs nationaux sites naturels pour financer leur aménagement (wc, plan)",
          "Il faut remédier à la saisonnalité par des campagnes de communication visant le marché interne et éviter ainsi un tourisme de masse.",
          "Il faut inciter les touristes à consommer local et à respecter des dates de saisons",
          "Il faut éloigner les camping des vues imprenables (pollution visuelle)",
          "Il faut dès l'enfance apprendre à reconnaître, préserver les richesses de son environnement, à être plus conscient de cela en voyage.",
          "Il faut inviter l’ensemble des parties prenantes dans la définition d’offres touristiques  (tourisme by design)",
          "Il faut inciter à la consommation de produits locaux en circuits courts.",
          "Il faut démocratiser le voyage par fret ferroviaire (Hiflow) pour les longs trajets afin de diminuer le nombre de voitures sur les routes.",
          "Il faut sensibiliser les touristes à la préservation de la ressource en eau et à l'amélioration de sa qualité",
          "Il faut arrêter l’écologie punitive et plutôt mettre en œuvre une politique incitative.",
          "Il faut aussi que les villes développent les transports en commun surtout en période estivale et au départ des terrains de camping",
          "Il faut développer les sports silencieux, le gout de l'effort, de connexion avec la nature avant une fin potentielle, voire probable !",
          "Il faut proposer des parkings en bordure des villes pour les camping-cars avec un accès au centre-ville par des pistes cyclables.",
          "Il faut, sur les espaces fragiles, faire signer aux vacanciers une charte qui engage au respect des lieux",
          "Il faut revenir à un tourisme plus proche de la nature, et sensibiliser tout le monde, réfléchir à tous nos actes même en vacances!",
          "Il faut proposer une offre de transports, structures et activités touristiques plus durables et plus inclusives !",
          "Il faut que les hôtels puissent bénéficier d'aides pour s'équiper d'équipements écologique (panneaux solaires, recyclage de l'eau...)",
          "Il faut soutenir des réseaux de producteurs pour développer collectivement des produits touristiques, agricoles et artisanaux.",
          "Il faut limiter les très grosses structures et favoriser le slow tourisme",
          "Il faut que le local soit très abdortable au niveau du tarif.",
          "Il faut s'appuyer sur les labels reconnus par l'Ademe pour que les sites puissent être identifiés comme engagés pour un tourisme durable",
          "Il faut taxer plus les objets-souvenirs fabriqués hors UE",
          "Il faut réduire l'utilisation de la voiture individuelle et encourager l'utilisation des transports en commun.",
          "Il faut vraiment valoriser les belles actions et projets locaux. Ils sont les acteurs clés et précieux en terme de développement durable.",
          "Il faut promouvoir le tourisme et le patrimoine local. Le favoriser avec des réductions pour les \"locaux\" de la région dans les gîtes etc",
          "Il faut proposer des visites en calèche touristique à la place des trains touristiques dans certains sites touristiques et classés",
          "Il faut privilégier les circuits courts entre restaurateurs et producteurs locaux.",
          "Il faut mettre en place une infrastructure routière qui favorise l'utilisation du vélo comme moyen de déplacement sécurisé et protégé.",
          "Il faut engager des actions de valorisation de sites patrimoniaux à potentiel dans des territoires ruraux actuellement peu fréquentés.",
          "Il faut que le tourisme soit acteur de la décroissance, arrêter par le biais du tourisme de vendre des pacotilles inutiles et polluantes",
          "Il faut vraiment favoriser tous déplacements doux en vacances. Vélo, marche à pied et pour les grands trajet train.",
          "Il faut préserver le littoral de toute construction et limiter les nouvelles constructions sur tout le territoire.",
          "Il faut limiter les grosses croisières et interdire les paquebots pour limiter la pollution marine.",
          "Il faut développer les pistes cyclables dans toutes villes et villages et lieux touristiques",
          "Il faut intégrer une charte de bonne conduite touristique à intégrer aux guides touristiques. Cette charte doit être un exemple.",
          "Il faut aider au développement du tourisme à la ferme (campings, gites...) en liaison avec les marques bienvenue à la ferme, accueil paysan",
          "Il faut redonner de la place au piéton à la campagne en aménageant mieux les bas côtés des routes.",
          "Il faut que les communautés de communes touristiques s'adaptent mieux à l'augmentation de leur \npopulation pendant les vacances.",
          "Il faut développer les actions simples type \"1 visite, 5 déchets\" (ramasser 5 déchets par sortie,rando,visite) pour sensibiliser les usagers",
          "Il faut créer des chemins spécifiques pour les cyclistes afin qu'ils ne dégradent pas les sentiers de randonnées pédestres",
          "Il faut que les acteurs du tourisme (institutions, sites touristiques, hébergeurs...) s'engagent aussi dans une démarche responsable.",
          "Il faut informer et impliquer les résidents permanents dans les décisions des acteurs du tourisme (mairie, communautés de communes, O.T)",
          "Il faut mener des actions de sensibilisation auprès des jeunes en milieu scolaire : pratique du vélo, préservation de l'environnement ...",
          "Il faut faciliter l'accès à certains endroits et activités (la mer, la voile, la campagne...) tout en maitrisant les flux",
          "Il faut développer les lignes de train. il faut aussi réduire le coût d'un billet de train pour que ce soit accesible à toutes les personnes",
          "Il faut appliquer le dėmarketing des lieux très fréquentés et surtout arrêter d'abuser avec les influenceurs et autres blogueurs payants",
          "Il faut promouvoir les achats locaux (marchés, producteurs..) en taxant la publicité des enseignes vendant du non-local/emballé.",
          "Il faut développer les aires de camping-cars en réhabilitant les campings municipaux, valoriser l'accueil à la ferme ou chez les producteurs",
          "Il faut que des Greeters informent de l'existant, incitent à la participation positive sur cette base tout en recueillant avis et nouveautés",
          "Il faut créer des chemins de promenade en ville exemple aménager le long des quais",
          "Il faut que les camping-caristes qui ne respectent pas les règles soient punis comme il se doit, et les Maires de France un peu à l'écoute",
          "Il faut faire des cours dès le primaire sur le recyclage et les bons gestes pour l'environnement",
          "Il faut favoriser financièrement les installations solaires photovoltaïques en autoconsommation dans l’hôtellerie de plein air.",
          "Il faut reconduire à la frontière tout touriste commettant une infraction et communiquer sur cela",
          "Il faut inciter tout touriste à calculer son empreinte environnementale avec des outils tels que MyCO2",
          "Il faut proposer aux voyageurs de compenser l’empreinte carbone de leur trajet",
          "Il faut inciter les professionnels du tourisme à proposer des activités plus durables (par un système d'aides, récompenses, accompagnement).",
          "Il faut des hébergements touristiques plus durables",
          "Il faut développer les vacances itinérantes = hébergement à la nuitée dans l'hôtellerie de plein air, ce qui n'est pas le cas partout.",
          "Il faut créer des subventions pour inciter les acteurs privés du tourisme à investir dans des actions responsables",
          "Il faut interdire les gobelets et couverts plastiques à usage unique dans les compagnies aériennes",
          "Il faut d'avantage d'aides, faciliter les démarches pour les entreprises souhaitant se tourner vers un tourisme durable",
          "Il faut doter les structures touristiques de sacs de tri selectif explicatif afin de profiter des vacances pour prendre de bonnes habitudes",
          "Il faut pas forcément augmenter le nombre de poubelles pour améliorer la propreté. Il y a d'autres solutions comme repartir avec ses déchets",
          "Il faut développer la médiation entre les habitants et les visiteurs.",
          "Il faut réduire le tourisme",
          "Il faut penser les structures d'accueil touristiques pour une diversité de populations (notamment pour les personnes handicapées ou âgées).",
          "Il faut informer les touristes des risques majeurs d'une région",
          "Il faut faire installer des aires CC avec vidange et eau dans chaque commune de France. Cela éviterait les incivilités de vidange",
          "Il faut arrêter le ski alpin en montagne et les bateaux a moteur hors bord et jet ski en bord de mer",
          "Il faut que les décisions de développement du tourisme se fassent en coopération et non par le politique",
          "Il faut mettre en valeur les voies d'eau (canaux, rivières), donner les moyens de les entretenir et promouvoir les mobilités douces-navettes",
          "Il faut promouvoir les lieux d'accueil avec chiens (1 foyer sur 4 en possède, il faut tenir compte de cette réalité !)",
          "Il faut sensibiliser sur l'usage de l'eau auprès des touristes",
          "Il faut stopper les lignes low cost pour favoriser le tourisme local",
          "Il faut rétablir les trajets en train longs (type traversée de la France), avec des trains-couchettes modernisés, davantage sécurisés.",
          "Il faut renforcer la promotion des éco-gestes du quotidien (réutilisation du linge de maison, éteindre la lumière, couper le chauffage etc.)",
          "Il faut pour les camping cars, éditer un autocollant à afficher sur le véhicule mentionnant le respect des autres et de la nature.",
          "Il faut réguler le tourisme de masse en incluant les locaux pour protéger leur environnement (contrôle accès - circulation)",
          "Il faut éviter de parcourir 8 destinations différentes en 14 jours afin de limiter les déplacements.",
          "Il faut sensibiliser les vacanciers au respect de l'environnement. Les lieux touristiques ne sont pas des poubelles!",
          "Il faut porter à 4 tonnes le poids des camping cars pour permettre l'adjonction de batteries et circuler sans polluer les zones urbaines",
          "Il faut éduquer les campings caristes qui dégradent et qui manquent de savoir vivre au détriment des autres et non pas que les enfants.",
          "Il faut revaloriser toutes les anciennes lignes de chemin de fer pour faire des chemins de promenades accessibles à tous",
          "Il faut imposer que les investissements dans les infrastructures touristiques de plus de 100K€ soient soumis à avis d’une autorité régionale",
          "Il faut des remorques électriques pour les bateaux de croisière fluviaux",
          "Il faut bien séparer les sentiers de randonnées pédestres et les chemins accessibles aux vélos et VTT.",
          "Il faut arrêter de vendre des souvenirs \"made in China\" ",
          "Il faut imposer aux opérateurs de voyage de rendre public le coût carbone des séjours qu'ils proposent.",
          "Il faut inciter les gens à ne pas se concentrer sur les sites touristiques majeurs  (\"grands sites\", sites UNESCO...)",
          "Il faut informer les touristes de la présence de marchés locaux, de producteurs et d'activités touristiques douces ou écolabellisées.",
          "Il faut associer la population locale qui pourrait agir comme ambassadeurs des territoires",
          "Il faut appliquer une tarification préférentielle aux citoyens français (ou TVA moindre) comme cela se fait dans certains pays.",
          "Il faut encourager le covoiturage.",
          "Il faut interdire les vols internes et développer l'accès à d'autres moyens de déplacement.",
          "Il faut mettre en place l'Etiquette Environnementale pour tous les hébergements touristiques, les activités et les restaurants",
          "Il faut revenir aux petits campings car les immenses actuels c'est de la pollution sonore, visuelle, la destruction de la nature",
          "Il faut installer des parkings à vélo sécurisés sur les sites touristiques et dans les villes.",
          "Il faut proposer d'avantage de pistes cyclables afin que les vélos cessent de se mettre en danger sur la route",
          "Il faut que par exemple en attendant son tour pour aller sur la plage on puisse être informé.e.s de bonnes pratiques de protection littorale",
          "Il faut inciter les touristes à utiliser des modes de transport doux au moins sur place: bons de réductions location, parking à vélos",
          "Il faut réglementer le nombre de meublés de tourisme dans une ville pour que les familles puissent elles aussi se loger.",
          "Il faut soutenir les déplacements en vélos sur les lieux de vacances, mise en place de location systématique.",
          "Il faut remettre en place un ministère du tourisme et que l'État s'implique plus dans cette démarche de tourisme.",
          "Il faut interdire les vols nationaux (sauf urgences, sauf pour les DOM-TOM et la Corse) et développer le rail",
          "Il faut des structures d'accueil adaptées pour les jeunes déficients mentaux et leur famille.",
          "Il faut proposer des vélos (électriques ou non) à location à bas coût accessibles aux usagers des trains seulement pour promouvoir le train",
          "Il faut remettre les espaces ruraux au coeur de l'activité touristique et leur donner les mêmes moyens que ceux accordés aux métropoles",
          "Il faut que les communes mettent en place des aires de services adaptées pour les camping cars et ainsi développer le tourisme rural.",
          "Il faut augmenter le volume de toilettes sèches, distribution de l’eau, déplacements écologiques sur les sites naturels.",
          "Il faut intégrer la notion de responsabilité dans les structures touristiques à partir d’outils comme la norme ISO 26000",
          "Il faut que les acteurs du tourisme en littoral fassent la promotion (et la vente) de crèmes solaires minérales pour réduire les impacts.",
          "Il faut créer des offres en pack (1 nuitée+1 site culturel+1 loisir en site naturel+1 dégust° chez artisan) : concilier Eco/Env/Soc en local",
          "Il faut que les voyagistes créent une offre spécifique dédiée aux foyers les plus défavorisés, selon conditions de ressources.",
          "Il faut impliquer les habitants dans l'accueil des touristes pour favoriser les échanges culturels et permettre une immersion locale",
          "Il faut que nous camping caristes, puissions bénéficier d'un diesel vert pour être encore un peu plus respectueux de la nature.",
          "Il faut sensibiliser, dès le plus jeune âge, sur les déchets (gestion, tri etc.), le respect de l'environnement",
          "Il faut respecter et valoriser le patrimoine existant naturel, bâti, culinaire de la destination touristique.",
          "Il faut mettre en avant les prestataires déjà engagés vers un tourisme durable et responsable (écolabel, circuits-courts, mobilités, etc.)",
          "Il faut avoir plus de pistes cyclables sécurisées",
          "Il faut accentuer les actions de sensibilisation et d'information auprès des vacanciers et développer une vraie communication engageante",
          "Il faut que les offices de tourisme nationaux ou régionaux arrêtent de baser leur publicité sur des sites déjà sur-fréquentés.",
          "Il faut accélérer la construction de voies vertes à l'écart des routes",
          "Il faut revenir au camping originel : réversible, léger dans ses aménagements, présent partout et accessible au plus grand nombre",
          "Il faut limiter le nombre de visiteurs à certains sites touristiques.",
          "Il faut plus d'emplacements pour les camping car et pas des places de parking exiguës comme on voit trop souvent, des emplacements ombragés",
          "Il faut des postes pérennes. Condamner les professionnels du tourisme au précariat, c'est du gaspillage de compétences injustifié.",
          "Il faut mettre en avant le patrimoine local par des visites hors des sites touristiques, expliquer la diversité végétale et animale.",
          "Il faut accueillir les touristes dans des conditions d'hygiène impeccable. Terminé les déchets sinon c'est 1500 euros d'amende.",
          "Il faut créer un \"passeport vert\" interdisant plus d'un voyage en avion par an et par personne. les riches voyagent beaucoup trop",
          "Il faut développer la méthanisation, une solution pour réduire les déchets brulés et en faire une ressource.",
          "Il faut arrêter ces mesurettes hypocrites qui n'ont d'effet que de donner bonne conscience tout en continuant à émettre massivement du CO2.",
          "Il faut faire découvrir les bienfaits de la nature pour déclencher l'envie de la protéger et faire comprendre l'importance de le faire.",
          "Il faut communiquer par région sur la faune et flore (marine et terrestre) pour inciter à la préservation",
          "Il faut dans les trains un wagon pour vélos qui soit aussi adapté pour les tricycles, les triporteurs, les tandems, vélos avec remorques",
          "Il faut que la lutte contre la pollution dans les lieux tels que plages et forêts soit une priorité : sensibiliser, contrôler, ramasser",
          "Il faut créer un label Tourime Durable France pour éviter l'éparpillement des certifications vertes",
          "Il faut développer l’éco-tourisme (animalier) pour sensibiliser les touristes à la protection des animaux (ours,lynx,loup) ex:voyage sauvage",
          "Il faut proposer aux producteurs locaux de présenter leur activité et leurs produits aux clients des hôtels.",
          "Il faut faire une plateforme nationale en plusieurs langues qui regroupe tous les sites et villes éco-responsables avec explications + idée",
          "Il faut favoriser, au lieu d'y mettre des obstacles, le tourisme en camping-car, qui ne nécessite aucune structure lourde.",
          "Il faut faire prendre conscience aux touristes de l’impact environnemental de leur projet de voyage.",
          "Il faut stopper/freiner les créations de gros centres aquatiques ou autres loisirs très consommateurs de ressources naturelles",
          "Il faut instaurer une taxe pour les touristes étrangers pour financer la transition écologique et la protection de l'environnement",
          "Il faut développer le réseau ferroviaire avec des trains de qualité et un service fiable.",
          "Il faut intégrer les habitants dans les CA des offices, comités régionaux et agences de développement touristiques",
          "Il faut interdire les vols intérieurs quand une solution est possible en train ou proposer des prix très dissuasifs",
          "Il faut interdire ou limiter les paquebots et les croisières trop nombreuses",
          "Il faut sensibiliser les enfants dès l'entrée à l'école ! Avec des vidéos chocs pour faire réagir !",
          "Il faut donner de la visibilité aux offres durables dans les offices de tourisme et sur les sites web ",
          "Il faut voyager mieux même si cela signifie moins, faire payer le vrai prix des vols aériens, augmenter la RSE des entreprises.",
          "Il faut abandonner le yield management qui ajuste les tarifs en fonction de la demande pour redonner une valeur juste au voyage",
          "Il faut mettre en place un vaste programme d'éducation au voyage.",
          "Il faut commencer par faire payer le vrai prix des vols en incluant une taxe carbone.",
          "Il faut que chaque proposition de voyage fasse l'objet d'une mesure de son empreinte environnementale",
          "Il faut protéger les ports de pêche actifs et limiter autant que possible leur conversion en port de plaisance pour paquebots touristiques",
          "Il faut que les gens qui habitent dans les régions touristiques aient droit de véto sur les projets d'urbanisme",
          "Il faut en France notamment : créer davantage de réserves naturelles et embaucher le personnel garde forestier, guide observation nature etc",
          "Il faut valoriser l'artisanat local et les produits du terroir; les objets souvenirs \"made in china\" ne doivent plus être la norme...",
          "Il faut que certains lieux touristiques revoient leur plage d'ouverture. Pour exemple certains ouvrent le 15/04 et ferment fin septembre.",
          "Il faut développer l'accessibilité du tourisme aux handicapés et à toutes formes d'handicaps.",
          "Il faut mettre plus de poubelles de tri sélectif à la disposition des usagers, notamment sur les lieux de tourisme du haut pays et villages",
          "Il faut subventionner et coacher les acteurs du tourisme,qu'ils évoluent vers des infrastructures et pratiques plus durables et responsables",
          "Il faut limiter l’accès à certains sites naturels pour les préserver",
          "Il faut impérativement éduquer les écoliers dès le plus jeune âge : respecter les lieux, ramasser nos déchets.",
          "Il faut développer les voies cyclables pour favoriser les vacances à vélo et le vélo en vacances.",
          "Il faut une vrai répression et l'application d'amendes sévères pour les touristes pollueurs.",
          "Il faut respecter la biodiversité aussi au maximum. les voies vertes a velo c'est pratique mais respectons les chemins naturels également.",
          "Il faut du personnel banalisé autorisé à verbaliser, papier de bonbon, mégot, sortie de sentier. Installer des poubelles vidées souvent",
          "Il faut encourager le tourisme de niche par des randonnées, visites guidées et circuits sur la faune et la flore (terrestre et marine)",
          "Il faut que l'Etat mette à disposition, sur concertation, des dotations adaptées pour engager les pros à accéder aux changements",
          "Il faut limiter l'afflux dans les lieux naturels par une jauge.",
          "Il faut verbaliser plus lourdement et plus activement tout jet de déchet afin d'offrir un environnement plus propre aux touristes",
          "Il faut réviser ou créer des jauges de personnes pouvant accéder à un site naturel par an ou par jour pour les préserver.",
          "Il faut que chacun dispose d'un nombre maximum de voyages en avion sur une période donnée (2 voyages entre 30 et 40 ans par ex.)",
          "Il faut intégrer obligatoirement la population locale dans tous les projets sur leur territoire",
          "Il faut montrer les programmes et les ambitions de préservation des espèces végétales et animales en danger",
          "Il faut sensibiliser les enfants a l'école dès la maternelle avec de vrai cours réguliers",
          "Il faut informer mais aussi sévir au besoin. Le touriste qui apporte son pique-nique à la plage peut bien ramener ses déchets, non?",
          "Il faut diminuer les emballages (surtout plastiques) inutiles des produits alimentaires",
          "Il faut travailler sur de nouveaux concepts de voyage pour que partir en vacances ne soit pas nécessairement partir en avion et loin!",
          "Il faut taxer ou limiter les activités nuisibles à la nature (jet ski, hélicoptère, quad...)",
          "Il faut interdire les vols nationaux (sauf urgences, sauf pour les DOM TOM et la Corse) et développer le rail.",
          "Il faut faciliter l'accès aux opérateurs du tourisme de label \"développement durable\" reconnus à l'international.",
          "Il faut développer les voyages en montgolfière, pédalo, cyclo-draisine (sur les anciens chemins de fer)",
          "Il faut apprendre à voyager léger avec garde-robe réduite, favoriser achats sur place et faire don au retour",
          "Il faut favoriser tourisme local éco-tourisme pour des destinations plus éloignées (produits 0 déchet, découverte des cultures locales...)",
          "Il faut que les hôtels arrêtent les produits d'accueil en mignonnettes (shampooing, gel douche) et les verres à dent jetables en plastique",
          "Il faut faire surpayer une réservation si le moyen de transport utilisé est inadéquat (vol intérieur, voiture avec plus de 800km aller...)",
          "Il faut du mobilier urbain, des équipements publics (bancs, signalétique, toilettes,...) accessibles et accueillants pour apaiser les villes",
          "Il faut consommer local",
          "Il faut privilégier le tourisme de proximité, valoriser son territoire par et pour les habitants",
          "Il faut limiter ses déplacements motorisés une fois sur site (c'est-à-dire utiliser vélo ou transports en commun)",
          "Il faut développer les voies vertes",
          "Il faut faire plus de pub a la télé ou des panneaux publicitaires dans la rue afin de sensibiliser les touristes à être plus responsables",
          "Il faut mettre à disposition gratuitement des vélos pour circuler dans tous les espaces fragiles (parcs, etc)",
          "Il faut rendre les données flux vision open source et y associer un principe de démarketing sur les secteurs sensibles",
          "Il faut soumettre l'accueil et l'hébergement des sites de tourisme de masse à des quotas.",
          "Il faut travailler sur l'imaginaire des vacances \"de rêve\" (un hôtel 5* avec plage privative et golf ? dormir chez l'habitant ? ...)",
          "Il faut ne pas opposer touristes et habitants. Faire plus de pédagogie et moins de marketing territorial.",
          "Il faut que chaque touriste consacre la dernière journée de ses vacances à un nettoyage éco-responsable des alentours de son lieu de vacance",
          "Il faut monter des formations de guides en agritourisme pour faire apprécier la campagne agricole environnante et ses productions.",
          "Il faut offrir des sas de décompression aux urbains, en pleine nature, loin du tumulte et du WIFI mais avec un bon niveau de confort",
          "Il faut aider les voyageurs à découvrir des séjours éco-responsables en leur proposant des offres/circuits clé en main promus par les OT.",
          "Il faut mettre l'été davantage de poubelles pour les touristes pour éviter les emballages dans la nature",
          "Il faut aménager, pour tous, famille, PMR, inciter à se déplacer à pied, en vélo, covoiturage, navettes, pour réduire l'impact touristique",
          "Il faut systématiquement que les restes de nourriture dans les restaurants soient redistribués et non jetés.",
          "Il faut des fontaines d'eau potable (les spéciales à jet) au moins en ville pour éviter l'achat de bouteilles.",
          "Il faut interdire les petites bouteilles en plastique au profit des grandes (restaurants et bars) pour réduire la consommation de plastique.",
          "Il faut développer une offre touristique durable et professionnelle. On peut faire mieux que se reposer sur des stagiaires 2 mois par an",
          "Il faut un tourisme conscient de son environnement naturel et sociétal et qui souhaite offrir le meilleur à ses voyageurs.",
          "Il faut intégrer l'activité touristique comme un bien commun pour une nouvelle approche économique et écologique conjointe.",
          "Il faut une prise de conscience globale: des comportements à l'offre et aux infrastructures. des aides financières pour ceux qui changent",
          "Il faut dans chaque organisation, créer un esprit d'entreprise positif et développer les compétences des salariés (bien être social)",
          "Il faut rendre accessible aux voyageurs (rapide, simple et pas plus cher) les vacances responsables.",
          "Il faut bonifier la valeur des chèques vacances pour les entreprises «éco-responsables» (voir quelle grille utiliser)",
          "Il faut créer des tronçons de pistes cyclables qui longeraient les lignes de RER, métro, trams, en plein air, trains",
          "Il faut sévir un peu plus sur les incivilités mettant en danger les espaces verts",
          "Il faut géotaguer tous les sentiers et les rendre visibles par toutes les appli existantes openrunner, running...",
          "Il faut prévoir des campings car fonctionnant au GPL",
          "Il faut mettre en cohérence les stratégies de promotion du tourisme avec les enjeux environnementaux",
          "Il faut favoriser l'emploi à l'année des locaux et non l'emploi saisonnier",
          "Il faut encourager les moyens de transport doux, par exemple en développant les pistes cyclables et en promouvant l’usage du train",
          "Il faut créer une fédération nationale du tourisme rural pour donner aux acteurs la possibilité d'agir ensemble pour un tourisme responsable",
          "Il faut insister sur la promotion du circuit court d'alimentation et l'utilisation des monnaies locales.",
          "Il faut rendre obligatoire pour les collectivités et entreprises (dont celles du tourisme) des démarches type RSE, ISO normes durables etc.",
          "Il faut revenir aux fondamentaux des vacances : contemplation, isolement, partage et découverte loin des « usines à touristes ».",
          "Il faut inscrire un programme pédagogique concret de nature à sensibiliser par l'éducation dès le plus jeune âge les populations scolaires",
          "Il faut accompagner les hébergeurs vers une réduction des déchets, en particulier sur les savons et individuels, dosettes, ...",
          "Il faut faire la promotion du slow tourism avec des modes de déplacements doux et un tourisme expérientiel local valorisant les territoires",
          "Il faut supprimer les lignes d'avion intérieures avec une alternative en train comme le préconisait la convention citoyenne pour le climat.",
          "Il faut avant tout respecter les lieux où l'on séjourne (propreté, bruit, respect des autres entre autres)",
          "Il faut proposer des voyages à vélo avec location de vélos avec départ d'un point donné et retour par un autre point",
          "Il faut limiter le flux de touristes en été sur les plages et garder le littoral propre. Rendre impossible la venue sur certains sites",
          "Il faut s’inspirer des 17 objectifs de développement durable de l'ONU pour développer une stratégie favorable au bien-être de tous",
          "Il faut lier contractuellement l'artificialisation des sols à la renaturation d'autres secteurs.",
          "Il faut mettre en avant les activités touristiques des prestataires locaux favorisant la culture et l’environnement naturel local.",
          "Il faut aménager des aires de bivouac gratuit avec douche pour les voyageurs à vélo ou à pied.",
          "Il faut que les enfants dans les colonies de vacances soient initiés à la biodiversité de l’endroit où ils sont.",
          "Il faut soutenir la création de petites structures touristiques type maisons d'hôtes face aux gros hôteliers etc",
          "Il faut considérer les touristes comme des invités accueillis par des professionnels du tourisme à rendre responsable de leur clientèle",
          "Il faut trouver un moyen d’inciter les restaurateurs et hôteliers à valoriser les produits locaux au sein de leurs établissements",
          "Il faut compenser le CO2 nos voyages",
          "Il faut sensibiliser encore davantage au tri des déchets et à la récupération pendant les vacances qui riment trop souvent avec insouciance",
          "Il faut favoriser un tourisme des quatre saisons et favoriser le développement d'activités et d'animations hors saison accessibles à tous.",
          "Il faut réduire la pollution sonore des moteurs thermiques.",
          "Il faut remettre des poubelles et inciter les promeneurs à ramasser tout ce qui a été jeté (proposer des sacs, des collectes).",
          "Il faut stopper les projets d'envergure qui détruisent et artificialisent des surfaces utiles à la biodiversité et/ou aux permacultures.",
          "Il faut que sur les routes, des toilettes publiques sèches soient installées. Les sous-bois ne sont pas des WC.",
          "Il faut contraindre les touristes à respecter les règles et l'environnement là où ils vont. (les toucher au porte-monnaie)",
          "Il faut rester libre de son appréciation afin de vivre un tourisme épanouissant, respectant l'environnement, non inféodé aux effets de mode.",
          "Il faut sensibiliser dans les quartiers plus défavorisés le tourisme durable, se rapprocher des influenceurs, aller dans les collèges etc",
          "Il faut développer des pistes cyclables le long des trains, tgv .",
          "Il faut rouvrir les petits campings type municipaux pour des séjours abordables et proches de la nature avec un label \"vert\"",
          "Il faut consulter les Camping-caristes dans leur commune respective pour qu’ils apportent leur vécu et expérience",
          "Il faut veiller à équiper de ventilateur les hébergements (plutôt que/ou en plus des climatisations, si c'est aussi un chauffage).",
          "Il faut encourager les touristes et les structures touristiques à réduire leurs déchets et pas juste les trier/recycler.",
          "Il faut limiter le nombre de touristes dans les zones à préserver.",
          "Il faut inciter à la consommation de produits locaux en circuits courts",
          "Il faut engager une politique forte en matière d'innovation de prestations touristiques durables",
          "Il faut laisser les chercheurs développer des solutions technologiques qui seraient accessibles à tous.",
          "Il faut permettre l'accès à davantage de vélos dans chaque TER",
          "Il faut diminuer le prix des transports en commun pour inciter les touristes à les utiliser.",
          "Il faut s'inspirer des parcs régionaux et nationaux qui ont des décennies d'expérience sur le tourisme durable.",
          "Il faut libéraliser le stationnement des camping-caristes ne dépassant pas 7m",
          "Il faut limiter le nombre de personnes dans les endroits les plus fragiles comme les sentiers de montagne, les pistes cyclables, les plages.",
          "Il faut dans les zones à forte fréquentation touristique faire des lieux où il est interdit de se rendre pour préserver la faune et la flore",
          "Il faut alléger les réglementations d'urbanisme pour les logements éco-responsables: phytoépuration, recyclage d'eau de pluie, WC sèches.",
          "Il faut plus repartir les flux, valoriser les destinations moins courues, attirer, développer, promouvoir des destinations alternatives",
          "Il faut imposer des mesures écologiques aux touristes + interdire le tourisme de masse (type croisière)",
          "Il faut privilégier l’autocar longue distance qui permet de réduire l’empreinte carbone",
          "Il faut proposer aux touristes de participer au nettoyage des espaces touristiques qu'ils fréquentent (plages, forêts, montagnes, etc.)",
          "Il faut davantage de voies cyclables, comme dans tant d'autres pays européens.",
          "Il faut multiplier les possibilités de compensation des émissions de CO2 réalisées lors des déplacements touristiques",
          "Il faut prévoir des transports doux mais ludiques pour plaire (ex: trajets courts en calèche ou barque)",
          "Il faut autoriser les gens à venir avec leur propre contenant pour de la vente à emporter. Interdire les emballages à usage unique",
          "Il faut interdire l'accès à certains sites en véhicule individuel.",
          "Il faut, comme pour les vacances d'hiver, créer des zones afin d'éviter que tout le monde parte ensemble",
          "Il faut privilégier ces activités, via les chèques vacances, attribués par les entreprises - Promouvoir ce tourisme responsable",
          "Il faut développer des solutions de réduction des déchets dans l'ensemble des structures de tourisme (arrêt dosettes uniques de savon, etc.)",
          "Il faut récompenser les entreprises touristiques qui font du bien à la planète, mais aussi leurs clients. Ensemble, on est plus forts.",
          "Il faut mieux répartir l'offre touristique sur le territoire",
          "Il faut cesser de construire et faire naviguer des paquebots de croisière pouvant accueillir 10000 personnes.",
          "Il faut favoriser les centres de vacances qui axent leur thématiques principales sur l'écologie et la sensibilisation à l'environnement.",
          "Il faut proposer des tarifs incitatifs lors du séjour (par exemple, réduction de X€ si réutilisation de son linge éponge ou de lit).",
          "Il faut faire la pédagogie de l'utilisation de l'eau, de l'électricité, du chauffage et de la clim dans les lieux d'accueil et de séjour",
          "Il faut reconsidérer le modèle économique des stations de sports d'hiver",
          "Il faut faire un classement du voyage/consommation de CO2 pour que les voyageurs réalisent l'impact de leur voyage.",
          "Il faut mettre plus de poubelles mais surtout verbaliser les gens sales sévèrement, car les Français sont sales",
          "Il faut plus de vélos pour limiter les déplacements en voiture sur les lieux de tourisme",
          "Il faut avoir des moyens de transport collectif mieux répartis",
          "Il faut assurer des formations gratuites aux langues étrangères pour des \"Welcomers\" qui s'engageraient à faire découvrir leur territoire",
          "Il faut faire connaître, proposer et rendre accessible davantage de solutions de mobilité alternatives à la voiture pour voyager (ex: train)",
          "Il faut augmenter le nombre de parcs nationaux, régionaux et espaces natura 2000, ainsi que leur superficie.",
          "Il faut faire en sorte que chaque village de France soit équipé de WiFi",
          "Il faut proposer des journées zéro déchets sur les plages au moins en juillet et août",
          "Il faut indiquer les émissions de carbone lors de la réservation de billet d'avion et mettre en comparaison celles des autres alternatives",
          "Il faut que les mairies puissent promouvoir des parcs à vélo et réhabilitent les chemins abandonnés de leurs communes",
          "Il faut mettre en place sur les communes des espaces de cultures maraichères et des vergers / forêts comestibles destinés aux restaurateurs",
          "Il faut imposer le tri des déchets dans tous les lieux accueillant des touristes (hôtels, résidences vacances...)",
          "Il faut développer encore davantage la possibilité de prendre son vélo dans le train, le bus...\nIl faut aider les démarches certifiantes",
          "Il faut valoriser et simplifier l'implantation des éco-lieux atypiques & slow tourisme auprès des communes.",
          "Il faut interdire les bouteilles plastiques et remettre en place les consignes verre",
          "Il faut arrêter de subventionner l'aviation en particulier pour les vols intérieurs, y compris pour les compagnies lowcost",
          "Il faut rendre le train plus accessible (tarifs) et augmenter les fréquences en journée sur certains trajets.",
          "Il faut redonner du sens au tourisme pour fédérer tous les acteurs autour d'un projet commun où chacun contribue et trouve sa place.",
          "Il faut sensibiliser les touristes à la préservation du lieu de leurs vacances",
          "Il faut promouvoir les solutions de voyage qui permettraient de favoriser le train, le transport le moins émetteur. (ex: taxi+train+navette)",
          "Il faut moderniser nos infrastructures pour le tourisme et les locaux: trains, bus ... passons électrique! Favorisons le vélo en ville!",
          "Il faut donner les moyens aux citoyens de dénoncer des opérations de greenwashing.",
          "Il faut que monuments, musées, offices de tourisme proposent des visites guidées en limitant le nombre de personnes par groupe",
          "Il faut renforcer le marketing et la promotion du tourisme en milieu rural car il permettra d’offrir un tourisme moins concentré.",
          "Il faut limiter le tourisme de masse, instaurer des limites à la fréquentation de certains sites",
          "Il faut favoriser les promenades accompagnées par des ânes, des mules : tout le monde ne peut pas pédaler ou marcher ni porter des sacs",
          "Il faut responsabiliser tous les utilisateurs de bateaux de tourisme qui polluent par leur moteur mais également en jetant leurs détritus",
          "Il faut développer des sites touristiques axés sur le slow tourisme et la mutualisation des services pour plaisanciers/randonneurs/cyclotour",
          "Il faut que le tourisme aide les petits agriculteurs français, les artisans, les cultures locales françaises.",
          "Il faut interdire les crèmes solaires qui détruisent la flore et la faune des milieux aquatiques.",
          "Il faut créer et améliorer les correspondances en gare pour offrir une vraie palette de mobilité \"porte-à-porte\" partout en France.",
          "Il faut, à Paris, organiser une troisième collecte des poubelles jaunes par semaine pour les hôtels car nous ne pouvons pas tout recycler.",
          "Il faut rendre le tourisme durable attractif, en expliquant ce qu’il est vraiment, et le rendre ludique pour une meilleure appropriation.",
          "Il faut mettre un nombre bien dispatché de poubelles \" type aires de repos des autoroutes \" dans nos communes.",
          "Il faut privilégier les petits groupes et les visites privées plutôt que le tourisme de masse",
          "Il faut supprimer les péages tout court: les autoroutes, financées avec les impôts que nous payons auraient dû devenir gratuites",
          "Il faut que chaque touriste participe à une demi-journée de « contribution locale » par séjour: nettoyage, restauration de site...",
          "Il faut déresponsabiliser les propriétaires et gestionnaires de sites naturels et cesser de diffuser des images de paysages libres d'accès",
          "Il faut pas de pistes cyclables sur les routes car c'est trop dangereux !",
          "Il faut apprendre aux enfants, dès le primaire, à prendre soin de notre terre mère en remettant l'éducation civique jusqu'en terminale.",
          "Il faut surtout booster la communication en local.",
          "Il faut mettre en place plus de zones de tri avec poubelles suffisantes et visibles sur les plages (avec contrôles de police si besoin)",
          "Il faut équiper davantage les communes, lieux touristiques et sites naturels de poubelles, et qu’elles soient ramassées régulièrement.",
          "Il faut mettre en place des solutions de tri des déchets dans les lieux touristiques avec un affichage clair, pédagogique et aussi ludique",
          "Il faut prendre en compte le tourisme dans les schémas de mobilité.",
          "Il faut interdire le tourisme héliporté à la Réunion, incompatible avec la notion de tourisme durable",
          "Il faut protéger certains lieux sauvages en ne les inscrivant pas sur les guides des visites.",
          "Il faut taxer les loisirs qui génèrent des émissions de gaz à effet de serre.",
          "Il faut concevoir des aménagements où le confort à l'usage (correspondance offre-usager) est un critère de durabilité et d'équité.",
          "Il faut inciter les Français à rester en France pour leurs vacances",
          "Il faut sensibiliser les touristes à ramener leurs déchets, distribuer des sacs biodégradables à leur arrivée dans les aéroports et gares",
          "Il faut instaurer et donner les moyens de respecter le tri sélectif dans les hébergements touristiques (même les gîtes privés)",
          "Il faut mieux valoriser les restaurants qui travaillent le frais et le local. Mieux communiquer sur le fait maison avec des guides locaux.",
          "Il faut une charte d'engagement éthique de non évasion fiscale des professionnels du tourisme avec un logo bien reconnaissable.",
          "Il faut mieux promouvoir Qualité Tourisme",
          "Il faut taxer fortement le tourisme de luxe car c’est le plus polluant: jets privés, hôtels 5 étoiles et palaces, hélicoptères privés...",
          "Il faut développer l'idée que de nombreux touristes désirent vivre le mode de vie à la française. Un tourisme différent mais plus curieux!",
          "Il faut encourager et rendre possible la pratique « hors saison » : services et activités mutualisés permettant d’assurer une permanence",
          "Il faut un tourisme \"4 saisons\" préservant l'identité culturelle, les écosystèmes, la biodiversité et les habitants acteurs du territoire",
          "Il faut proposer des petits circuits combinés d'un séjour pour que le voyageur s'imprègne de la destination",
          "Il faut un système touristique qui apprend à se développer durablement: les itinéraires des touristes, identifier les difficultés, échanger.",
          "Il faut inciter les consommateurs à s’orienter vers les commerces Green et les récompenser via un système de fidélisation uniforme",
          "Il faut interdire l'usage de pesticides, limiter la consommation d'eau, faire appel aux produits locaux pour la restauration.",
          "Il faut davantage de poubelles et de toilettes sèches dans les parcs naturels, aires de pique-niques, chemins de rando, à l'image du Canada",
          "Il faut interdire complètement les plateformes type Airbnb qui favorisent la spéculation immobilière et surtaxer les résidences secondaires",
          "Il faut ne plus prendre l'avion et ainsi ne pas continuer un tourisme destructeur et capitaliste, se contenter du train et bien sûr vélo",
          "Il faut un questionnaire obligatoire à chaque réservation qui informe le client de l’empreinte carbone de ses prochaines vacances.",
          "Il faut que les activités de tourisme respectent les populations locales et leurs modes de vie.",
          "Il faut demander aux chasseurs de délimiter leurs zones de chasse et les publier sur internet.",
          "Il faut créer pour chaque groupement de communes un annuaire et une carte des producteurs locaux destinés aux habitants et aux visiteurs.",
          "Il faut déconstruire l’idée que le voyage est forcément vers un ailleurs lointain en revalorisant les destinations rurales.",
          "Il faut arrêter de vendre nos bords de mer et autres sites à des grands groupes immobiliers ou à des chaînes d'hôtels qui les défigurent",
          "Il faut respecter les habitants à destination et faire en sorte que le tourisme soit un acte gagnant/gagnant.",
          "Il faut montrer ce que le territoire a à offrir toute l'année, pour étaler la fréquentation",
          "Il faut réaliser une campagne de communication pour encourager le tourisme local et responsable.",
          "Il faut un quota du nombre de vols aériens et d'un nombre de km annuels par voyageur",
          "Il faut que les industriels et les ventes à emporter réduisent les emballages cartons papiers qui envahissent le sol des lieux touristiques.",
          "Il faut créer une échelle de valeur pour les zones les plus écologiquement responsables au moins écologiquement responsable avec des étoiles",
          "Il faut abandonner le tourisme de masse en autocars qui est une vraie plaie pour les riverains (pollution, bruit, encombrement...)",
          "Il faut, pour chaque nouvelle structure, un bilan carbone neutre, mise en place de panneaux solaires, économie d'eau, espaces végétalisés.",
          "Il faut inciter, par le prix notamment, à consommer plus durable (nourriture, transport...)",
          "Il faut que les habitants des régions touristiques puissent avoir un pouvoir de decision sur les projets d'urbanisme prevus dans ces régions",
          "Il faut faire payer une taxe pollution aux touristes qui arrivent en voiture ou en avion, de type taxe de séjour.",
          "Il faut éduquer les touristes et les professionnels à se tourner vers un tourisme durable efficace.",
          "Il faut des combinaisons pour réaliser un maillage train + bus + vélos permettant d'aller partout en France.",
          "Il faut partir en vacances à vélo comme en 1936..",
          "Il faut augmenter les aires de stationnement en saison",
          "Il faut organiser une journée nationale du Tourisme Responsable afin que grands et petits s'approprient les atouts du TR pour tous & partout",
          "Il faut créer des transversales avec des intersections stratégiques pour changer de direction et éviter schéma en étoile depuis Paris",
          "Il faut impliquer les fédérations touristiques (FFCT, FF camping caravaning, CNT équestre...) dans le développement de plans touristiques",
          "Il faut taxer, taxer et encore taxer. Il faut aussi et en même temps interdire, interdire et encore interdire !",
          "Il faut interdire les offres \"all inclusive\" (gaspillage de masse) et limiter les consommations d'eau/électricité pour les locations d'été."
         ],
         "legendgroup": "",
         "marker": {
          "color": "green",
          "symbol": "circle"
         },
         "mode": "markers",
         "name": "",
         "showlegend": false,
         "textposition": "top center",
         "type": "scattergl",
         "x": {
          "bdata": "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",
          "dtype": "f4"
         },
         "xaxis": "x",
         "y": {
          "bdata": "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",
          "dtype": "f4"
         },
         "yaxis": "y"
        }
       ],
       "layout": {
        "hoverlabel": {
         "font": {
          "size": 16
         }
        },
        "legend": {
         "tracegroupgap": 0
        },
        "margin": {
         "t": 60
        },
        "template": {
         "data": {
          "bar": [
           {
            "error_x": {
             "color": "rgb(36,36,36)"
            },
            "error_y": {
             "color": "rgb(36,36,36)"
            },
            "marker": {
             "line": {
              "color": "white",
              "width": 0.5
             },
             "pattern": {
              "fillmode": "overlay",
              "size": 10,
              "solidity": 0.2
             }
            },
            "type": "bar"
           }
          ],
          "barpolar": [
           {
            "marker": {
             "line": {
              "color": "white",
              "width": 0.5
             },
             "pattern": {
              "fillmode": "overlay",
              "size": 10,
              "solidity": 0.2
             }
            },
            "type": "barpolar"
           }
          ],
          "carpet": [
           {
            "aaxis": {
             "endlinecolor": "rgb(36,36,36)",
             "gridcolor": "white",
             "linecolor": "white",
             "minorgridcolor": "white",
             "startlinecolor": "rgb(36,36,36)"
            },
            "baxis": {
             "endlinecolor": "rgb(36,36,36)",
             "gridcolor": "white",
             "linecolor": "white",
             "minorgridcolor": "white",
             "startlinecolor": "rgb(36,36,36)"
            },
            "type": "carpet"
           }
          ],
          "choropleth": [
           {
            "colorbar": {
             "outlinewidth": 1,
             "tickcolor": "rgb(36,36,36)",
             "ticks": "outside"
            },
            "type": "choropleth"
           }
          ],
          "contour": [
           {
            "colorbar": {
             "outlinewidth": 1,
             "tickcolor": "rgb(36,36,36)",
             "ticks": "outside"
            },
            "colorscale": [
             [
              0,
              "#440154"
             ],
             [
              0.1111111111111111,
              "#482878"
             ],
             [
              0.2222222222222222,
              "#3e4989"
             ],
             [
              0.3333333333333333,
              "#31688e"
             ],
             [
              0.4444444444444444,
              "#26828e"
             ],
             [
              0.5555555555555556,
              "#1f9e89"
             ],
             [
              0.6666666666666666,
              "#35b779"
             ],
             [
              0.7777777777777778,
              "#6ece58"
             ],
             [
              0.8888888888888888,
              "#b5de2b"
             ],
             [
              1,
              "#fde725"
             ]
            ],
            "type": "contour"
           }
          ],
          "contourcarpet": [
           {
            "colorbar": {
             "outlinewidth": 1,
             "tickcolor": "rgb(36,36,36)",
             "ticks": "outside"
            },
            "type": "contourcarpet"
           }
          ],
          "heatmap": [
           {
            "colorbar": {
             "outlinewidth": 1,
             "tickcolor": "rgb(36,36,36)",
             "ticks": "outside"
            },
            "colorscale": [
             [
              0,
              "#440154"
             ],
             [
              0.1111111111111111,
              "#482878"
             ],
             [
              0.2222222222222222,
              "#3e4989"
             ],
             [
              0.3333333333333333,
              "#31688e"
             ],
             [
              0.4444444444444444,
              "#26828e"
             ],
             [
              0.5555555555555556,
              "#1f9e89"
             ],
             [
              0.6666666666666666,
              "#35b779"
             ],
             [
              0.7777777777777778,
              "#6ece58"
             ],
             [
              0.8888888888888888,
              "#b5de2b"
             ],
             [
              1,
              "#fde725"
             ]
            ],
            "type": "heatmap"
           }
          ],
          "histogram": [
           {
            "marker": {
             "line": {
              "color": "white",
              "width": 0.6
             }
            },
            "type": "histogram"
           }
          ],
          "histogram2d": [
           {
            "colorbar": {
             "outlinewidth": 1,
             "tickcolor": "rgb(36,36,36)",
             "ticks": "outside"
            },
            "colorscale": [
             [
              0,
              "#440154"
             ],
             [
              0.1111111111111111,
              "#482878"
             ],
             [
              0.2222222222222222,
              "#3e4989"
             ],
             [
              0.3333333333333333,
              "#31688e"
             ],
             [
              0.4444444444444444,
              "#26828e"
             ],
             [
              0.5555555555555556,
              "#1f9e89"
             ],
             [
              0.6666666666666666,
              "#35b779"
             ],
             [
              0.7777777777777778,
              "#6ece58"
             ],
             [
              0.8888888888888888,
              "#b5de2b"
             ],
             [
              1,
              "#fde725"
             ]
            ],
            "type": "histogram2d"
           }
          ],
          "histogram2dcontour": [
           {
            "colorbar": {
             "outlinewidth": 1,
             "tickcolor": "rgb(36,36,36)",
             "ticks": "outside"
            },
            "colorscale": [
             [
              0,
              "#440154"
             ],
             [
              0.1111111111111111,
              "#482878"
             ],
             [
              0.2222222222222222,
              "#3e4989"
             ],
             [
              0.3333333333333333,
              "#31688e"
             ],
             [
              0.4444444444444444,
              "#26828e"
             ],
             [
              0.5555555555555556,
              "#1f9e89"
             ],
             [
              0.6666666666666666,
              "#35b779"
             ],
             [
              0.7777777777777778,
              "#6ece58"
             ],
             [
              0.8888888888888888,
              "#b5de2b"
             ],
             [
              1,
              "#fde725"
             ]
            ],
            "type": "histogram2dcontour"
           }
          ],
          "mesh3d": [
           {
            "colorbar": {
             "outlinewidth": 1,
             "tickcolor": "rgb(36,36,36)",
             "ticks": "outside"
            },
            "type": "mesh3d"
           }
          ],
          "parcoords": [
           {
            "line": {
             "colorbar": {
              "outlinewidth": 1,
              "tickcolor": "rgb(36,36,36)",
              "ticks": "outside"
             }
            },
            "type": "parcoords"
           }
          ],
          "pie": [
           {
            "automargin": true,
            "type": "pie"
           }
          ],
          "scatter": [
           {
            "fillpattern": {
             "fillmode": "overlay",
             "size": 10,
             "solidity": 0.2
            },
            "type": "scatter"
           }
          ],
          "scatter3d": [
           {
            "line": {
             "colorbar": {
              "outlinewidth": 1,
              "tickcolor": "rgb(36,36,36)",
              "ticks": "outside"
             }
            },
            "marker": {
             "colorbar": {
              "outlinewidth": 1,
              "tickcolor": "rgb(36,36,36)",
              "ticks": "outside"
             }
            },
            "type": "scatter3d"
           }
          ],
          "scattercarpet": [
           {
            "marker": {
             "colorbar": {
              "outlinewidth": 1,
              "tickcolor": "rgb(36,36,36)",
              "ticks": "outside"
             }
            },
            "type": "scattercarpet"
           }
          ],
          "scattergeo": [
           {
            "marker": {
             "colorbar": {
              "outlinewidth": 1,
              "tickcolor": "rgb(36,36,36)",
              "ticks": "outside"
             }
            },
            "type": "scattergeo"
           }
          ],
          "scattergl": [
           {
            "marker": {
             "colorbar": {
              "outlinewidth": 1,
              "tickcolor": "rgb(36,36,36)",
              "ticks": "outside"
             }
            },
            "type": "scattergl"
           }
          ],
          "scattermap": [
           {
            "marker": {
             "colorbar": {
              "outlinewidth": 1,
              "tickcolor": "rgb(36,36,36)",
              "ticks": "outside"
             }
            },
            "type": "scattermap"
           }
          ],
          "scattermapbox": [
           {
            "marker": {
             "colorbar": {
              "outlinewidth": 1,
              "tickcolor": "rgb(36,36,36)",
              "ticks": "outside"
             }
            },
            "type": "scattermapbox"
           }
          ],
          "scatterpolar": [
           {
            "marker": {
             "colorbar": {
              "outlinewidth": 1,
              "tickcolor": "rgb(36,36,36)",
              "ticks": "outside"
             }
            },
            "type": "scatterpolar"
           }
          ],
          "scatterpolargl": [
           {
            "marker": {
             "colorbar": {
              "outlinewidth": 1,
              "tickcolor": "rgb(36,36,36)",
              "ticks": "outside"
             }
            },
            "type": "scatterpolargl"
           }
          ],
          "scatterternary": [
           {
            "marker": {
             "colorbar": {
              "outlinewidth": 1,
              "tickcolor": "rgb(36,36,36)",
              "ticks": "outside"
             }
            },
            "type": "scatterternary"
           }
          ],
          "surface": [
           {
            "colorbar": {
             "outlinewidth": 1,
             "tickcolor": "rgb(36,36,36)",
             "ticks": "outside"
            },
            "colorscale": [
             [
              0,
              "#440154"
             ],
             [
              0.1111111111111111,
              "#482878"
             ],
             [
              0.2222222222222222,
              "#3e4989"
             ],
             [
              0.3333333333333333,
              "#31688e"
             ],
             [
              0.4444444444444444,
              "#26828e"
             ],
             [
              0.5555555555555556,
              "#1f9e89"
             ],
             [
              0.6666666666666666,
              "#35b779"
             ],
             [
              0.7777777777777778,
              "#6ece58"
             ],
             [
              0.8888888888888888,
              "#b5de2b"
             ],
             [
              1,
              "#fde725"
             ]
            ],
            "type": "surface"
           }
          ],
          "table": [
           {
            "cells": {
             "fill": {
              "color": "rgb(237,237,237)"
             },
             "line": {
              "color": "white"
             }
            },
            "header": {
             "fill": {
              "color": "rgb(217,217,217)"
             },
             "line": {
              "color": "white"
             }
            },
            "type": "table"
           }
          ]
         },
         "layout": {
          "annotationdefaults": {
           "arrowhead": 0,
           "arrowwidth": 1
          },
          "autotypenumbers": "strict",
          "coloraxis": {
           "colorbar": {
            "outlinewidth": 1,
            "tickcolor": "rgb(36,36,36)",
            "ticks": "outside"
           }
          },
          "colorscale": {
           "diverging": [
            [
             0,
             "rgb(103,0,31)"
            ],
            [
             0.1,
             "rgb(178,24,43)"
            ],
            [
             0.2,
             "rgb(214,96,77)"
            ],
            [
             0.3,
             "rgb(244,165,130)"
            ],
            [
             0.4,
             "rgb(253,219,199)"
            ],
            [
             0.5,
             "rgb(247,247,247)"
            ],
            [
             0.6,
             "rgb(209,229,240)"
            ],
            [
             0.7,
             "rgb(146,197,222)"
            ],
            [
             0.8,
             "rgb(67,147,195)"
            ],
            [
             0.9,
             "rgb(33,102,172)"
            ],
            [
             1,
             "rgb(5,48,97)"
            ]
           ],
           "sequential": [
            [
             0,
             "#440154"
            ],
            [
             0.1111111111111111,
             "#482878"
            ],
            [
             0.2222222222222222,
             "#3e4989"
            ],
            [
             0.3333333333333333,
             "#31688e"
            ],
            [
             0.4444444444444444,
             "#26828e"
            ],
            [
             0.5555555555555556,
             "#1f9e89"
            ],
            [
             0.6666666666666666,
             "#35b779"
            ],
            [
             0.7777777777777778,
             "#6ece58"
            ],
            [
             0.8888888888888888,
             "#b5de2b"
            ],
            [
             1,
             "#fde725"
            ]
           ],
           "sequentialminus": [
            [
             0,
             "#440154"
            ],
            [
             0.1111111111111111,
             "#482878"
            ],
            [
             0.2222222222222222,
             "#3e4989"
            ],
            [
             0.3333333333333333,
             "#31688e"
            ],
            [
             0.4444444444444444,
             "#26828e"
            ],
            [
             0.5555555555555556,
             "#1f9e89"
            ],
            [
             0.6666666666666666,
             "#35b779"
            ],
            [
             0.7777777777777778,
             "#6ece58"
            ],
            [
             0.8888888888888888,
             "#b5de2b"
            ],
            [
             1,
             "#fde725"
            ]
           ]
          },
          "colorway": [
           "#1F77B4",
           "#FF7F0E",
           "#2CA02C",
           "#D62728",
           "#9467BD",
           "#8C564B",
           "#E377C2",
           "#7F7F7F",
           "#BCBD22",
           "#17BECF"
          ],
          "font": {
           "color": "rgb(36,36,36)"
          },
          "geo": {
           "bgcolor": "white",
           "lakecolor": "white",
           "landcolor": "white",
           "showlakes": true,
           "showland": true,
           "subunitcolor": "white"
          },
          "hoverlabel": {
           "align": "left"
          },
          "hovermode": "closest",
          "mapbox": {
           "style": "light"
          },
          "paper_bgcolor": "white",
          "plot_bgcolor": "white",
          "polar": {
           "angularaxis": {
            "gridcolor": "rgb(232,232,232)",
            "linecolor": "rgb(36,36,36)",
            "showgrid": false,
            "showline": true,
            "ticks": "outside"
           },
           "bgcolor": "white",
           "radialaxis": {
            "gridcolor": "rgb(232,232,232)",
            "linecolor": "rgb(36,36,36)",
            "showgrid": false,
            "showline": true,
            "ticks": "outside"
           }
          },
          "scene": {
           "xaxis": {
            "backgroundcolor": "white",
            "gridcolor": "rgb(232,232,232)",
            "gridwidth": 2,
            "linecolor": "rgb(36,36,36)",
            "showbackground": true,
            "showgrid": false,
            "showline": true,
            "ticks": "outside",
            "zeroline": false,
            "zerolinecolor": "rgb(36,36,36)"
           },
           "yaxis": {
            "backgroundcolor": "white",
            "gridcolor": "rgb(232,232,232)",
            "gridwidth": 2,
            "linecolor": "rgb(36,36,36)",
            "showbackground": true,
            "showgrid": false,
            "showline": true,
            "ticks": "outside",
            "zeroline": false,
            "zerolinecolor": "rgb(36,36,36)"
           },
           "zaxis": {
            "backgroundcolor": "white",
            "gridcolor": "rgb(232,232,232)",
            "gridwidth": 2,
            "linecolor": "rgb(36,36,36)",
            "showbackground": true,
            "showgrid": false,
            "showline": true,
            "ticks": "outside",
            "zeroline": false,
            "zerolinecolor": "rgb(36,36,36)"
           }
          },
          "shapedefaults": {
           "fillcolor": "black",
           "line": {
            "width": 0
           },
           "opacity": 0.3
          },
          "ternary": {
           "aaxis": {
            "gridcolor": "rgb(232,232,232)",
            "linecolor": "rgb(36,36,36)",
            "showgrid": false,
            "showline": true,
            "ticks": "outside"
           },
           "baxis": {
            "gridcolor": "rgb(232,232,232)",
            "linecolor": "rgb(36,36,36)",
            "showgrid": false,
            "showline": true,
            "ticks": "outside"
           },
           "bgcolor": "white",
           "caxis": {
            "gridcolor": "rgb(232,232,232)",
            "linecolor": "rgb(36,36,36)",
            "showgrid": false,
            "showline": true,
            "ticks": "outside"
           }
          },
          "title": {
           "x": 0.05
          },
          "xaxis": {
           "automargin": true,
           "gridcolor": "rgb(232,232,232)",
           "linecolor": "rgb(36,36,36)",
           "showgrid": false,
           "showline": true,
           "ticks": "outside",
           "title": {
            "standoff": 15
           },
           "zeroline": false,
           "zerolinecolor": "rgb(36,36,36)"
          },
          "yaxis": {
           "automargin": true,
           "gridcolor": "rgb(232,232,232)",
           "linecolor": "rgb(36,36,36)",
           "showgrid": false,
           "showline": true,
           "ticks": "outside",
           "title": {
            "standoff": 15
           },
           "zeroline": false,
           "zerolinecolor": "rgb(36,36,36)"
          }
         }
        },
        "title": {
         "font": {
          "color": "black",
          "family": "Arial",
          "size": 25
         },
         "text": "2D Sentence Embeddings (Skip-Gram without Stopwords)",
         "x": 0.5,
         "xanchor": "center",
         "y": 0.95,
         "yanchor": "top"
        },
        "xaxis": {
         "anchor": "y",
         "domain": [
          0,
          1
         ],
         "title": {
          "text": "embedding_prop_x"
         },
         "visible": false
        },
        "yaxis": {
         "anchor": "x",
         "domain": [
          0,
          1
         ],
         "title": {
          "text": "embedding_prop_y"
         },
         "visible": false
        }
       }
      }
     },
     "metadata": {},
     "output_type": "display_data"
    }
   ],
   "source": [
    "# Créer un graphique dynamique avec Plotly\n",
    "fig = px.scatter(df[['content','embedding_prop_x','embedding_prop_y']], x='embedding_prop_x', y='embedding_prop_y', hover_name='content', color_discrete_sequence=['green'])\n",
    "fig.update_traces(textposition='top center', showlegend=False)\n",
    "fig.update_xaxes(visible=False)\n",
    "fig.update_yaxes(visible=False)\n",
    "fig.update_layout(\n",
    "    title=dict(\n",
    "        text='2D Sentence Embeddings (Skip-Gram without Stopwords)',\n",
    "        font=dict(size=25, color=\"black\", family=\"Arial\"),\n",
    "            xanchor=\"center\",\n",
    "            yanchor=\"top\",\n",
    "            x=0.5,\n",
    "            y=0.95\n",
    "    ),\n",
    "    template='simple_white',\n",
    "    hoverlabel=dict(font_size=16),\n",
    "    )\n",
    "fig.show()"
   ]
  },
  {
   "cell_type": "code",
   "execution_count": 15,
   "metadata": {},
   "outputs": [
    {
     "data": {
      "text/plain": [
       "'../outputs/2D Sentence Embeddings (Skip-Gram without Stopwords).html'"
      ]
     },
     "execution_count": 15,
     "metadata": {},
     "output_type": "execute_result"
    }
   ],
   "source": [
    "# Sauvegarder le graphique en tant que fichier HTML\n",
    "pyo.plot(fig, filename='../outputs/2D Sentence Embeddings (Skip-Gram without Stopwords).html', auto_open=False)"
   ]
  },
  {
   "cell_type": "markdown",
   "metadata": {},
   "source": [
    "## Sauvegarde du dataframe\n",
    "NB : je n'utilise pas les csv parce que pour les vecteurs c'est pas terrible. Il faut les reconstruire après sauvegarde je ne trouve pas ça pratique"
   ]
  },
  {
   "cell_type": "code",
   "execution_count": 16,
   "metadata": {},
   "outputs": [],
   "source": [
    "# Convertir tous les vecteurs de la colonne 'embedding_prop' en float64\n",
    "df['embedding_prop'] = df['embedding_prop'].apply(\n",
    "    lambda x: np.array(x, dtype=np.float64)\n",
    ")"
   ]
  },
  {
   "cell_type": "code",
   "execution_count": 17,
   "metadata": {},
   "outputs": [],
   "source": [
    "# Sauvegarde des jeux de données\n",
    "df.to_parquet(\n",
    "    \"../data/processed/req_tourisme_responsable_embeddings.parquet\",\n",
    "    engine='pyarrow',\n",
    "    index=False\n",
    ")\n"
   ]
  }
 ],
 "metadata": {
  "kernelspec": {
   "display_name": "tourisme-vert-env",
   "language": "python",
   "name": "python3"
  },
  "language_info": {
   "codemirror_mode": {
    "name": "ipython",
    "version": 3
   },
   "file_extension": ".py",
   "mimetype": "text/x-python",
   "name": "python",
   "nbconvert_exporter": "python",
   "pygments_lexer": "ipython3",
   "version": "3.11.11"
  }
 },
 "nbformat": 4,
 "nbformat_minor": 2
}
