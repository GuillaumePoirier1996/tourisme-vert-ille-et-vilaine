{
 "cells": [
  {
   "cell_type": "markdown",
   "metadata": {},
   "source": [
    "# 📢📢📢 Projet NLP : La parole aux citoyens (Make.org - Le tourisme vert en Ille-et-Vilaine)📢📢📢\n",
    "# Lecture et nettoyage des données\n",
    "## Importation des bibliothèques nécessaires"
   ]
  },
  {
   "cell_type": "code",
   "execution_count": 1,
   "metadata": {},
   "outputs": [],
   "source": [
    "import pandas as pd\n",
    "import re\n",
    "import emoji\n",
    "import os"
   ]
  },
  {
   "cell_type": "markdown",
   "metadata": {},
   "source": [
    "## Lecture des données"
   ]
  },
  {
   "cell_type": "code",
   "execution_count": 2,
   "metadata": {},
   "outputs": [
    {
     "data": {
      "text/html": [
       "<div>\n",
       "<style scoped>\n",
       "    .dataframe tbody tr th:only-of-type {\n",
       "        vertical-align: middle;\n",
       "    }\n",
       "\n",
       "    .dataframe tbody tr th {\n",
       "        vertical-align: top;\n",
       "    }\n",
       "\n",
       "    .dataframe thead th {\n",
       "        text-align: right;\n",
       "    }\n",
       "</style>\n",
       "<table border=\"1\" class=\"dataframe\">\n",
       "  <thead>\n",
       "    <tr style=\"text-align: right;\">\n",
       "      <th></th>\n",
       "      <th>total</th>\n",
       "      <th>results</th>\n",
       "      <th>seed</th>\n",
       "    </tr>\n",
       "  </thead>\n",
       "  <tbody>\n",
       "    <tr>\n",
       "      <th>0</th>\n",
       "      <td>1496</td>\n",
       "      <td>{'id': '67d0c562-fb00-4228-aa08-e504a8077c38',...</td>\n",
       "      <td>NaN</td>\n",
       "    </tr>\n",
       "    <tr>\n",
       "      <th>1</th>\n",
       "      <td>1496</td>\n",
       "      <td>{'id': '9798263d-96a3-4e35-9ba2-f15c6f6402d8',...</td>\n",
       "      <td>NaN</td>\n",
       "    </tr>\n",
       "    <tr>\n",
       "      <th>2</th>\n",
       "      <td>1496</td>\n",
       "      <td>{'id': '885d953e-a29a-4323-96d8-f149d3e512c7',...</td>\n",
       "      <td>NaN</td>\n",
       "    </tr>\n",
       "    <tr>\n",
       "      <th>3</th>\n",
       "      <td>1496</td>\n",
       "      <td>{'id': '6a660958-f5c7-44ce-83de-d165263c8986',...</td>\n",
       "      <td>NaN</td>\n",
       "    </tr>\n",
       "    <tr>\n",
       "      <th>4</th>\n",
       "      <td>1496</td>\n",
       "      <td>{'id': 'fb259cf7-ec19-459b-a6ad-2254689b14c3',...</td>\n",
       "      <td>NaN</td>\n",
       "    </tr>\n",
       "  </tbody>\n",
       "</table>\n",
       "</div>"
      ],
      "text/plain": [
       "   total                                            results  seed\n",
       "0   1496  {'id': '67d0c562-fb00-4228-aa08-e504a8077c38',...   NaN\n",
       "1   1496  {'id': '9798263d-96a3-4e35-9ba2-f15c6f6402d8',...   NaN\n",
       "2   1496  {'id': '885d953e-a29a-4323-96d8-f149d3e512c7',...   NaN\n",
       "3   1496  {'id': '6a660958-f5c7-44ce-83de-d165263c8986',...   NaN\n",
       "4   1496  {'id': 'fb259cf7-ec19-459b-a6ad-2254689b14c3',...   NaN"
      ]
     },
     "execution_count": 2,
     "metadata": {},
     "output_type": "execute_result"
    }
   ],
   "source": [
    "data = pd.read_json(\"../data/raw/ensai_2024_req_tourisme_responsable.json\")\n",
    "data.head()"
   ]
  },
  {
   "cell_type": "markdown",
   "metadata": {},
   "source": [
    "## Arborescence et organisation du fichier json"
   ]
  },
  {
   "cell_type": "code",
   "execution_count": 3,
   "metadata": {},
   "outputs": [
    {
     "data": {
      "text/plain": [
       "{'id': '67d0c562-fb00-4228-aa08-e504a8077c38',\n",
       " 'userId': '93ef60de-5827-49f1-bd56-e1f580619540',\n",
       " 'content': \"Il faut favoriser le stationnement des véhicules de loisir proche des sites touristiques au même titre qu'un véhicule léger.\",\n",
       " 'contentLanguage': 'fr',\n",
       " 'translatedContent': None,\n",
       " 'translatedLanguage': None,\n",
       " 'slug': 'il-faut-favoriser-le-stationnement-des-vehicules-de-loisir-proche-des-sites-touristiques-au-meme-titre-qu-un-vehicule-leger',\n",
       " 'status': 'Accepted',\n",
       " 'createdAt': '2021-06-04T08:36:40.430Z',\n",
       " 'updatedAt': '2021-08-19T12:29:37.892Z',\n",
       " 'votes': [{'voteKey': 'agree',\n",
       "   'count': 46,\n",
       "   'score': 0.37,\n",
       "   'qualifications': [{'qualificationKey': 'likeIt',\n",
       "     'count': 8,\n",
       "     'hasQualified': False},\n",
       "    {'qualificationKey': 'platitudeAgree', 'count': 2, 'hasQualified': False},\n",
       "    {'qualificationKey': 'doable', 'count': 11, 'hasQualified': False}],\n",
       "   'hasVoted': False},\n",
       "  {'voteKey': 'neutral',\n",
       "   'count': 38,\n",
       "   'score': 0.37,\n",
       "   'qualifications': [{'qualificationKey': 'noOpinion',\n",
       "     'count': 6,\n",
       "     'hasQualified': False},\n",
       "    {'qualificationKey': 'doNotUnderstand',\n",
       "     'count': 13,\n",
       "     'hasQualified': False},\n",
       "    {'qualificationKey': 'doNotCare', 'count': 4, 'hasQualified': False}],\n",
       "   'hasVoted': False},\n",
       "  {'voteKey': 'disagree',\n",
       "   'count': 30,\n",
       "   'score': 0.26,\n",
       "   'qualifications': [{'qualificationKey': 'impossible',\n",
       "     'count': 4,\n",
       "     'hasQualified': False},\n",
       "    {'qualificationKey': 'noWay', 'count': 13, 'hasQualified': False},\n",
       "    {'qualificationKey': 'platitudeDisagree',\n",
       "     'count': 4,\n",
       "     'hasQualified': False}],\n",
       "   'hasVoted': False}],\n",
       " 'context': {'operation': None,\n",
       "  'source': 'core',\n",
       "  'location': 'page-participate 06ad8da3-9a66-4a55-81ed-ebb5b49cd090',\n",
       "  'questionSlug': None,\n",
       "  'country': 'FR',\n",
       "  'questionLanguage': None,\n",
       "  'proposalLanguage': None,\n",
       "  'clientLanguage': None,\n",
       "  'getParameters': []},\n",
       " 'author': {'firstName': 'Dominique',\n",
       "  'displayName': 'Dominique',\n",
       "  'organisationName': None,\n",
       "  'organisationSlug': None,\n",
       "  'postalCode': None,\n",
       "  'age': 64,\n",
       "  'avatarUrl': None,\n",
       "  'userType': 'USER'},\n",
       " 'organisations': [],\n",
       " 'tags': [{'tagId': '2e252647-586a-4e96-a7e9-0b0e57fae317',\n",
       "   'label': 'Autres acteurs',\n",
       "   'display': False},\n",
       "  {'tagId': '30a6cf35-293d-46bc-a698-8c2ab896cbd8',\n",
       "   'label': 'Autres solutions',\n",
       "   'display': False},\n",
       "  {'tagId': '6c315e64-a61b-474a-9a14-3d84b836965e',\n",
       "   'label': 'Sites touristiques',\n",
       "   'display': True}],\n",
       " 'selectedStakeTag': {'tagId': '6c315e64-a61b-474a-9a14-3d84b836965e',\n",
       "  'label': 'Sites touristiques',\n",
       "  'display': True},\n",
       " 'myProposal': False,\n",
       " 'idea': '5f99fe43-31dc-4aea-a68f-5f11e1f10d56',\n",
       " 'question': {'questionId': '06ad8da3-9a66-4a55-81ed-ebb5b49cd090',\n",
       "  'slug': 'tourisme-responsable',\n",
       "  'wording': {'title': 'Tourisme Responsable',\n",
       "   'question': 'Comment agir pour un tourisme plus responsable en France ?'},\n",
       "  'countries': ['FR', 'BE', 'CA', 'CH'],\n",
       "  'preferredLanguage': None,\n",
       "  'returnedLanguage': 'fr',\n",
       "  'startDate': '2021-05-10T07:00:00.000Z',\n",
       "  'endDate': '2021-06-20T16:00:00.000Z'},\n",
       " 'operationId': '216050aa-13ee-4a2b-bd81-41f934ad7997',\n",
       " 'proposalKey': '364345163e90268f43c81ff400d0955b135590045eab7257aa71f716f1e474f0857878ce2a36ad48db6bfd24c38ed934bfc8a049f05c404358bdf5d2b7435a3c',\n",
       " 'keywords': [{'key': 'véhicule', 'label': 'véhicule'},\n",
       "  {'key': 'titre', 'label': 'titre'},\n",
       "  {'key': 'même titre', 'label': 'même titre'},\n",
       "  {'key': 'stationnement', 'label': 'stationnement'},\n",
       "  {'key': 'loisir', 'label': 'loisir'},\n",
       "  {'key': 'touristique', 'label': 'touristiques'},\n",
       "  {'key': 'loisir proche', 'label': 'loisir proche'},\n",
       "  {'key': 'véhicule de loisir', 'label': 'véhicules de loisir'},\n",
       "  {'key': 'site', 'label': 'sites'},\n",
       "  {'key': 'légère', 'label': 'léger'},\n",
       "  {'key': 'véhicule proche', 'label': 'véhicules proche'},\n",
       "  {'key': 'véhicule légère', 'label': 'véhicule léger'},\n",
       "  {'key': 'véhicule', 'label': 'véhicules'},\n",
       "  {'key': 'site touristique', 'label': 'sites touristiques'}]}"
      ]
     },
     "execution_count": 3,
     "metadata": {},
     "output_type": "execute_result"
    }
   ],
   "source": [
    "data[\"results\"].iloc[0]"
   ]
  },
  {
   "cell_type": "markdown",
   "metadata": {},
   "source": [
    "## Sélection et réorganisation en dataframe\n",
    "\n",
    "On ne va sélectionner que les informations :\n",
    "- Content : le contenu de la proposition citoyenne\n",
    "- contentLanguage : la langue dans laquelle la proposition est écrite\n",
    "- votes :\n",
    "    - votekey : agree, disagree, neutral\n",
    "        - count : le décompte du nombre de votes soit agree, soit disagree, soit neutral\n",
    "        - qualificationkey : correspond à des sous-votes\n",
    "            - likeIt, platitudeagree, doable, ce sont les sous-catégories de agree\n",
    "            - noOpinion, doNotUnderstand, doNotCare, ce sont les sous-catégories de neutral\n",
    "            - impossible, noWay, platitudeDisagree, ce sont les sous-catégories de disagree\n",
    "            - count : le decompte pour chque sous vote, quand il y en a\n",
    "NB : platitudeagree, c'est banalité\n",
    "\n",
    "### Traitement pour les votes"
   ]
  },
  {
   "cell_type": "code",
   "execution_count": 4,
   "metadata": {},
   "outputs": [],
   "source": [
    "votes = pd.json_normalize(\n",
    "    data[\"results\"],\n",
    "    record_path=[\"votes\"],\n",
    "    meta=[\"id\", \"content\", \"contentLanguage\"]\n",
    ")\n",
    "\n",
    "# Pivot pour obtenir une colonne par voteKey (agree.count, agree.score, ...)\n",
    "votes = votes.pivot_table(\n",
    "    index=[\"id\", \"content\", \"contentLanguage\"],\n",
    "    columns=\"voteKey\",\n",
    "    values=[\"count\", \"score\"],\n",
    "    aggfunc=\"first\"\n",
    ").reset_index()\n",
    "\n",
    "# Renommer colonnes (count.agree → agree.count)\n",
    "votes.columns = [\n",
    "    f\"{col[1]}_{col[0]}\" if col[1] else col[0]\n",
    "    for col in votes.columns\n",
    "]\n"
   ]
  },
  {
   "cell_type": "code",
   "execution_count": 5,
   "metadata": {},
   "outputs": [
    {
     "data": {
      "text/html": [
       "<div>\n",
       "<style scoped>\n",
       "    .dataframe tbody tr th:only-of-type {\n",
       "        vertical-align: middle;\n",
       "    }\n",
       "\n",
       "    .dataframe tbody tr th {\n",
       "        vertical-align: top;\n",
       "    }\n",
       "\n",
       "    .dataframe thead th {\n",
       "        text-align: right;\n",
       "    }\n",
       "</style>\n",
       "<table border=\"1\" class=\"dataframe\">\n",
       "  <thead>\n",
       "    <tr style=\"text-align: right;\">\n",
       "      <th></th>\n",
       "      <th>id</th>\n",
       "      <th>content</th>\n",
       "      <th>contentLanguage</th>\n",
       "      <th>agree_count</th>\n",
       "      <th>disagree_count</th>\n",
       "      <th>neutral_count</th>\n",
       "      <th>agree_score</th>\n",
       "      <th>disagree_score</th>\n",
       "      <th>neutral_score</th>\n",
       "    </tr>\n",
       "  </thead>\n",
       "  <tbody>\n",
       "    <tr>\n",
       "      <th>0</th>\n",
       "      <td>001b47e6-e6da-4850-859d-311e213924cf</td>\n",
       "      <td>Il faut une surveillance des lieux touristique...</td>\n",
       "      <td>fr</td>\n",
       "      <td>27</td>\n",
       "      <td>7</td>\n",
       "      <td>7</td>\n",
       "      <td>0.65</td>\n",
       "      <td>0.18</td>\n",
       "      <td>0.17</td>\n",
       "    </tr>\n",
       "    <tr>\n",
       "      <th>1</th>\n",
       "      <td>0087d988-b571-4e81-b68d-44d259dd61b4</td>\n",
       "      <td>Il faut donner des sacs poubelles et des cendr...</td>\n",
       "      <td>fr</td>\n",
       "      <td>56</td>\n",
       "      <td>18</td>\n",
       "      <td>15</td>\n",
       "      <td>0.62</td>\n",
       "      <td>0.19</td>\n",
       "      <td>0.19</td>\n",
       "    </tr>\n",
       "    <tr>\n",
       "      <th>2</th>\n",
       "      <td>00a3341d-4463-4660-a516-2f5a0237abe6</td>\n",
       "      <td>Il faut récompenser et mettre en avant les act...</td>\n",
       "      <td>fr</td>\n",
       "      <td>35</td>\n",
       "      <td>7</td>\n",
       "      <td>14</td>\n",
       "      <td>0.62</td>\n",
       "      <td>0.13</td>\n",
       "      <td>0.25</td>\n",
       "    </tr>\n",
       "  </tbody>\n",
       "</table>\n",
       "</div>"
      ],
      "text/plain": [
       "                                     id  \\\n",
       "0  001b47e6-e6da-4850-859d-311e213924cf   \n",
       "1  0087d988-b571-4e81-b68d-44d259dd61b4   \n",
       "2  00a3341d-4463-4660-a516-2f5a0237abe6   \n",
       "\n",
       "                                             content contentLanguage  \\\n",
       "0  Il faut une surveillance des lieux touristique...              fr   \n",
       "1  Il faut donner des sacs poubelles et des cendr...              fr   \n",
       "2  Il faut récompenser et mettre en avant les act...              fr   \n",
       "\n",
       "   agree_count  disagree_count  neutral_count  agree_score  disagree_score  \\\n",
       "0           27               7              7         0.65            0.18   \n",
       "1           56              18             15         0.62            0.19   \n",
       "2           35               7             14         0.62            0.13   \n",
       "\n",
       "   neutral_score  \n",
       "0           0.17  \n",
       "1           0.19  \n",
       "2           0.25  "
      ]
     },
     "execution_count": 5,
     "metadata": {},
     "output_type": "execute_result"
    }
   ],
   "source": [
    "votes.head(3)"
   ]
  },
  {
   "cell_type": "markdown",
   "metadata": {},
   "source": [
    "### Traitement pour les qualifications"
   ]
  },
  {
   "cell_type": "code",
   "execution_count": 6,
   "metadata": {},
   "outputs": [],
   "source": [
    "qualif = pd.json_normalize(\n",
    "    data['results'],\n",
    "    record_path=[\"votes\", \"qualifications\"],\n",
    "    meta=['id']\n",
    ")\n",
    "\n",
    "# Pivot qualifications\n",
    "qualif = qualif.pivot_table(\n",
    "    index=[\"id\"],\n",
    "    columns=[\"qualificationKey\"],\n",
    "    values=\"count\",\n",
    "    aggfunc=\"first\"\n",
    ").reset_index()"
   ]
  },
  {
   "cell_type": "code",
   "execution_count": 7,
   "metadata": {},
   "outputs": [
    {
     "data": {
      "text/html": [
       "<div>\n",
       "<style scoped>\n",
       "    .dataframe tbody tr th:only-of-type {\n",
       "        vertical-align: middle;\n",
       "    }\n",
       "\n",
       "    .dataframe tbody tr th {\n",
       "        vertical-align: top;\n",
       "    }\n",
       "\n",
       "    .dataframe thead th {\n",
       "        text-align: right;\n",
       "    }\n",
       "</style>\n",
       "<table border=\"1\" class=\"dataframe\">\n",
       "  <thead>\n",
       "    <tr style=\"text-align: right;\">\n",
       "      <th>qualificationKey</th>\n",
       "      <th>id</th>\n",
       "      <th>doNotCare</th>\n",
       "      <th>doNotUnderstand</th>\n",
       "      <th>doable</th>\n",
       "      <th>impossible</th>\n",
       "      <th>likeIt</th>\n",
       "      <th>noOpinion</th>\n",
       "      <th>noWay</th>\n",
       "      <th>platitudeAgree</th>\n",
       "      <th>platitudeDisagree</th>\n",
       "    </tr>\n",
       "  </thead>\n",
       "  <tbody>\n",
       "    <tr>\n",
       "      <th>0</th>\n",
       "      <td>001b47e6-e6da-4850-859d-311e213924cf</td>\n",
       "      <td>1</td>\n",
       "      <td>0</td>\n",
       "      <td>8</td>\n",
       "      <td>2</td>\n",
       "      <td>2</td>\n",
       "      <td>0</td>\n",
       "      <td>3</td>\n",
       "      <td>3</td>\n",
       "      <td>4</td>\n",
       "    </tr>\n",
       "    <tr>\n",
       "      <th>1</th>\n",
       "      <td>0087d988-b571-4e81-b68d-44d259dd61b4</td>\n",
       "      <td>0</td>\n",
       "      <td>0</td>\n",
       "      <td>21</td>\n",
       "      <td>6</td>\n",
       "      <td>6</td>\n",
       "      <td>5</td>\n",
       "      <td>4</td>\n",
       "      <td>5</td>\n",
       "      <td>7</td>\n",
       "    </tr>\n",
       "    <tr>\n",
       "      <th>2</th>\n",
       "      <td>00a3341d-4463-4660-a516-2f5a0237abe6</td>\n",
       "      <td>0</td>\n",
       "      <td>5</td>\n",
       "      <td>12</td>\n",
       "      <td>2</td>\n",
       "      <td>2</td>\n",
       "      <td>2</td>\n",
       "      <td>3</td>\n",
       "      <td>1</td>\n",
       "      <td>5</td>\n",
       "    </tr>\n",
       "  </tbody>\n",
       "</table>\n",
       "</div>"
      ],
      "text/plain": [
       "qualificationKey                                    id  doNotCare  \\\n",
       "0                 001b47e6-e6da-4850-859d-311e213924cf          1   \n",
       "1                 0087d988-b571-4e81-b68d-44d259dd61b4          0   \n",
       "2                 00a3341d-4463-4660-a516-2f5a0237abe6          0   \n",
       "\n",
       "qualificationKey  doNotUnderstand  doable  impossible  likeIt  noOpinion  \\\n",
       "0                               0       8           2       2          0   \n",
       "1                               0      21           6       6          5   \n",
       "2                               5      12           2       2          2   \n",
       "\n",
       "qualificationKey  noWay  platitudeAgree  platitudeDisagree  \n",
       "0                     3               3                  4  \n",
       "1                     4               5                  7  \n",
       "2                     3               1                  5  "
      ]
     },
     "execution_count": 7,
     "metadata": {},
     "output_type": "execute_result"
    }
   ],
   "source": [
    "qualif.head(3)"
   ]
  },
  {
   "cell_type": "markdown",
   "metadata": {},
   "source": [
    "## Jointure (utilisation de merge) des votes et qualifications sur les ids"
   ]
  },
  {
   "cell_type": "code",
   "execution_count": 8,
   "metadata": {},
   "outputs": [],
   "source": [
    "df = votes.merge(\n",
    "    qualif,\n",
    "    left_on=[\"id\"],\n",
    "    right_on=[\"id\"]\n",
    ")"
   ]
  },
  {
   "cell_type": "code",
   "execution_count": 9,
   "metadata": {},
   "outputs": [
    {
     "data": {
      "text/html": [
       "<div>\n",
       "<style scoped>\n",
       "    .dataframe tbody tr th:only-of-type {\n",
       "        vertical-align: middle;\n",
       "    }\n",
       "\n",
       "    .dataframe tbody tr th {\n",
       "        vertical-align: top;\n",
       "    }\n",
       "\n",
       "    .dataframe thead th {\n",
       "        text-align: right;\n",
       "    }\n",
       "</style>\n",
       "<table border=\"1\" class=\"dataframe\">\n",
       "  <thead>\n",
       "    <tr style=\"text-align: right;\">\n",
       "      <th></th>\n",
       "      <th>id</th>\n",
       "      <th>content</th>\n",
       "      <th>contentLanguage</th>\n",
       "      <th>agree_count</th>\n",
       "      <th>disagree_count</th>\n",
       "      <th>neutral_count</th>\n",
       "      <th>agree_score</th>\n",
       "      <th>disagree_score</th>\n",
       "      <th>neutral_score</th>\n",
       "      <th>doNotCare</th>\n",
       "      <th>doNotUnderstand</th>\n",
       "      <th>doable</th>\n",
       "      <th>impossible</th>\n",
       "      <th>likeIt</th>\n",
       "      <th>noOpinion</th>\n",
       "      <th>noWay</th>\n",
       "      <th>platitudeAgree</th>\n",
       "      <th>platitudeDisagree</th>\n",
       "    </tr>\n",
       "  </thead>\n",
       "  <tbody>\n",
       "    <tr>\n",
       "      <th>0</th>\n",
       "      <td>001b47e6-e6da-4850-859d-311e213924cf</td>\n",
       "      <td>Il faut une surveillance des lieux touristique...</td>\n",
       "      <td>fr</td>\n",
       "      <td>27</td>\n",
       "      <td>7</td>\n",
       "      <td>7</td>\n",
       "      <td>0.65</td>\n",
       "      <td>0.18</td>\n",
       "      <td>0.17</td>\n",
       "      <td>1</td>\n",
       "      <td>0</td>\n",
       "      <td>8</td>\n",
       "      <td>2</td>\n",
       "      <td>2</td>\n",
       "      <td>0</td>\n",
       "      <td>3</td>\n",
       "      <td>3</td>\n",
       "      <td>4</td>\n",
       "    </tr>\n",
       "    <tr>\n",
       "      <th>1</th>\n",
       "      <td>0087d988-b571-4e81-b68d-44d259dd61b4</td>\n",
       "      <td>Il faut donner des sacs poubelles et des cendr...</td>\n",
       "      <td>fr</td>\n",
       "      <td>56</td>\n",
       "      <td>18</td>\n",
       "      <td>15</td>\n",
       "      <td>0.62</td>\n",
       "      <td>0.19</td>\n",
       "      <td>0.19</td>\n",
       "      <td>0</td>\n",
       "      <td>0</td>\n",
       "      <td>21</td>\n",
       "      <td>6</td>\n",
       "      <td>6</td>\n",
       "      <td>5</td>\n",
       "      <td>4</td>\n",
       "      <td>5</td>\n",
       "      <td>7</td>\n",
       "    </tr>\n",
       "    <tr>\n",
       "      <th>2</th>\n",
       "      <td>00a3341d-4463-4660-a516-2f5a0237abe6</td>\n",
       "      <td>Il faut récompenser et mettre en avant les act...</td>\n",
       "      <td>fr</td>\n",
       "      <td>35</td>\n",
       "      <td>7</td>\n",
       "      <td>14</td>\n",
       "      <td>0.62</td>\n",
       "      <td>0.13</td>\n",
       "      <td>0.25</td>\n",
       "      <td>0</td>\n",
       "      <td>5</td>\n",
       "      <td>12</td>\n",
       "      <td>2</td>\n",
       "      <td>2</td>\n",
       "      <td>2</td>\n",
       "      <td>3</td>\n",
       "      <td>1</td>\n",
       "      <td>5</td>\n",
       "    </tr>\n",
       "  </tbody>\n",
       "</table>\n",
       "</div>"
      ],
      "text/plain": [
       "                                     id  \\\n",
       "0  001b47e6-e6da-4850-859d-311e213924cf   \n",
       "1  0087d988-b571-4e81-b68d-44d259dd61b4   \n",
       "2  00a3341d-4463-4660-a516-2f5a0237abe6   \n",
       "\n",
       "                                             content contentLanguage  \\\n",
       "0  Il faut une surveillance des lieux touristique...              fr   \n",
       "1  Il faut donner des sacs poubelles et des cendr...              fr   \n",
       "2  Il faut récompenser et mettre en avant les act...              fr   \n",
       "\n",
       "   agree_count  disagree_count  neutral_count  agree_score  disagree_score  \\\n",
       "0           27               7              7         0.65            0.18   \n",
       "1           56              18             15         0.62            0.19   \n",
       "2           35               7             14         0.62            0.13   \n",
       "\n",
       "   neutral_score  doNotCare  doNotUnderstand  doable  impossible  likeIt  \\\n",
       "0           0.17          1                0       8           2       2   \n",
       "1           0.19          0                0      21           6       6   \n",
       "2           0.25          0                5      12           2       2   \n",
       "\n",
       "   noOpinion  noWay  platitudeAgree  platitudeDisagree  \n",
       "0          0      3               3                  4  \n",
       "1          5      4               5                  7  \n",
       "2          2      3               1                  5  "
      ]
     },
     "execution_count": 9,
     "metadata": {},
     "output_type": "execute_result"
    }
   ],
   "source": [
    "df.head(3)"
   ]
  },
  {
   "cell_type": "markdown",
   "metadata": {},
   "source": [
    "## Filtrage des propositions françaises et suppressions des colonnes inutiles (id et contentLanguage)"
   ]
  },
  {
   "cell_type": "code",
   "execution_count": 10,
   "metadata": {},
   "outputs": [
    {
     "data": {
      "text/plain": [
       "contentLanguage\n",
       "fr    1493\n",
       "en       3\n",
       "Name: count, dtype: int64"
      ]
     },
     "execution_count": 10,
     "metadata": {},
     "output_type": "execute_result"
    }
   ],
   "source": [
    "df['contentLanguage'].value_counts()"
   ]
  },
  {
   "cell_type": "code",
   "execution_count": 11,
   "metadata": {},
   "outputs": [],
   "source": [
    "df = df[df['contentLanguage'] == 'fr'].drop(columns=['id', 'contentLanguage'])"
   ]
  },
  {
   "cell_type": "markdown",
   "metadata": {},
   "source": [
    "## Création de plusieurs colonnes :\n",
    "- colonne pour le decompte de \"?\"\n",
    "- colonne pour le decompte de \"!\"\n",
    "- colonne pour le decompte de smiley"
   ]
  },
  {
   "cell_type": "code",
   "execution_count": 12,
   "metadata": {},
   "outputs": [],
   "source": [
    "# Compter le nombre de '?' dans chaque élément de la colonne 'content'\n",
    "df['nb_interrogations'] = df['content'].str.count(r'\\?')\n",
    "\n",
    "# Compter le nombre de '!' dans chaque élément de la colonne 'content'\n",
    "df['nb_exclamation'] = df['content'].str.count(r'!')"
   ]
  },
  {
   "cell_type": "markdown",
   "metadata": {},
   "source": [
    "### Petite fonction pour le cas de figure des emoji"
   ]
  },
  {
   "cell_type": "code",
   "execution_count": 13,
   "metadata": {},
   "outputs": [],
   "source": [
    "def compter_emojis_smileys(texte:str) -> int:\n",
    "    # Compter les emojis Unicode avec le package emoji\n",
    "    nb_unicode = emoji.emoji_count(texte)\n",
    "    \n",
    "    # Compter les smileys ASCII classiques (ex: :), ;-), :D, etc.)\n",
    "    ascii_smiley_regex = r'[:;=8][-^]?[)DdpP3/\\\\(|]'\n",
    "    nb_ascii = len(re.findall(ascii_smiley_regex, texte))\n",
    "    \n",
    "    # Compter les emojis personnalisés type :nom:\n",
    "    custom_emoji_regex = r':[^\\s:]{1,20}:'\n",
    "    nb_custom = len(re.findall(custom_emoji_regex, texte))\n",
    "    \n",
    "    # Total\n",
    "    nb_total = nb_unicode + nb_ascii + nb_custom\n",
    "\n",
    "    return nb_total"
   ]
  },
  {
   "cell_type": "code",
   "execution_count": 14,
   "metadata": {},
   "outputs": [],
   "source": [
    "# Compter le nombre d'emoji\n",
    "df['nb_emoji'] = df['content'].apply(compter_emojis_smileys)"
   ]
  },
  {
   "cell_type": "code",
   "execution_count": 15,
   "metadata": {},
   "outputs": [
    {
     "data": {
      "text/html": [
       "<div>\n",
       "<style scoped>\n",
       "    .dataframe tbody tr th:only-of-type {\n",
       "        vertical-align: middle;\n",
       "    }\n",
       "\n",
       "    .dataframe tbody tr th {\n",
       "        vertical-align: top;\n",
       "    }\n",
       "\n",
       "    .dataframe thead th {\n",
       "        text-align: right;\n",
       "    }\n",
       "</style>\n",
       "<table border=\"1\" class=\"dataframe\">\n",
       "  <thead>\n",
       "    <tr style=\"text-align: right;\">\n",
       "      <th></th>\n",
       "      <th>content</th>\n",
       "      <th>agree_count</th>\n",
       "      <th>disagree_count</th>\n",
       "      <th>neutral_count</th>\n",
       "      <th>agree_score</th>\n",
       "      <th>disagree_score</th>\n",
       "      <th>neutral_score</th>\n",
       "      <th>doNotCare</th>\n",
       "      <th>doNotUnderstand</th>\n",
       "      <th>doable</th>\n",
       "      <th>impossible</th>\n",
       "      <th>likeIt</th>\n",
       "      <th>noOpinion</th>\n",
       "      <th>noWay</th>\n",
       "      <th>platitudeAgree</th>\n",
       "      <th>platitudeDisagree</th>\n",
       "      <th>nb_interrogations</th>\n",
       "      <th>nb_exclamation</th>\n",
       "      <th>nb_emoji</th>\n",
       "    </tr>\n",
       "  </thead>\n",
       "  <tbody>\n",
       "    <tr>\n",
       "      <th>0</th>\n",
       "      <td>Il faut une surveillance des lieux touristique...</td>\n",
       "      <td>27</td>\n",
       "      <td>7</td>\n",
       "      <td>7</td>\n",
       "      <td>0.65</td>\n",
       "      <td>0.18</td>\n",
       "      <td>0.17</td>\n",
       "      <td>1</td>\n",
       "      <td>0</td>\n",
       "      <td>8</td>\n",
       "      <td>2</td>\n",
       "      <td>2</td>\n",
       "      <td>0</td>\n",
       "      <td>3</td>\n",
       "      <td>3</td>\n",
       "      <td>4</td>\n",
       "      <td>0</td>\n",
       "      <td>0</td>\n",
       "      <td>0</td>\n",
       "    </tr>\n",
       "    <tr>\n",
       "      <th>1</th>\n",
       "      <td>Il faut donner des sacs poubelles et des cendr...</td>\n",
       "      <td>56</td>\n",
       "      <td>18</td>\n",
       "      <td>15</td>\n",
       "      <td>0.62</td>\n",
       "      <td>0.19</td>\n",
       "      <td>0.19</td>\n",
       "      <td>0</td>\n",
       "      <td>0</td>\n",
       "      <td>21</td>\n",
       "      <td>6</td>\n",
       "      <td>6</td>\n",
       "      <td>5</td>\n",
       "      <td>4</td>\n",
       "      <td>5</td>\n",
       "      <td>7</td>\n",
       "      <td>0</td>\n",
       "      <td>0</td>\n",
       "      <td>0</td>\n",
       "    </tr>\n",
       "    <tr>\n",
       "      <th>2</th>\n",
       "      <td>Il faut récompenser et mettre en avant les act...</td>\n",
       "      <td>35</td>\n",
       "      <td>7</td>\n",
       "      <td>14</td>\n",
       "      <td>0.62</td>\n",
       "      <td>0.13</td>\n",
       "      <td>0.25</td>\n",
       "      <td>0</td>\n",
       "      <td>5</td>\n",
       "      <td>12</td>\n",
       "      <td>2</td>\n",
       "      <td>2</td>\n",
       "      <td>2</td>\n",
       "      <td>3</td>\n",
       "      <td>1</td>\n",
       "      <td>5</td>\n",
       "      <td>0</td>\n",
       "      <td>0</td>\n",
       "      <td>0</td>\n",
       "    </tr>\n",
       "  </tbody>\n",
       "</table>\n",
       "</div>"
      ],
      "text/plain": [
       "                                             content  agree_count  \\\n",
       "0  Il faut une surveillance des lieux touristique...           27   \n",
       "1  Il faut donner des sacs poubelles et des cendr...           56   \n",
       "2  Il faut récompenser et mettre en avant les act...           35   \n",
       "\n",
       "   disagree_count  neutral_count  agree_score  disagree_score  neutral_score  \\\n",
       "0               7              7         0.65            0.18           0.17   \n",
       "1              18             15         0.62            0.19           0.19   \n",
       "2               7             14         0.62            0.13           0.25   \n",
       "\n",
       "   doNotCare  doNotUnderstand  doable  impossible  likeIt  noOpinion  noWay  \\\n",
       "0          1                0       8           2       2          0      3   \n",
       "1          0                0      21           6       6          5      4   \n",
       "2          0                5      12           2       2          2      3   \n",
       "\n",
       "   platitudeAgree  platitudeDisagree  nb_interrogations  nb_exclamation  \\\n",
       "0               3                  4                  0               0   \n",
       "1               5                  7                  0               0   \n",
       "2               1                  5                  0               0   \n",
       "\n",
       "   nb_emoji  \n",
       "0         0  \n",
       "1         0  \n",
       "2         0  "
      ]
     },
     "execution_count": 15,
     "metadata": {},
     "output_type": "execute_result"
    }
   ],
   "source": [
    "df.head(3)"
   ]
  },
  {
   "cell_type": "code",
   "execution_count": 16,
   "metadata": {},
   "outputs": [
    {
     "data": {
      "text/plain": [
       "nb_interrogations\n",
       "0    1483\n",
       "1       9\n",
       "2       1\n",
       "Name: count, dtype: int64"
      ]
     },
     "metadata": {},
     "output_type": "display_data"
    },
    {
     "data": {
      "text/plain": [
       "nb_exclamation\n",
       "0    1454\n",
       "1      34\n",
       "2       4\n",
       "3       1\n",
       "Name: count, dtype: int64"
      ]
     },
     "metadata": {},
     "output_type": "display_data"
    },
    {
     "data": {
      "text/plain": [
       "nb_emoji\n",
       "0    1493\n",
       "Name: count, dtype: int64"
      ]
     },
     "metadata": {},
     "output_type": "display_data"
    }
   ],
   "source": [
    "display(df['nb_interrogations'].value_counts())\n",
    "display(df['nb_exclamation'].value_counts())\n",
    "display(df['nb_emoji'].value_counts())"
   ]
  },
  {
   "cell_type": "markdown",
   "metadata": {},
   "source": [
    "## Suppression du décompte de smiley (aucun smiley) et dedoublonnage préventif avant sauvegarde"
   ]
  },
  {
   "cell_type": "code",
   "execution_count": 17,
   "metadata": {},
   "outputs": [
    {
     "data": {
      "text/plain": [
       "(1493, 18)"
      ]
     },
     "execution_count": 17,
     "metadata": {},
     "output_type": "execute_result"
    }
   ],
   "source": [
    "df = df.drop(columns='nb_emoji', axis = 1).drop_duplicates()\n",
    "df.shape"
   ]
  },
  {
   "cell_type": "markdown",
   "metadata": {},
   "source": [
    "## Sauvegarde du dataframe"
   ]
  },
  {
   "cell_type": "code",
   "execution_count": 18,
   "metadata": {},
   "outputs": [],
   "source": [
    "# Repertoire de sauvegarde\n",
    "savepath = \"../data/processed\"\n",
    "\n",
    "# Test de l'existence du répertoire\n",
    "if not os.path.exists(savepath):\n",
    "    # Création du répertoire s'il n'existe pas\n",
    "    os.makedirs(savepath)\n",
    "\n",
    "# Sauvegarde des jeux de données\n",
    "df.to_csv(\n",
    "    path_or_buf=os.path.join(savepath, \"req_tourisme_responsable.csv\"),\n",
    "    sep=\";\",\n",
    "    encoding=\"utf-8\",\n",
    "    index_label=False\n",
    ")"
   ]
  }
 ],
 "metadata": {
  "kernelspec": {
   "display_name": "tourisme-vert-env",
   "language": "python",
   "name": "python3"
  },
  "language_info": {
   "codemirror_mode": {
    "name": "ipython",
    "version": 3
   },
   "file_extension": ".py",
   "mimetype": "text/x-python",
   "name": "python",
   "nbconvert_exporter": "python",
   "pygments_lexer": "ipython3",
   "version": "3.11.11"
  }
 },
 "nbformat": 4,
 "nbformat_minor": 2
}
